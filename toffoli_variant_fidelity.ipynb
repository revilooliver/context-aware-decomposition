{
 "cells": [
  {
   "cell_type": "code",
   "execution_count": 1,
   "id": "39f38c57",
   "metadata": {},
   "outputs": [
    {
     "data": {
      "text/plain": [
       "{'qiskit-terra': '0.20.0.dev0+3562e26', 'qiskit-aer': '0.9.1', 'qiskit-ignis': None, 'qiskit-ibmq-provider': '0.19.0.dev0+8455b01', 'qiskit-aqua': None, 'qiskit': None, 'qiskit-nature': None, 'qiskit-finance': None, 'qiskit-optimization': None, 'qiskit-machine-learning': None}"
      ]
     },
     "execution_count": 1,
     "metadata": {},
     "output_type": "execute_result"
    }
   ],
   "source": [
    "from qiskit import IBMQ\n",
    "import qiskit\n",
    "qiskit.__qiskit_version__"
   ]
  },
  {
   "cell_type": "code",
   "execution_count": 2,
   "id": "c4a427a7",
   "metadata": {},
   "outputs": [
    {
     "data": {
      "text/plain": [
       "[<IBMQSimulator('ibmq_qasm_simulator') from IBMQ(hub='ibm-q-ornl', group='anl', project='csc430')>,\n",
       " <IBMQBackend('ibmq_armonk') from IBMQ(hub='ibm-q-ornl', group='anl', project='csc430')>,\n",
       " <IBMQBackend('ibmq_montreal') from IBMQ(hub='ibm-q-ornl', group='anl', project='csc430')>,\n",
       " <IBMQBackend('ibmq_toronto') from IBMQ(hub='ibm-q-ornl', group='anl', project='csc430')>,\n",
       " <IBMQBackend('ibmq_santiago') from IBMQ(hub='ibm-q-ornl', group='anl', project='csc430')>,\n",
       " <IBMQBackend('ibmq_bogota') from IBMQ(hub='ibm-q-ornl', group='anl', project='csc430')>,\n",
       " <IBMQBackend('ibmq_casablanca') from IBMQ(hub='ibm-q-ornl', group='anl', project='csc430')>,\n",
       " <IBMQBackend('ibmq_sydney') from IBMQ(hub='ibm-q-ornl', group='anl', project='csc430')>,\n",
       " <IBMQBackend('ibmq_mumbai') from IBMQ(hub='ibm-q-ornl', group='anl', project='csc430')>,\n",
       " <IBMQBackend('ibmq_lima') from IBMQ(hub='ibm-q-ornl', group='anl', project='csc430')>,\n",
       " <IBMQBackend('ibmq_belem') from IBMQ(hub='ibm-q-ornl', group='anl', project='csc430')>,\n",
       " <IBMQBackend('ibmq_quito') from IBMQ(hub='ibm-q-ornl', group='anl', project='csc430')>,\n",
       " <IBMQBackend('ibmq_guadalupe') from IBMQ(hub='ibm-q-ornl', group='anl', project='csc430')>,\n",
       " <IBMQSimulator('simulator_statevector') from IBMQ(hub='ibm-q-ornl', group='anl', project='csc430')>,\n",
       " <IBMQSimulator('simulator_mps') from IBMQ(hub='ibm-q-ornl', group='anl', project='csc430')>,\n",
       " <IBMQSimulator('simulator_extended_stabilizer') from IBMQ(hub='ibm-q-ornl', group='anl', project='csc430')>,\n",
       " <IBMQSimulator('simulator_stabilizer') from IBMQ(hub='ibm-q-ornl', group='anl', project='csc430')>,\n",
       " <IBMQBackend('ibmq_brooklyn') from IBMQ(hub='ibm-q-ornl', group='anl', project='csc430')>,\n",
       " <IBMQBackend('ibmq_jakarta') from IBMQ(hub='ibm-q-ornl', group='anl', project='csc430')>,\n",
       " <IBMQBackend('ibmq_manila') from IBMQ(hub='ibm-q-ornl', group='anl', project='csc430')>]"
      ]
     },
     "execution_count": 2,
     "metadata": {},
     "output_type": "execute_result"
    }
   ],
   "source": [
    "provider = IBMQ.load_account()\n",
    "provider = IBMQ.get_provider(hub='ibm-q-ornl', group='anl', project='csc430')\n",
    "provider.backends()"
   ]
  },
  {
   "cell_type": "code",
   "execution_count": 3,
   "id": "f4a3f44e",
   "metadata": {},
   "outputs": [],
   "source": [
    "import math\n",
    "import numpy as np\n",
    "import random\n",
    "import re\n",
    "import qiskit.tools.jupyter\n",
    "\n",
    "from qiskit import *\n",
    "from qiskit.compiler import transpile\n",
    "from qiskit.visualization import plot_histogram\n",
    "from qiskit.tools.monitor import job_monitor\n",
    "\n",
    "from qiskit.transpiler import PassManager\n",
    "from qiskit.transpiler import CouplingMap, Layout\n",
    "from qiskit.transpiler.passes import StochasticSwap, BasicSwap\n",
    "\n",
    "from qiskit.tools.monitor import job_monitor, backend_monitor, backend_overview\n",
    "%matplotlib inline\n",
    "\n",
    "from qiskit.providers.aer import AerSimulator"
   ]
  },
  {
   "cell_type": "code",
   "execution_count": 4,
   "id": "ccfe417b",
   "metadata": {},
   "outputs": [
    {
     "name": "stdout",
     "output_type": "stream",
     "text": [
      "ibmq_casablanca\n",
      "===============\n",
      "Configuration\n",
      "-------------\n",
      "    n_qubits: 7\n",
      "    operational: True\n",
      "    status_msg: dedicated\n",
      "    pending_jobs: 10\n",
      "    backend_version: 1.2.49\n",
      "    basis_gates: ['id', 'rz', 'sx', 'x', 'cx', 'reset']\n",
      "    local: False\n",
      "    simulator: False\n",
      "    supported_instructions: ['u1', 'setf', 'measure', 'delay', 'u3', 'id', 'play', 'x', 'shiftf', 'rz', 'cx', 'sx', 'reset', 'acquire', 'u2']\n",
      "    supported_features: ['q', 'o', 'b', 'j']\n",
      "    dt: 0.2222222222222222\n",
      "    conditional: False\n",
      "    pulse_num_qubits: 3\n",
      "    channels: {'acquire0': {'operates': {'qubits': [0]}, 'purpose': 'acquire', 'type': 'acquire'}, 'acquire1': {'operates': {'qubits': [1]}, 'purpose': 'acquire', 'type': 'acquire'}, 'acquire2': {'operates': {'qubits': [2]}, 'purpose': 'acquire', 'type': 'acquire'}, 'acquire3': {'operates': {'qubits': [3]}, 'purpose': 'acquire', 'type': 'acquire'}, 'acquire4': {'operates': {'qubits': [4]}, 'purpose': 'acquire', 'type': 'acquire'}, 'acquire5': {'operates': {'qubits': [5]}, 'purpose': 'acquire', 'type': 'acquire'}, 'acquire6': {'operates': {'qubits': [6]}, 'purpose': 'acquire', 'type': 'acquire'}, 'd0': {'operates': {'qubits': [0]}, 'purpose': 'drive', 'type': 'drive'}, 'd1': {'operates': {'qubits': [1]}, 'purpose': 'drive', 'type': 'drive'}, 'd2': {'operates': {'qubits': [2]}, 'purpose': 'drive', 'type': 'drive'}, 'd3': {'operates': {'qubits': [3]}, 'purpose': 'drive', 'type': 'drive'}, 'd4': {'operates': {'qubits': [4]}, 'purpose': 'drive', 'type': 'drive'}, 'd5': {'operates': {'qubits': [5]}, 'purpose': 'drive', 'type': 'drive'}, 'd6': {'operates': {'qubits': [6]}, 'purpose': 'drive', 'type': 'drive'}, 'm0': {'operates': {'qubits': [0]}, 'purpose': 'measure', 'type': 'measure'}, 'm1': {'operates': {'qubits': [1]}, 'purpose': 'measure', 'type': 'measure'}, 'm2': {'operates': {'qubits': [2]}, 'purpose': 'measure', 'type': 'measure'}, 'm3': {'operates': {'qubits': [3]}, 'purpose': 'measure', 'type': 'measure'}, 'm4': {'operates': {'qubits': [4]}, 'purpose': 'measure', 'type': 'measure'}, 'm5': {'operates': {'qubits': [5]}, 'purpose': 'measure', 'type': 'measure'}, 'm6': {'operates': {'qubits': [6]}, 'purpose': 'measure', 'type': 'measure'}, 'u0': {'operates': {'qubits': [0, 1]}, 'purpose': 'cross-resonance', 'type': 'control'}, 'u1': {'operates': {'qubits': [1, 0]}, 'purpose': 'cross-resonance', 'type': 'control'}, 'u10': {'operates': {'qubits': [5, 6]}, 'purpose': 'cross-resonance', 'type': 'control'}, 'u11': {'operates': {'qubits': [6, 5]}, 'purpose': 'cross-resonance', 'type': 'control'}, 'u2': {'operates': {'qubits': [1, 2]}, 'purpose': 'cross-resonance', 'type': 'control'}, 'u3': {'operates': {'qubits': [1, 3]}, 'purpose': 'cross-resonance', 'type': 'control'}, 'u4': {'operates': {'qubits': [2, 1]}, 'purpose': 'cross-resonance', 'type': 'control'}, 'u5': {'operates': {'qubits': [3, 1]}, 'purpose': 'cross-resonance', 'type': 'control'}, 'u6': {'operates': {'qubits': [3, 5]}, 'purpose': 'cross-resonance', 'type': 'control'}, 'u7': {'operates': {'qubits': [4, 5]}, 'purpose': 'cross-resonance', 'type': 'control'}, 'u8': {'operates': {'qubits': [5, 3]}, 'purpose': 'cross-resonance', 'type': 'control'}, 'u9': {'operates': {'qubits': [5, 4]}, 'purpose': 'cross-resonance', 'type': 'control'}}\n",
      "    allow_object_storage: True\n",
      "    url: None\n",
      "    u_channel_lo: [[{'q': 1, 'scale': (1+0j)}], [{'q': 0, 'scale': (1+0j)}], [{'q': 2, 'scale': (1+0j)}], [{'q': 3, 'scale': (1+0j)}], [{'q': 1, 'scale': (1+0j)}], [{'q': 1, 'scale': (1+0j)}], [{'q': 5, 'scale': (1+0j)}], [{'q': 5, 'scale': (1+0j)}], [{'q': 3, 'scale': (1+0j)}], [{'q': 4, 'scale': (1+0j)}], [{'q': 6, 'scale': (1+0j)}], [{'q': 5, 'scale': (1+0j)}]]\n",
      "    rep_delay_range: [0.0, 500.0]\n",
      "    coupling_map: [[0, 1], [1, 0], [1, 2], [1, 3], [2, 1], [3, 1], [3, 5], [4, 5], [5, 3], [5, 4], [5, 6], [6, 5]]\n",
      "    n_registers: 1\n",
      "    meas_levels: [1, 2]\n",
      "    discriminators: ['linear_discriminator', 'hw_qmfk', 'quadratic_discriminator']\n",
      "    meas_kernels: ['hw_qmfk']\n",
      "    default_rep_delay: 250.0\n",
      "    max_experiments: 300\n",
      "    n_uchannels: 12\n",
      "    rep_times: [1000.0]\n",
      "    open_pulse: True\n",
      "    dtm: 0.2222222222222222\n",
      "    pulse_num_channels: 9\n",
      "    online_date: 2020-08-07 04:00:00+00:00\n",
      "    quantum_volume: 32\n",
      "    allow_q_object: True\n",
      "    meas_map: [[0, 1, 2, 3, 4, 5, 6]]\n",
      "    memory: True\n",
      "    backend_name: ibmq_casablanca\n",
      "    qubit_lo_range: [[4.3219113547877726, 5.3219113547877726], [4.259773655273229, 5.259773655273229], [4.40631373219178, 5.40631373219178], [4.3791195373643275, 5.3791195373643275], [4.370677013438124, 5.370677013438124], [4.464033485012581, 5.464033485012581], [4.6771134197485535, 5.6771134197485535]]\n",
      "    processor_type: {'family': 'Falcon', 'revision': 4, 'segment': 'H'}\n",
      "    input_allowed: ['job', 'runtime']\n",
      "    dynamic_reprate_enabled: True\n",
      "    multi_meas_enabled: True\n",
      "    description: 7 qubit device\n",
      "    sample_name: family: Falcon, revision: 4, segment: H\n",
      "    timing_constraints: {'acquire_alignment': 16, 'granularity': 16, 'min_length': 64, 'pulse_alignment': 1}\n",
      "    uchannels_enabled: True\n",
      "    clops: 2263\n",
      "    measure_esp_enabled: False\n",
      "    meas_lo_range: [[6.784054663, 7.784054663000001], [6.885450194000001, 7.885450194000001], [6.8231800300000005, 7.8231800300000005], [6.730756417, 7.730756417], [6.780310863, 7.780310863], [6.646993373000001, 7.646993373000001], [6.900652534000001, 7.900652534000001]]\n",
      "    acquisition_latency: []\n",
      "    parametric_pulses: ['gaussian', 'gaussian_square', 'drag', 'constant']\n",
      "    qubit_channel_mapping: [['u1', 'm0', 'd0', 'u0'], ['u0', 'u5', 'm1', 'u3', 'd1', 'u1', 'u4', 'u2'], ['d2', 'm2', 'u4', 'u2'], ['u5', 'u6', 'u3', 'm3', 'd3', 'u8'], ['u9', 'u7', 'd4', 'm4'], ['u10', 'm5', 'u6', 'd5', 'u11', 'u7', 'u9', 'u8'], ['u10', 'm6', 'd6', 'u11']]\n",
      "    max_shots: 32000\n",
      "    hamiltonian: {'description': 'Qubits are modeled as Duffing oscillators. In this case, the system includes higher energy states, i.e. not just |0> and |1>. The Pauli operators are generalized via the following set of transformations:\\n\\n$(\\\\mathbb{I}-\\\\sigma_{i}^z)/2 \\\\rightarrow O_i \\\\equiv b^\\\\dagger_{i} b_{i}$,\\n\\n$\\\\sigma_{+} \\\\rightarrow b^\\\\dagger$,\\n\\n$\\\\sigma_{-} \\\\rightarrow b$,\\n\\n$\\\\sigma_{i}^X \\\\rightarrow b^\\\\dagger_{i} + b_{i}$.\\n\\nQubits are coupled through resonator buses. The provided Hamiltonian has been projected into the zero excitation subspace of the resonator buses leading to an effective qubit-qubit flip-flop interaction. The qubit resonance frequencies in the Hamiltonian are the cavity dressed frequencies and not exactly what is returned by the backend defaults, which also includes the dressing due to the qubit-qubit interactions.\\n\\nQuantities are returned in angular frequencies, with units 2*pi*GHz.\\n\\nWARNING: Currently not all system Hamiltonian information is available to the public, missing values have been replaced with 0.\\n', 'h_latex': '\\\\begin{align} \\\\mathcal{H}/\\\\hbar = & \\\\sum_{i=0}^{6}\\\\left(\\\\frac{\\\\omega_{q,i}}{2}(\\\\mathbb{I}-\\\\sigma_i^{z})+\\\\frac{\\\\Delta_{i}}{2}(O_i^2-O_i)+\\\\Omega_{d,i}D_i(t)\\\\sigma_i^{X}\\\\right) \\\\\\\\ & + J_{0,1}(\\\\sigma_{0}^{+}\\\\sigma_{1}^{-}+\\\\sigma_{0}^{-}\\\\sigma_{1}^{+}) + J_{1,2}(\\\\sigma_{1}^{+}\\\\sigma_{2}^{-}+\\\\sigma_{1}^{-}\\\\sigma_{2}^{+}) + J_{4,5}(\\\\sigma_{4}^{+}\\\\sigma_{5}^{-}+\\\\sigma_{4}^{-}\\\\sigma_{5}^{+}) + J_{5,6}(\\\\sigma_{5}^{+}\\\\sigma_{6}^{-}+\\\\sigma_{5}^{-}\\\\sigma_{6}^{+}) \\\\\\\\ & + J_{1,3}(\\\\sigma_{1}^{+}\\\\sigma_{3}^{-}+\\\\sigma_{1}^{-}\\\\sigma_{3}^{+}) + J_{3,5}(\\\\sigma_{3}^{+}\\\\sigma_{5}^{-}+\\\\sigma_{3}^{-}\\\\sigma_{5}^{+}) \\\\\\\\ & + \\\\Omega_{d,0}(U_{0}^{(0,1)}(t))\\\\sigma_{0}^{X} + \\\\Omega_{d,1}(U_{1}^{(1,0)}(t)+U_{3}^{(1,3)}(t)+U_{2}^{(1,2)}(t))\\\\sigma_{1}^{X} \\\\\\\\ & + \\\\Omega_{d,2}(U_{4}^{(2,1)}(t))\\\\sigma_{2}^{X} + \\\\Omega_{d,3}(U_{5}^{(3,1)}(t)+U_{6}^{(3,5)}(t))\\\\sigma_{3}^{X} \\\\\\\\ & + \\\\Omega_{d,4}(U_{7}^{(4,5)}(t))\\\\sigma_{4}^{X} + \\\\Omega_{d,5}(U_{8}^{(5,3)}(t)+U_{10}^{(5,6)}(t)+U_{9}^{(5,4)}(t))\\\\sigma_{5}^{X} \\\\\\\\ & + \\\\Omega_{d,6}(U_{11}^{(6,5)}(t))\\\\sigma_{6}^{X} \\\\\\\\ \\\\end{align}', 'h_str': ['_SUM[i,0,6,wq{i}/2*(I{i}-Z{i})]', '_SUM[i,0,6,delta{i}/2*O{i}*O{i}]', '_SUM[i,0,6,-delta{i}/2*O{i}]', '_SUM[i,0,6,omegad{i}*X{i}||D{i}]', 'jq0q1*Sp0*Sm1', 'jq0q1*Sm0*Sp1', 'jq1q2*Sp1*Sm2', 'jq1q2*Sm1*Sp2', 'jq4q5*Sp4*Sm5', 'jq4q5*Sm4*Sp5', 'jq5q6*Sp5*Sm6', 'jq5q6*Sm5*Sp6', 'jq1q3*Sp1*Sm3', 'jq1q3*Sm1*Sp3', 'jq3q5*Sp3*Sm5', 'jq3q5*Sm3*Sp5', 'omegad1*X0||U0', 'omegad0*X1||U1', 'omegad3*X1||U3', 'omegad2*X1||U2', 'omegad1*X2||U4', 'omegad1*X3||U5', 'omegad5*X3||U6', 'omegad5*X4||U7', 'omegad3*X5||U8', 'omegad6*X5||U10', 'omegad4*X5||U9', 'omegad5*X6||U11'], 'osc': {}, 'qub': {'0': 3, '1': 3, '2': 3, '3': 3, '4': 3, '5': 3, '6': 3}, 'vars': {'delta0': -2.1356848957375534, 'delta1': -2.0510695179330973, 'delta2': -2.127640392457325, 'delta3': -2.127748155824096, 'delta4': -2.129301739398853, 'delta5': -2.022190613752458, 'delta6': -2.104827921746793, 'jq0q1': 0.008155201121047262, 'jq1q2': 0.00896030287147453, 'jq1q3': 0.008704187306888234, 'jq3q5': 0.008755759807187284, 'jq4q5': 0.009192358915922278, 'jq5q6': 0.010792387809142637, 'omegad0': 1.5767483228833907, 'omegad1': 1.014930343025328, 'omegad2': 1.384384136331768, 'omegad3': 1.7096481359451674, 'omegad4': 1.5690010800705982, 'omegad5': 1.079852389189596, 'omegad6': 1.056606920560223, 'wq0': 30.296962576924948, 'wq1': 29.90653989631323, 'wq2': 30.82727835452084, 'wq3': 30.656412189140404, 'wq4': 30.603366246851774, 'wq5': 31.189942257378526, 'wq6': 32.528762972566376}}\n",
      "    credits_required: True\n",
      "    conditional_latency: []\n",
      "\n"
     ]
    },
    {
     "name": "stdout",
     "output_type": "stream",
     "text": [
      "Qubits [Name / Freq / T1 / T2 / RZ err / SX err / X err / Readout err]\n",
      "----------------------------------------------------------------------\n",
      "    Q0 / 4.82191 GHz / 124.14589 us / 36.01493 us / 0.00000 / 0.00034 / 0.00034 / 0.02790 \n",
      "    Q1 / 4.75977 GHz / 78.72906 us / 90.86573 us / 0.00000 / 0.00024 / 0.00024 / 0.01130 \n",
      "    Q2 / 4.90631 GHz / 92.73517 us / 106.61660 us / 0.00000 / 0.00027 / 0.00027 / 0.00800 \n",
      "    Q3 / 4.87912 GHz / 126.00562 us / 138.11647 us / 0.00000 / 0.00023 / 0.00023 / 0.01920 \n",
      "    Q4 / 4.87068 GHz / 85.63652 us / 57.99892 us / 0.00000 / 0.00022 / 0.00022 / 0.02560 \n",
      "    Q5 / 4.96403 GHz / 93.48693 us / 148.57524 us / 0.00000 / 0.00028 / 0.00028 / 0.01140 \n",
      "    Q6 / 5.17711 GHz / 111.47978 us / 171.48608 us / 0.00000 / 0.00087 / 0.00087 / 0.02250 \n",
      "\n",
      "Multi-Qubit Gates [Name / Type / Gate Error]\n",
      "--------------------------------------------\n",
      "    cx6_5 / cx / 0.00670\n",
      "    cx5_6 / cx / 0.00670\n",
      "    cx5_4 / cx / 0.00767\n",
      "    cx4_5 / cx / 0.00767\n",
      "    cx5_3 / cx / 0.00947\n",
      "    cx3_5 / cx / 0.00947\n",
      "    cx3_1 / cx / 0.00901\n",
      "    cx1_3 / cx / 0.00901\n",
      "    cx1_2 / cx / 0.00876\n",
      "    cx2_1 / cx / 0.00876\n",
      "    cx1_0 / cx / 0.01339\n",
      "    cx0_1 / cx / 0.01339\n"
     ]
    },
    {
     "data": {
      "application/vnd.jupyter.widget-view+json": {
       "model_id": "dd2abc2e4f17436bb74040b8efa04070",
       "version_major": 2,
       "version_minor": 0
      },
      "text/plain": [
       "VBox(children=(HTML(value=\"<h1 style='color:#ffffff;background-color:#000000;padding-top: 1%;padding-bottom: 1…"
      ]
     },
     "metadata": {},
     "output_type": "display_data"
    },
    {
     "data": {
      "text/plain": [
       "<IBMQBackend('ibmq_casablanca') from IBMQ(hub='ibm-q-ornl', group='anl', project='csc430')>"
      ]
     },
     "execution_count": 4,
     "metadata": {},
     "output_type": "execute_result"
    }
   ],
   "source": [
    "device = provider.get_backend('ibmq_casablanca')\n",
    "backend_monitor(device)\n",
    "device"
   ]
  },
  {
   "cell_type": "code",
   "execution_count": 5,
   "id": "415c765c",
   "metadata": {},
   "outputs": [],
   "source": [
    "from gate_variants.toffoli_variants import CCX_01_12_Gate, CCX_02_01_Gate, CCX_02_01_h_Gate, CCX_01_02_Gate"
   ]
  },
  {
   "cell_type": "code",
   "execution_count": 6,
   "id": "63a6b7a9",
   "metadata": {},
   "outputs": [],
   "source": [
    "circ_list = []"
   ]
  },
  {
   "cell_type": "code",
   "execution_count": 7,
   "id": "06bcf9b7",
   "metadata": {},
   "outputs": [],
   "source": [
    "ccx_variant_list = [CCX_01_12_Gate(), CCX_02_01_Gate(), CCX_02_01_h_Gate(), CCX_01_02_Gate()]"
   ]
  },
  {
   "cell_type": "code",
   "execution_count": 8,
   "id": "91193b74",
   "metadata": {},
   "outputs": [],
   "source": [
    "for i in range(len(ccx_variant_list)):\n",
    "    qr = QuantumRegister(3)\n",
    "    cr = ClassicalRegister(3)\n",
    "    qc = QuantumCircuit(qr,cr)\n",
    "    qc.x(qr[0])\n",
    "    qc.x(qr[1])\n",
    "    qc.append(ccx_variant_list[i],[qr[0],qr[1],qr[2]])\n",
    "    qc.measure(qr,cr)\n",
    "    circ_list.append(qc)"
   ]
  },
  {
   "cell_type": "code",
   "execution_count": 9,
   "id": "fb9bf1b1",
   "metadata": {},
   "outputs": [],
   "source": [
    "trans_1 = transpile(circ_list[2], optimization_level = 3)"
   ]
  },
  {
   "cell_type": "code",
   "execution_count": 10,
   "id": "80df4bf4",
   "metadata": {},
   "outputs": [
    {
     "data": {
      "text/html": [
       "<pre style=\"word-wrap: normal;white-space: pre;background: #fff0;line-height: 1.1;font-family: &quot;Courier New&quot;,Courier,monospace\">      ┌───┐       ┌───┐ ┌───┐ ┌───┐┌─────┐                                ┌─┐»\n",
       "q2_0: ┤ X ├───────┤ X ├─┤ T ├─┤ X ├┤ Tdg ├───────■─────────────────────■──┤M├»\n",
       "      ├───┤┌─────┐└─┬─┘ └───┘ └─┬─┘└┬───┬┘┌───┐┌─┴─┐┌─────┐┌───┐┌───┐┌─┴─┐└╥┘»\n",
       "q2_1: ┤ X ├┤ Tdg ├──┼───────────┼───┤ X ├─┤ T ├┤ X ├┤ Tdg ├┤ X ├┤ T ├┤ X ├─╫─»\n",
       "      ├───┤└─────┘  │  ┌─────┐  │   └─┬─┘ └───┘└───┘└─────┘└─┬─┘├───┤└┬─┬┘ ║ »\n",
       "q2_2: ┤ H ├─────────■──┤ Tdg ├──■─────■──────────────────────■──┤ H ├─┤M├──╫─»\n",
       "      └───┘            └─────┘                                  └───┘ └╥┘  ║ »\n",
       "c2: 3/═════════════════════════════════════════════════════════════════╩═══╩═»\n",
       "                                                                       2   0 »\n",
       "«         \n",
       "«q2_0: ───\n",
       "«      ┌─┐\n",
       "«q2_1: ┤M├\n",
       "«      └╥┘\n",
       "«q2_2: ─╫─\n",
       "«       ║ \n",
       "«c2: 3/═╩═\n",
       "«       1 </pre>"
      ],
      "text/plain": [
       "      ┌───┐       ┌───┐ ┌───┐ ┌───┐┌─────┐                                ┌─┐»\n",
       "q2_0: ┤ X ├───────┤ X ├─┤ T ├─┤ X ├┤ Tdg ├───────■─────────────────────■──┤M├»\n",
       "      ├───┤┌─────┐└─┬─┘ └───┘ └─┬─┘└┬───┬┘┌───┐┌─┴─┐┌─────┐┌───┐┌───┐┌─┴─┐└╥┘»\n",
       "q2_1: ┤ X ├┤ Tdg ├──┼───────────┼───┤ X ├─┤ T ├┤ X ├┤ Tdg ├┤ X ├┤ T ├┤ X ├─╫─»\n",
       "      ├───┤└─────┘  │  ┌─────┐  │   └─┬─┘ └───┘└───┘└─────┘└─┬─┘├───┤└┬─┬┘ ║ »\n",
       "q2_2: ┤ H ├─────────■──┤ Tdg ├──■─────■──────────────────────■──┤ H ├─┤M├──╫─»\n",
       "      └───┘            └─────┘                                  └───┘ └╥┘  ║ »\n",
       "c2: 3/═════════════════════════════════════════════════════════════════╩═══╩═»\n",
       "                                                                       2   0 »\n",
       "«         \n",
       "«q2_0: ───\n",
       "«      ┌─┐\n",
       "«q2_1: ┤M├\n",
       "«      └╥┘\n",
       "«q2_2: ─╫─\n",
       "«       ║ \n",
       "«c2: 3/═╩═\n",
       "«       1 "
      ]
     },
     "execution_count": 10,
     "metadata": {},
     "output_type": "execute_result"
    }
   ],
   "source": [
    "trans_1.draw()"
   ]
  },
  {
   "cell_type": "code",
   "execution_count": 11,
   "id": "e899d3ff",
   "metadata": {},
   "outputs": [
    {
     "data": {
      "text/plain": [
       "4"
      ]
     },
     "execution_count": 11,
     "metadata": {},
     "output_type": "execute_result"
    }
   ],
   "source": [
    "len(circ_list)"
   ]
  },
  {
   "cell_type": "code",
   "execution_count": 12,
   "id": "cc78a6ee",
   "metadata": {},
   "outputs": [
    {
     "name": "stdout",
     "output_type": "stream",
     "text": [
      "Job Status: job has successfully run\n"
     ]
    }
   ],
   "source": [
    "#run the circuit on a device\n",
    "shots = 8192\n",
    "job = execute(circ_list, backend=device, shots=shots)\n",
    "job_monitor(job)\n",
    "res = job.result()"
   ]
  },
  {
   "cell_type": "code",
   "execution_count": 13,
   "id": "b150b995",
   "metadata": {},
   "outputs": [
    {
     "data": {
      "image/png": "[encoded data removed]",
      "text/plain": [
       "<Figure size 504x360 with 1 Axes>"
      ]
     },
     "execution_count": 13,
     "metadata": {},
     "output_type": "execute_result"
    }
   ],
   "source": [
    "plot_histogram(res.get_counts())"
   ]
  },
  {
   "cell_type": "code",
   "execution_count": 14,
   "id": "5dcdff93",
   "metadata": {},
   "outputs": [
    {
     "data": {
      "text/plain": [
       "245"
      ]
     },
     "execution_count": 14,
     "metadata": {},
     "output_type": "execute_result"
    }
   ],
   "source": [
    "res.get_counts(0)['000']"
   ]
  },
  {
   "cell_type": "code",
   "execution_count": 15,
   "id": "f8e284e4",
   "metadata": {},
   "outputs": [],
   "source": [
    "#calculating inferece strength\n",
    "def IST(input_dict, correct_output):\n",
    "    correct_count = input_dict[correct_output]\n",
    "    max_error_count = 0\n",
    "    for key in input_dict.keys():\n",
    "        if key != correct_output and input_dict[key] > max_error_count:\n",
    "            max_error_count = input_dict[key]\n",
    "    return correct_count/max_error_count"
   ]
  },
  {
   "cell_type": "code",
   "execution_count": 16,
   "id": "e8837939",
   "metadata": {},
   "outputs": [
    {
     "name": "stdout",
     "output_type": "stream",
     "text": [
      "2.99\n",
      "5.183982683982684\n",
      "4.783095723014257\n",
      "3.4361393323657476\n"
     ]
    }
   ],
   "source": [
    "for i in range(len(circ_list)):\n",
    "    ist = IST(res.get_counts(i), '111')\n",
    "    print(ist)"
   ]
  },
  {
   "cell_type": "code",
   "execution_count": 17,
   "id": "a797dd83",
   "metadata": {},
   "outputs": [],
   "source": [
    "#IST of summation:\n",
    "sum_res = {}\n",
    "for key in res.get_counts(0):\n",
    "    sum_res[key] = 0\n",
    "    for i in range(len(circ_list)):\n",
    "        sum_res[key] += res.get_counts(i)[key]"
   ]
  },
  {
   "cell_type": "code",
   "execution_count": 18,
   "id": "03cf11a1",
   "metadata": {},
   "outputs": [
    {
     "data": {
      "text/plain": [
       "{'000': 784,\n",
       " '001': 2745,\n",
       " '010': 1824,\n",
       " '011': 3919,\n",
       " '100': 507,\n",
       " '101': 2750,\n",
       " '110': 1831,\n",
       " '111': 18408}"
      ]
     },
     "execution_count": 18,
     "metadata": {},
     "output_type": "execute_result"
    }
   ],
   "source": [
    "sum_res"
   ]
  },
  {
   "cell_type": "code",
   "execution_count": 19,
   "id": "90dcd123",
   "metadata": {},
   "outputs": [
    {
     "data": {
      "text/plain": [
       "4.697116611380454"
      ]
     },
     "execution_count": 19,
     "metadata": {},
     "output_type": "execute_result"
    }
   ],
   "source": [
    "IST(sum_res, '111')"
   ]
  },
  {
   "cell_type": "code",
   "execution_count": null,
   "id": "ab70be7b",
   "metadata": {},
   "outputs": [],
   "source": []
  }
 ],
 "metadata": {
  "kernelspec": {
   "display_name": "Python 3",
   "language": "python",
   "name": "python3"
  },
  "language_info": {
   "codemirror_mode": {
    "name": "ipython",
    "version": 3
   },
   "file_extension": ".py",
   "mimetype": "text/x-python",
   "name": "python",
   "nbconvert_exporter": "python",
   "pygments_lexer": "ipython3",
   "version": "3.7.11"
  }
 },
 "nbformat": 4,
 "nbformat_minor": 5
}
