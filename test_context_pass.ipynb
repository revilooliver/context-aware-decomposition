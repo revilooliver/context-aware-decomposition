{
 "cells": [
  {
   "cell_type": "markdown",
   "id": "dbc4e568",
   "metadata": {},
   "source": [
    "### A few initial libraries ###"
   ]
  },
  {
   "cell_type": "code",
   "execution_count": 1,
   "id": "d8bf6a9b",
   "metadata": {},
   "outputs": [],
   "source": [
    "import numpy as np\n",
    "import qiskit\n",
    "from qiskit import QuantumCircuit, QuantumRegister, ClassicalRegister, Aer, execute, transpile\n",
    "\n",
    "from qiskit.transpiler import PassManager\n",
    "\n",
    "from qiskit.converters import circuit_to_dag\n",
    "from qiskit.visualization import dag_drawer, plot_histogram\n",
    "from qiskit.compiler import assemble\n",
    "from qiskit.tools.monitor import job_monitor\n",
    "\n",
    "from qiskit import IBMQ\n",
    "\n",
    "from qiskit.test.mock import FakeManhattan\n",
    "from qiskit.test.mock import FakeMumbai\n",
    "from qiskit.test.mock import FakeTokyo"
   ]
  },
  {
   "cell_type": "code",
   "execution_count": 2,
   "id": "a8ee7497",
   "metadata": {},
   "outputs": [
    {
     "name": "stderr",
     "output_type": "stream",
     "text": [
      "/Users/revilooliver/Documents/quantum_computing/anaconda/anaconda3/envs/qiskit-terra/lib/python3.7/site-packages/qiskit/aqua/__init__.py:86: DeprecationWarning: The package qiskit.aqua is deprecated. It was moved/refactored to qiskit-terra For more information see <https://github.com/Qiskit/qiskit-aqua/blob/main/README.md#migration-guide>\n",
      "  warn_package('aqua', 'qiskit-terra')\n"
     ]
    },
    {
     "data": {
      "text/plain": [
       "{'qiskit-terra': '0.18.3', 'qiskit-aer': '0.9.1', 'qiskit-ignis': '0.6.0', 'qiskit-ibmq-provider': '0.18.1', 'qiskit-aqua': '0.9.5', 'qiskit': '0.32.1', 'qiskit-nature': None, 'qiskit-finance': None, 'qiskit-optimization': None, 'qiskit-machine-learning': None}"
      ]
     },
     "execution_count": 2,
     "metadata": {},
     "output_type": "execute_result"
    }
   ],
   "source": [
    "qiskit.__qiskit_version__"
   ]
  },
  {
   "cell_type": "markdown",
   "id": "077373be",
   "metadata": {},
   "source": [
    "### Load device and the device configuration object ###"
   ]
  },
  {
   "cell_type": "code",
   "execution_count": 3,
   "id": "1cc434c0",
   "metadata": {},
   "outputs": [],
   "source": [
    "IBMQ.load_account()\n",
    "\n",
    "provider = IBMQ.get_provider('ibm-q-ornl')\n",
    "# device = FakeMumbai()\n",
    "\n",
    "# backend_prop = device.properties()"
   ]
  },
  {
   "cell_type": "code",
   "execution_count": 4,
   "id": "dbd0c7d4",
   "metadata": {},
   "outputs": [],
   "source": [
    "from level3_context import level_3_context_pass_manager,  _parse_transpile_args"
   ]
  },
  {
   "cell_type": "code",
   "execution_count": 5,
   "id": "f3e6e793",
   "metadata": {},
   "outputs": [
    {
     "data": {
      "text/plain": [
       "<qiskit.circuit.instructionset.InstructionSet at 0x7fc009928fd0>"
      ]
     },
     "execution_count": 5,
     "metadata": {},
     "output_type": "execute_result"
    }
   ],
   "source": [
    "#test circuit\n",
    "t5 = QuantumCircuit(5, 5)\n",
    "t5.h(0)\n",
    "\n",
    "t5.barrier()\n",
    "t5.ccx(0, 1, 2)\n",
    "t5.cx(0, 3)\n",
    "t5.ccx(0, 1, 2)\n",
    "\n",
    "t5.barrier()\n",
    "\n",
    "t5.ccx(0, 1, 2)\n",
    "t5.cx(0, 1)\n",
    "t5.ccx(0, 1, 2)\n",
    "\n",
    "t5.barrier()\n",
    "\n",
    "t5.ccx(0, 1, 2)\n",
    "t5.cx(1, 2)\n",
    "t5.ccx(0, 1, 2)\n",
    "\n",
    "t5.barrier()\n",
    "\n",
    "t5.ccx(0, 1, 2)\n",
    "t5.cx(2, 3)\n",
    "t5.ccx(0, 1, 2)\n",
    "\n",
    "t5.barrier()\n",
    "\n",
    "t5.ccx(0, 1, 2)\n",
    "t5.cswap(1, 2, 3)\n",
    "t5.ccx(0, 1, 2)\n",
    "\n",
    "t5.barrier()\n",
    "\n",
    "t5.ccx(0, 1, 2)\n",
    "t5.cswap(2, 3, 4)\n",
    "t5.ccx(0, 1, 2)\n",
    "\n",
    "t5.barrier()\n",
    "\n",
    "\n",
    "\n",
    "# t5.cx(0, 2)\n",
    "# t5.ccx(0, 1, 2)\n",
    "# t5.cx(1, 0)\n",
    "\n",
    "# t5.barrier()\n",
    "\n",
    "# t5.cx(1, 2)\n",
    "# t5.ccx(0, 1, 2)\n",
    "# t5.cx(0, 1)\n",
    "\n",
    "# t5.barrier()\n",
    "\n",
    "# t5.ccx(1, 2, 3)\n",
    "# t5.x(2)\n",
    "# t5.ccx(2, 3, 4)\n",
    "# t5.h(3)\n",
    "# t5.cx(3, 2)\n",
    "# t5.h(4)\n",
    "# t5.ccx(4, 3, 1)\n",
    "\n",
    "t5.measure(list(range(5)), list(range(5)))"
   ]
  },
  {
   "cell_type": "code",
   "execution_count": 6,
   "id": "b111a66d",
   "metadata": {},
   "outputs": [
    {
     "data": {
      "text/plain": [
       "<qiskit.circuit.instructionset.InstructionSet at 0x7fc039f6d450>"
      ]
     },
     "execution_count": 6,
     "metadata": {},
     "output_type": "execute_result"
    }
   ],
   "source": [
    "#test two intersection\n",
    "t5 = QuantumCircuit(5, 5)\n",
    "t5.h(0)\n",
    "\n",
    "t5.barrier()\n",
    "t5.ccx(0, 1, 3)\n",
    "t5.cx(0, 3)\n",
    "t5.ccx(0, 1, 2)\n",
    "\n",
    "t5.barrier()\n",
    "#in this example, the predecessor of the second ccx is cx, it will not identify the cancellation of two ccx\n",
    "t5.ccx(0, 1, 3)\n",
    "t5.cx(0, 1)\n",
    "t5.ccx(0, 1, 2)\n",
    "\n",
    "t5.barrier()\n",
    "\n",
    "t5.ccx(0, 1, 2)\n",
    "t5.cx(1, 2)\n",
    "t5.ccx(0, 1, 3)\n",
    "\n",
    "# t5.barrier()\n",
    "\n",
    "# t5.ccx(0, 1, 2)\n",
    "# t5.cx(2, 3)\n",
    "# t5.ccx(0, 2, 3)\n",
    "\n",
    "# t5.barrier()\n",
    "\n",
    "# t5.ccx(0, 1, 2)\n",
    "# t5.x(1)\n",
    "# t5.ccx(0, 1, 3)\n",
    "\n",
    "t5.barrier()\n",
    "\n",
    "t5.ccx(0, 1, 2)\n",
    "t5.ccx(0, 1, 3)\n",
    "\n",
    "t5.barrier()\n",
    "\n",
    "t5.ccx(0, 1, 2)\n",
    "t5.ccx(0, 2, 3)\n",
    "\n",
    "t5.barrier()\n",
    "\n",
    "t5.ccx(0, 1, 2)\n",
    "t5.ccx(3, 0, 2)\n",
    "\n",
    "t5.barrier()\n",
    "\n",
    "\n",
    "\n",
    "t5.measure(list(range(5)), list(range(5)))"
   ]
  },
  {
   "cell_type": "code",
   "execution_count": 7,
   "id": "ad3cc14c",
   "metadata": {},
   "outputs": [
    {
     "data": {
      "text/plain": [
       "<qiskit.circuit.instructionset.InstructionSet at 0x7fc02a79ec50>"
      ]
     },
     "execution_count": 7,
     "metadata": {},
     "output_type": "execute_result"
    }
   ],
   "source": [
    "#test three intersection\n",
    "t5 = QuantumCircuit(5, 5)\n",
    "t5.h(0)\n",
    "\n",
    "t5.barrier()\n",
    "t5.ccx(0, 1, 2)\n",
    "t5.cx(0, 3)\n",
    "t5.ccx(0, 1, 2)\n",
    "\n",
    "t5.barrier()\n",
    "\n",
    "t5.ccx(0, 1, 2)\n",
    "t5.cx(0, 1)\n",
    "t5.ccx(0, 1, 2)\n",
    "\n",
    "t5.barrier()\n",
    "\n",
    "t5.ccx(0, 1, 2)\n",
    "t5.cx(1, 4)\n",
    "t5.ccx(0, 1, 2)\n",
    "\n",
    "t5.barrier()\n",
    "\n",
    "t5.ccx(0, 1, 2)\n",
    "t5.x(2)\n",
    "t5.ccx(0, 1, 2)\n",
    "\n",
    "# t5.barrier()\n",
    "\n",
    "# t5.ccx(0, 1, 2)\n",
    "# t5.cx(2, 3)\n",
    "# t5.ccx(0, 2, 3)\n",
    "\n",
    "# t5.barrier()\n",
    "\n",
    "# t5.ccx(0, 1, 2)\n",
    "# t5.x(1)\n",
    "# t5.ccx(0, 1, 3)\n",
    "\n",
    "t5.barrier()\n",
    "\n",
    "t5.ccx(0, 1, 2)\n",
    "t5.ccx(0, 1, 3)\n",
    "\n",
    "t5.barrier()\n",
    "\n",
    "t5.ccx(0, 1, 2)\n",
    "t5.ccx(0, 2, 3)\n",
    "\n",
    "t5.barrier()\n",
    "\n",
    "t5.ccx(0, 1, 2)\n",
    "t5.ccx(3, 0, 2)\n",
    "\n",
    "t5.barrier()\n",
    "\n",
    "\n",
    "\n",
    "t5.measure(list(range(5)), list(range(5)))"
   ]
  },
  {
   "cell_type": "code",
   "execution_count": 8,
   "id": "88e39bee",
   "metadata": {},
   "outputs": [
    {
     "data": {
      "text/html": [
       "<pre style=\"word-wrap: normal;white-space: pre;background: #fff0;line-height: 1.1;font-family: &quot;Courier New&quot;,Courier,monospace\">     ┌───┐ ░                 ░                 ░                 ░           »\n",
       "q_0: ┤ H ├─░───■────■────■───░───■────■────■───░───■─────────■───░───■───────»\n",
       "     └───┘ ░   │    │    │   ░   │  ┌─┴─┐  │   ░   │         │   ░   │       »\n",
       "q_1: ──────░───■────┼────■───░───■──┤ X ├──■───░───■────■────■───░───■───────»\n",
       "           ░ ┌─┴─┐  │  ┌─┴─┐ ░ ┌─┴─┐└───┘┌─┴─┐ ░ ┌─┴─┐  │  ┌─┴─┐ ░ ┌─┴─┐┌───┐»\n",
       "q_2: ──────░─┤ X ├──┼──┤ X ├─░─┤ X ├─────┤ X ├─░─┤ X ├──┼──┤ X ├─░─┤ X ├┤ X ├»\n",
       "           ░ └───┘┌─┴─┐└───┘ ░ └───┘     └───┘ ░ └───┘  │  └───┘ ░ └───┘└───┘»\n",
       "q_3: ──────░──────┤ X ├──────░─────────────────░────────┼────────░───────────»\n",
       "           ░      └───┘      ░                 ░      ┌─┴─┐      ░           »\n",
       "q_4: ──────░─────────────────░─────────────────░──────┤ X ├──────░───────────»\n",
       "           ░                 ░                 ░      └───┘      ░           »\n",
       "c: 5/════════════════════════════════════════════════════════════════════════»\n",
       "                                                                             »\n",
       "«           ░            ░            ░            ░ ┌─┐            \n",
       "«q_0: ──■───░───■────■───░───■────■───░───■────■───░─┤M├────────────\n",
       "«       │   ░   │    │   ░   │    │   ░   │    │   ░ └╥┘┌─┐         \n",
       "«q_1: ──■───░───■────■───░───■────┼───░───■────┼───░──╫─┤M├─────────\n",
       "«     ┌─┴─┐ ░ ┌─┴─┐  │   ░ ┌─┴─┐  │   ░ ┌─┴─┐┌─┴─┐ ░  ║ └╥┘┌─┐      \n",
       "«q_2: ┤ X ├─░─┤ X ├──┼───░─┤ X ├──■───░─┤ X ├┤ X ├─░──╫──╫─┤M├──────\n",
       "«     └───┘ ░ └───┘┌─┴─┐ ░ └───┘┌─┴─┐ ░ └───┘└─┬─┘ ░  ║  ║ └╥┘┌─┐   \n",
       "«q_3: ──────░──────┤ X ├─░──────┤ X ├─░────────■───░──╫──╫──╫─┤M├───\n",
       "«           ░      └───┘ ░      └───┘ ░            ░  ║  ║  ║ └╥┘┌─┐\n",
       "«q_4: ──────░────────────░────────────░────────────░──╫──╫──╫──╫─┤M├\n",
       "«           ░            ░            ░            ░  ║  ║  ║  ║ └╥┘\n",
       "«c: 5/════════════════════════════════════════════════╩══╩══╩══╩══╩═\n",
       "«                                                     0  1  2  3  4 </pre>"
      ],
      "text/plain": [
       "     ┌───┐ ░                 ░                 ░                 ░           »\n",
       "q_0: ┤ H ├─░───■────■────■───░───■────■────■───░───■─────────■───░───■───────»\n",
       "     └───┘ ░   │    │    │   ░   │  ┌─┴─┐  │   ░   │         │   ░   │       »\n",
       "q_1: ──────░───■────┼────■───░───■──┤ X ├──■───░───■────■────■───░───■───────»\n",
       "           ░ ┌─┴─┐  │  ┌─┴─┐ ░ ┌─┴─┐└───┘┌─┴─┐ ░ ┌─┴─┐  │  ┌─┴─┐ ░ ┌─┴─┐┌───┐»\n",
       "q_2: ──────░─┤ X ├──┼──┤ X ├─░─┤ X ├─────┤ X ├─░─┤ X ├──┼──┤ X ├─░─┤ X ├┤ X ├»\n",
       "           ░ └───┘┌─┴─┐└───┘ ░ └───┘     └───┘ ░ └───┘  │  └───┘ ░ └───┘└───┘»\n",
       "q_3: ──────░──────┤ X ├──────░─────────────────░────────┼────────░───────────»\n",
       "           ░      └───┘      ░                 ░      ┌─┴─┐      ░           »\n",
       "q_4: ──────░─────────────────░─────────────────░──────┤ X ├──────░───────────»\n",
       "           ░                 ░                 ░      └───┘      ░           »\n",
       "c: 5/════════════════════════════════════════════════════════════════════════»\n",
       "                                                                             »\n",
       "«           ░            ░            ░            ░ ┌─┐            \n",
       "«q_0: ──■───░───■────■───░───■────■───░───■────■───░─┤M├────────────\n",
       "«       │   ░   │    │   ░   │    │   ░   │    │   ░ └╥┘┌─┐         \n",
       "«q_1: ──■───░───■────■───░───■────┼───░───■────┼───░──╫─┤M├─────────\n",
       "«     ┌─┴─┐ ░ ┌─┴─┐  │   ░ ┌─┴─┐  │   ░ ┌─┴─┐┌─┴─┐ ░  ║ └╥┘┌─┐      \n",
       "«q_2: ┤ X ├─░─┤ X ├──┼───░─┤ X ├──■───░─┤ X ├┤ X ├─░──╫──╫─┤M├──────\n",
       "«     └───┘ ░ └───┘┌─┴─┐ ░ └───┘┌─┴─┐ ░ └───┘└─┬─┘ ░  ║  ║ └╥┘┌─┐   \n",
       "«q_3: ──────░──────┤ X ├─░──────┤ X ├─░────────■───░──╫──╫──╫─┤M├───\n",
       "«           ░      └───┘ ░      └───┘ ░            ░  ║  ║  ║ └╥┘┌─┐\n",
       "«q_4: ──────░────────────░────────────░────────────░──╫──╫──╫──╫─┤M├\n",
       "«           ░            ░            ░            ░  ║  ║  ║  ║ └╥┘\n",
       "«c: 5/════════════════════════════════════════════════╩══╩══╩══╩══╩═\n",
       "«                                                     0  1  2  3  4 "
      ]
     },
     "execution_count": 8,
     "metadata": {},
     "output_type": "execute_result"
    }
   ],
   "source": [
    "t5.draw()"
   ]
  },
  {
   "cell_type": "code",
   "execution_count": 9,
   "id": "bef0105d",
   "metadata": {},
   "outputs": [],
   "source": [
    "#backend = provider.get_backend('ibmq_mumbai')"
   ]
  },
  {
   "cell_type": "code",
   "execution_count": 10,
   "id": "ddfb0037",
   "metadata": {},
   "outputs": [],
   "source": [
    "backend = FakeTokyo()\n",
    "\n",
    "backend_prop = backend.properties()"
   ]
  },
  {
   "cell_type": "code",
   "execution_count": 11,
   "id": "adebb411",
   "metadata": {},
   "outputs": [],
   "source": [
    "transpile_args = _parse_transpile_args([t5], backend, seed_transpiler = 0)"
   ]
  },
  {
   "cell_type": "code",
   "execution_count": 12,
   "id": "439e0dc0",
   "metadata": {},
   "outputs": [],
   "source": [
    "pass_manager_config = transpile_args[0]['pass_manager_config']"
   ]
  },
  {
   "cell_type": "code",
   "execution_count": 13,
   "id": "6abcc0ca",
   "metadata": {},
   "outputs": [
    {
     "name": "stdout",
     "output_type": "stream",
     "text": [
      "layout_method:  dense\n",
      "routing method:  basic\n"
     ]
    }
   ],
   "source": [
    "pm_context = level_3_context_pass_manager(pass_manager_config)"
   ]
  },
  {
   "cell_type": "code",
   "execution_count": 14,
   "id": "b305c8f7",
   "metadata": {},
   "outputs": [
    {
     "name": "stdout",
     "output_type": "stream",
     "text": [
      "ccx\n",
      "ccx\n",
      "ccx\n",
      "ccx\n",
      "ccx\n",
      "ccx\n",
      "ccx\n",
      "ccx\n",
      "ccx\n",
      "ccx\n",
      "ccx\n",
      "ccx\n",
      "ccx\n",
      "ccx\n",
      "Layout({\n",
      "10: Qubit(QuantumRegister(5, 'q'), 3),\n",
      "11: Qubit(QuantumRegister(5, 'q'), 0),\n",
      "5: Qubit(QuantumRegister(5, 'q'), 1),\n",
      "6: Qubit(QuantumRegister(5, 'q'), 2),\n",
      "0: Qubit(QuantumRegister(5, 'q'), 4)\n",
      "})\n",
      "The arguments for the toffoli node are:  Qubit(QuantumRegister(20, 'q'), 11) Qubit(QuantumRegister(20, 'q'), 5) Qubit(QuantumRegister(20, 'q'), 6)\n",
      "The distances between the toffoli qubits are:  1 between qubits 0 and 1\n",
      "The distances between the toffoli qubits are:  1 between qubits 1 and 2\n",
      "The distances between the toffoli qubits are:  1 between qubits 0 and 2\n",
      "The physical qubits for the toffoli are:  11 5 6\n",
      "The required toffoli will be decomposed using a 6 cnot decomposition\n",
      "cx,\n",
      "cx,\n",
      "cx,\n",
      "predecessor barrier\n",
      "successor ccx\n",
      "successor cx\n",
      "('00', '00', 'f', 'p')\n",
      "The arguments for the toffoli node are:  Qubit(QuantumRegister(20, 'q'), 11) Qubit(QuantumRegister(20, 'q'), 5) Qubit(QuantumRegister(20, 'q'), 6)\n",
      "The distances between the toffoli qubits are:  1 between qubits 0 and 1\n",
      "The distances between the toffoli qubits are:  1 between qubits 1 and 2\n",
      "The distances between the toffoli qubits are:  1 between qubits 0 and 2\n",
      "The physical qubits for the toffoli are:  11 5 6\n",
      "The required toffoli will be decomposed using a 6 cnot decomposition\n",
      "cx,\n",
      "cx,\n",
      "cx,\n",
      "predecessor ccx_variant\n",
      "pre qargs <class 'list'> [Qubit(QuantumRegister(20, 'q'), 11), Qubit(QuantumRegister(20, 'q'), 5), Qubit(QuantumRegister(20, 'q'), 6)]\n",
      "node qargs [Qubit(QuantumRegister(20, 'q'), 11), Qubit(QuantumRegister(20, 'q'), 5), Qubit(QuantumRegister(20, 'q'), 6)]\n",
      "intersect [Qubit(QuantumRegister(20, 'q'), 11), Qubit(QuantumRegister(20, 'q'), 5), Qubit(QuantumRegister(20, 'q'), 6)]\n",
      "three intersection conditions False True True\n",
      "successor barrier\n",
      "('12', '00', 'f', 'p')\n",
      "The arguments for the toffoli node are:  Qubit(QuantumRegister(20, 'q'), 11) Qubit(QuantumRegister(20, 'q'), 5) Qubit(QuantumRegister(20, 'q'), 6)\n",
      "The distances between the toffoli qubits are:  1 between qubits 0 and 1\n",
      "The distances between the toffoli qubits are:  1 between qubits 1 and 2\n",
      "The distances between the toffoli qubits are:  1 between qubits 0 and 2\n",
      "The physical qubits for the toffoli are:  11 5 6\n",
      "The required toffoli will be decomposed using a 6 cnot decomposition\n",
      "cx,\n",
      "cx,\n",
      "cx,\n",
      "predecessor barrier\n",
      "successor ccx\n",
      "successor cx\n",
      "01\n",
      "01\n",
      "('00', '01', 's', 'p')\n",
      "The arguments for the toffoli node are:  Qubit(QuantumRegister(20, 'q'), 11) Qubit(QuantumRegister(20, 'q'), 5) Qubit(QuantumRegister(20, 'q'), 6)\n",
      "The distances between the toffoli qubits are:  1 between qubits 0 and 1\n",
      "The distances between the toffoli qubits are:  1 between qubits 1 and 2\n",
      "The distances between the toffoli qubits are:  1 between qubits 0 and 2\n",
      "The physical qubits for the toffoli are:  11 5 6\n",
      "The required toffoli will be decomposed using a 6 cnot decomposition\n",
      "cx,\n",
      "cx,\n",
      "cx,\n",
      "predecessor ccx_variant\n",
      "pre qargs <class 'list'> [Qubit(QuantumRegister(20, 'q'), 11), Qubit(QuantumRegister(20, 'q'), 5), Qubit(QuantumRegister(20, 'q'), 6)]\n",
      "node qargs [Qubit(QuantumRegister(20, 'q'), 11), Qubit(QuantumRegister(20, 'q'), 5), Qubit(QuantumRegister(20, 'q'), 6)]\n",
      "intersect [Qubit(QuantumRegister(20, 'q'), 11), Qubit(QuantumRegister(20, 'q'), 5), Qubit(QuantumRegister(20, 'q'), 6)]\n",
      "three intersection conditions False False True\n",
      "['00', '00', 'f', 'p']\n",
      "successor barrier\n",
      "('00', '00', 'f', 'p')\n",
      "The arguments for the toffoli node are:  Qubit(QuantumRegister(20, 'q'), 11) Qubit(QuantumRegister(20, 'q'), 5) Qubit(QuantumRegister(20, 'q'), 6)\n",
      "The distances between the toffoli qubits are:  1 between qubits 0 and 1\n",
      "The distances between the toffoli qubits are:  1 between qubits 1 and 2\n",
      "The distances between the toffoli qubits are:  1 between qubits 0 and 2\n",
      "The physical qubits for the toffoli are:  11 5 6\n",
      "The required toffoli will be decomposed using a 6 cnot decomposition\n",
      "cx,\n",
      "cx,\n",
      "cx,\n",
      "predecessor barrier\n",
      "successor ccx\n",
      "successor cx\n",
      "('00', '00', 'f', 'p')\n",
      "The arguments for the toffoli node are:  Qubit(QuantumRegister(20, 'q'), 11) Qubit(QuantumRegister(20, 'q'), 5) Qubit(QuantumRegister(20, 'q'), 6)\n",
      "The distances between the toffoli qubits are:  1 between qubits 0 and 1\n",
      "The distances between the toffoli qubits are:  1 between qubits 1 and 2\n",
      "The distances between the toffoli qubits are:  1 between qubits 0 and 2\n",
      "The physical qubits for the toffoli are:  11 5 6\n",
      "The required toffoli will be decomposed using a 6 cnot decomposition\n",
      "cx,\n",
      "cx,\n",
      "cx,\n",
      "predecessor ccx_variant\n",
      "pre qargs <class 'list'> [Qubit(QuantumRegister(20, 'q'), 11), Qubit(QuantumRegister(20, 'q'), 5), Qubit(QuantumRegister(20, 'q'), 6)]\n",
      "node qargs [Qubit(QuantumRegister(20, 'q'), 11), Qubit(QuantumRegister(20, 'q'), 5), Qubit(QuantumRegister(20, 'q'), 6)]\n",
      "intersect [Qubit(QuantumRegister(20, 'q'), 11), Qubit(QuantumRegister(20, 'q'), 5), Qubit(QuantumRegister(20, 'q'), 6)]\n",
      "three intersection conditions True False True\n",
      "successor barrier\n",
      "('02', '00', 'f', 'p')\n",
      "The arguments for the toffoli node are:  Qubit(QuantumRegister(20, 'q'), 11) Qubit(QuantumRegister(20, 'q'), 5) Qubit(QuantumRegister(20, 'q'), 6)\n",
      "The distances between the toffoli qubits are:  1 between qubits 0 and 1\n",
      "The distances between the toffoli qubits are:  1 between qubits 1 and 2\n",
      "The distances between the toffoli qubits are:  1 between qubits 0 and 2\n",
      "The physical qubits for the toffoli are:  11 5 6\n",
      "The required toffoli will be decomposed using a 6 cnot decomposition\n",
      "cx,\n",
      "cx,\n",
      "cx,\n",
      "predecessor barrier\n",
      "successor ccx\n",
      "successor x\n",
      "('00', '00', 'f', 'p')\n",
      "The arguments for the toffoli node are:  Qubit(QuantumRegister(20, 'q'), 11) Qubit(QuantumRegister(20, 'q'), 5) Qubit(QuantumRegister(20, 'q'), 6)\n",
      "The distances between the toffoli qubits are:  1 between qubits 0 and 1\n",
      "The distances between the toffoli qubits are:  1 between qubits 1 and 2\n",
      "The distances between the toffoli qubits are:  1 between qubits 0 and 2\n",
      "The physical qubits for the toffoli are:  11 5 6\n",
      "The required toffoli will be decomposed using a 6 cnot decomposition\n",
      "cx,\n",
      "cx,\n",
      "cx,\n",
      "predecessor ccx_variant\n",
      "pre qargs <class 'list'> [Qubit(QuantumRegister(20, 'q'), 11), Qubit(QuantumRegister(20, 'q'), 5), Qubit(QuantumRegister(20, 'q'), 6)]\n",
      "node qargs [Qubit(QuantumRegister(20, 'q'), 11), Qubit(QuantumRegister(20, 'q'), 5), Qubit(QuantumRegister(20, 'q'), 6)]\n",
      "intersect [Qubit(QuantumRegister(20, 'q'), 11), Qubit(QuantumRegister(20, 'q'), 5), Qubit(QuantumRegister(20, 'q'), 6)]\n",
      "three intersection conditions True True False\n",
      "successor barrier\n",
      "('01', '00', 'f', 'p')\n",
      "The arguments for the toffoli node are:  Qubit(QuantumRegister(20, 'q'), 11) Qubit(QuantumRegister(20, 'q'), 5) Qubit(QuantumRegister(20, 'q'), 6)\n",
      "The distances between the toffoli qubits are:  1 between qubits 0 and 1\n",
      "The distances between the toffoli qubits are:  1 between qubits 1 and 2\n",
      "The distances between the toffoli qubits are:  1 between qubits 0 and 2\n",
      "The physical qubits for the toffoli are:  11 5 6\n",
      "The required toffoli will be decomposed using a 6 cnot decomposition\n",
      "cx,\n",
      "cx,\n",
      "cx,\n",
      "predecessor barrier\n",
      "successor barrier\n",
      "successor ccx\n",
      "('00', '00', 'f', 'p')\n",
      "The arguments for the toffoli node are:  Qubit(QuantumRegister(20, 'q'), 11) Qubit(QuantumRegister(20, 'q'), 5) Qubit(QuantumRegister(20, 'q'), 10)\n",
      "The distances between the toffoli qubits are:  1 between qubits 0 and 1\n",
      "The distances between the toffoli qubits are:  1 between qubits 1 and 2\n",
      "The distances between the toffoli qubits are:  1 between qubits 0 and 2\n",
      "The physical qubits for the toffoli are:  11 5 10\n",
      "The required toffoli will be decomposed using a 6 cnot decomposition\n",
      "cx,\n",
      "cx,\n",
      "cx,\n",
      "predecessor ccx_variant\n",
      "pre qargs <class 'list'> [Qubit(QuantumRegister(20, 'q'), 11), Qubit(QuantumRegister(20, 'q'), 5), Qubit(QuantumRegister(20, 'q'), 6)]\n",
      "node qargs [Qubit(QuantumRegister(20, 'q'), 11), Qubit(QuantumRegister(20, 'q'), 5), Qubit(QuantumRegister(20, 'q'), 10)]\n",
      "intersect [Qubit(QuantumRegister(20, 'q'), 11), Qubit(QuantumRegister(20, 'q'), 5)]\n",
      "two intersection conditions True True\n",
      "['01', '00', 'f', 'p']\n",
      "successor barrier\n",
      "('01', '00', 'f', 'p')\n",
      "The arguments for the toffoli node are:  Qubit(QuantumRegister(20, 'q'), 11) Qubit(QuantumRegister(20, 'q'), 5) Qubit(QuantumRegister(20, 'q'), 6)\n",
      "The distances between the toffoli qubits are:  1 between qubits 0 and 1\n",
      "The distances between the toffoli qubits are:  1 between qubits 1 and 2\n",
      "The distances between the toffoli qubits are:  1 between qubits 0 and 2\n",
      "The physical qubits for the toffoli are:  11 5 6\n",
      "The required toffoli will be decomposed using a 6 cnot decomposition\n",
      "cx,\n",
      "cx,\n",
      "cx,\n",
      "predecessor barrier\n",
      "successor barrier\n",
      "successor ccx\n",
      "('00', '00', 'f', 'p')\n",
      "The arguments for the toffoli node are:  Qubit(QuantumRegister(20, 'q'), 11) Qubit(QuantumRegister(20, 'q'), 6) Qubit(QuantumRegister(20, 'q'), 10)\n",
      "The distances between the toffoli qubits are:  1 between qubits 0 and 1\n",
      "The distances between the toffoli qubits are:  1 between qubits 1 and 2\n",
      "The distances between the toffoli qubits are:  1 between qubits 0 and 2\n",
      "The physical qubits for the toffoli are:  11 6 10\n",
      "The required toffoli will be decomposed using a 6 cnot decomposition\n",
      "cx,\n",
      "cx,\n",
      "cx,\n",
      "predecessor ccx_variant\n",
      "pre qargs <class 'list'> [Qubit(QuantumRegister(20, 'q'), 11), Qubit(QuantumRegister(20, 'q'), 5), Qubit(QuantumRegister(20, 'q'), 6)]\n",
      "node qargs [Qubit(QuantumRegister(20, 'q'), 11), Qubit(QuantumRegister(20, 'q'), 6), Qubit(QuantumRegister(20, 'q'), 10)]\n",
      "intersect [Qubit(QuantumRegister(20, 'q'), 11), Qubit(QuantumRegister(20, 'q'), 6)]\n",
      "two intersection conditions True True\n",
      "['01', '00', 'f', 'p']\n",
      "successor barrier\n",
      "('01', '00', 'f', 'p')\n",
      "The arguments for the toffoli node are:  Qubit(QuantumRegister(20, 'q'), 11) Qubit(QuantumRegister(20, 'q'), 5) Qubit(QuantumRegister(20, 'q'), 6)\n",
      "The distances between the toffoli qubits are:  1 between qubits 0 and 1\n",
      "The distances between the toffoli qubits are:  1 between qubits 1 and 2\n",
      "The distances between the toffoli qubits are:  1 between qubits 0 and 2\n",
      "The physical qubits for the toffoli are:  11 5 6\n",
      "The required toffoli will be decomposed using a 6 cnot decomposition\n",
      "cx,\n",
      "cx,\n",
      "cx,\n",
      "predecessor barrier\n",
      "successor barrier\n",
      "successor ccx\n",
      "('00', '00', 'f', 'p')\n",
      "The arguments for the toffoli node are:  Qubit(QuantumRegister(20, 'q'), 10) Qubit(QuantumRegister(20, 'q'), 11) Qubit(QuantumRegister(20, 'q'), 6)\n",
      "The distances between the toffoli qubits are:  1 between qubits 0 and 1\n",
      "The distances between the toffoli qubits are:  1 between qubits 1 and 2\n",
      "The distances between the toffoli qubits are:  1 between qubits 0 and 2\n",
      "The physical qubits for the toffoli are:  10 11 6\n",
      "The required toffoli will be decomposed using a 6 cnot decomposition\n",
      "cx,\n",
      "cx,\n",
      "cx,\n",
      "predecessor ccx_variant\n",
      "pre qargs <class 'list'> [Qubit(QuantumRegister(20, 'q'), 11), Qubit(QuantumRegister(20, 'q'), 5), Qubit(QuantumRegister(20, 'q'), 6)]\n",
      "node qargs [Qubit(QuantumRegister(20, 'q'), 10), Qubit(QuantumRegister(20, 'q'), 11), Qubit(QuantumRegister(20, 'q'), 6)]\n",
      "intersect [Qubit(QuantumRegister(20, 'q'), 11), Qubit(QuantumRegister(20, 'q'), 6)]\n",
      "two intersection conditions True True\n",
      "['12', '00', 'f', 'p']\n",
      "successor barrier\n",
      "('12', '00', 'f', 'p')\n"
     ]
    },
    {
     "ename": "QiskitError",
     "evalue": "\"Cannot unroll the circuit to the given basis, ['u1', 'u2', 'u3', 'cx', 'id']. Instruction ccx_variant not found in equivalence library and no rule found to expand.\"",
     "output_type": "error",
     "traceback": [
      "\u001b[0;31m---------------------------------------------------------------------------\u001b[0m",
      "\u001b[0;31mQiskitError\u001b[0m                               Traceback (most recent call last)",
      "\u001b[0;32m<ipython-input-14-8675a413a794>\u001b[0m in \u001b[0;36m<module>\u001b[0;34m\u001b[0m\n\u001b[0;32m----> 1\u001b[0;31m \u001b[0mt_circ\u001b[0m \u001b[0;34m=\u001b[0m \u001b[0mpm_context\u001b[0m\u001b[0;34m.\u001b[0m\u001b[0mrun\u001b[0m\u001b[0;34m(\u001b[0m\u001b[0mt5\u001b[0m\u001b[0;34m)\u001b[0m\u001b[0;34m\u001b[0m\u001b[0;34m\u001b[0m\u001b[0m\n\u001b[0m",
      "\u001b[0;32m~/Documents/quantum_computing/research/context_aware_decomposition/context-aware-decomposition/qiskit-terra-0.18.3/qiskit/transpiler/passmanager.py\u001b[0m in \u001b[0;36mrun\u001b[0;34m(self, circuits, output_name, callback)\u001b[0m\n\u001b[1;32m    214\u001b[0m         \"\"\"\n\u001b[1;32m    215\u001b[0m         \u001b[0;32mif\u001b[0m \u001b[0misinstance\u001b[0m\u001b[0;34m(\u001b[0m\u001b[0mcircuits\u001b[0m\u001b[0;34m,\u001b[0m \u001b[0mQuantumCircuit\u001b[0m\u001b[0;34m)\u001b[0m\u001b[0;34m:\u001b[0m\u001b[0;34m\u001b[0m\u001b[0;34m\u001b[0m\u001b[0m\n\u001b[0;32m--> 216\u001b[0;31m             \u001b[0;32mreturn\u001b[0m \u001b[0mself\u001b[0m\u001b[0;34m.\u001b[0m\u001b[0m_run_single_circuit\u001b[0m\u001b[0;34m(\u001b[0m\u001b[0mcircuits\u001b[0m\u001b[0;34m,\u001b[0m \u001b[0moutput_name\u001b[0m\u001b[0;34m,\u001b[0m \u001b[0mcallback\u001b[0m\u001b[0;34m)\u001b[0m\u001b[0;34m\u001b[0m\u001b[0;34m\u001b[0m\u001b[0m\n\u001b[0m\u001b[1;32m    217\u001b[0m         \u001b[0;32melif\u001b[0m \u001b[0mlen\u001b[0m\u001b[0;34m(\u001b[0m\u001b[0mcircuits\u001b[0m\u001b[0;34m)\u001b[0m \u001b[0;34m==\u001b[0m \u001b[0;36m1\u001b[0m\u001b[0;34m:\u001b[0m\u001b[0;34m\u001b[0m\u001b[0;34m\u001b[0m\u001b[0m\n\u001b[1;32m    218\u001b[0m             \u001b[0;32mreturn\u001b[0m \u001b[0mself\u001b[0m\u001b[0;34m.\u001b[0m\u001b[0m_run_single_circuit\u001b[0m\u001b[0;34m(\u001b[0m\u001b[0mcircuits\u001b[0m\u001b[0;34m[\u001b[0m\u001b[0;36m0\u001b[0m\u001b[0;34m]\u001b[0m\u001b[0;34m,\u001b[0m \u001b[0moutput_name\u001b[0m\u001b[0;34m,\u001b[0m \u001b[0mcallback\u001b[0m\u001b[0;34m)\u001b[0m\u001b[0;34m\u001b[0m\u001b[0;34m\u001b[0m\u001b[0m\n",
      "\u001b[0;32m~/Documents/quantum_computing/research/context_aware_decomposition/context-aware-decomposition/qiskit-terra-0.18.3/qiskit/transpiler/passmanager.py\u001b[0m in \u001b[0;36m_run_single_circuit\u001b[0;34m(self, circuit, output_name, callback)\u001b[0m\n\u001b[1;32m    270\u001b[0m         \"\"\"\n\u001b[1;32m    271\u001b[0m         \u001b[0mrunning_passmanager\u001b[0m \u001b[0;34m=\u001b[0m \u001b[0mself\u001b[0m\u001b[0;34m.\u001b[0m\u001b[0m_create_running_passmanager\u001b[0m\u001b[0;34m(\u001b[0m\u001b[0;34m)\u001b[0m\u001b[0;34m\u001b[0m\u001b[0;34m\u001b[0m\u001b[0m\n\u001b[0;32m--> 272\u001b[0;31m         \u001b[0mresult\u001b[0m \u001b[0;34m=\u001b[0m \u001b[0mrunning_passmanager\u001b[0m\u001b[0;34m.\u001b[0m\u001b[0mrun\u001b[0m\u001b[0;34m(\u001b[0m\u001b[0mcircuit\u001b[0m\u001b[0;34m,\u001b[0m \u001b[0moutput_name\u001b[0m\u001b[0;34m=\u001b[0m\u001b[0moutput_name\u001b[0m\u001b[0;34m,\u001b[0m \u001b[0mcallback\u001b[0m\u001b[0;34m=\u001b[0m\u001b[0mcallback\u001b[0m\u001b[0;34m)\u001b[0m\u001b[0;34m\u001b[0m\u001b[0;34m\u001b[0m\u001b[0m\n\u001b[0m\u001b[1;32m    273\u001b[0m         \u001b[0mself\u001b[0m\u001b[0;34m.\u001b[0m\u001b[0mproperty_set\u001b[0m \u001b[0;34m=\u001b[0m \u001b[0mrunning_passmanager\u001b[0m\u001b[0;34m.\u001b[0m\u001b[0mproperty_set\u001b[0m\u001b[0;34m\u001b[0m\u001b[0;34m\u001b[0m\u001b[0m\n\u001b[1;32m    274\u001b[0m         \u001b[0;32mreturn\u001b[0m \u001b[0mresult\u001b[0m\u001b[0;34m\u001b[0m\u001b[0;34m\u001b[0m\u001b[0m\n",
      "\u001b[0;32m~/Documents/quantum_computing/research/context_aware_decomposition/context-aware-decomposition/qiskit-terra-0.18.3/qiskit/transpiler/runningpassmanager.py\u001b[0m in \u001b[0;36mrun\u001b[0;34m(***failed resolving arguments***)\u001b[0m\n\u001b[1;32m    121\u001b[0m         \u001b[0;32mfor\u001b[0m \u001b[0mpassset\u001b[0m \u001b[0;32min\u001b[0m \u001b[0mself\u001b[0m\u001b[0;34m.\u001b[0m\u001b[0mworking_list\u001b[0m\u001b[0;34m:\u001b[0m\u001b[0;34m\u001b[0m\u001b[0;34m\u001b[0m\u001b[0m\n\u001b[1;32m    122\u001b[0m             \u001b[0;32mfor\u001b[0m \u001b[0mpass_\u001b[0m \u001b[0;32min\u001b[0m \u001b[0mpassset\u001b[0m\u001b[0;34m:\u001b[0m\u001b[0;34m\u001b[0m\u001b[0;34m\u001b[0m\u001b[0m\n\u001b[0;32m--> 123\u001b[0;31m                 \u001b[0mdag\u001b[0m \u001b[0;34m=\u001b[0m \u001b[0mself\u001b[0m\u001b[0;34m.\u001b[0m\u001b[0m_do_pass\u001b[0m\u001b[0;34m(\u001b[0m\u001b[0mpass_\u001b[0m\u001b[0;34m,\u001b[0m \u001b[0mdag\u001b[0m\u001b[0;34m,\u001b[0m \u001b[0mpassset\u001b[0m\u001b[0;34m.\u001b[0m\u001b[0moptions\u001b[0m\u001b[0;34m)\u001b[0m\u001b[0;34m\u001b[0m\u001b[0;34m\u001b[0m\u001b[0m\n\u001b[0m\u001b[1;32m    124\u001b[0m \u001b[0;34m\u001b[0m\u001b[0m\n\u001b[1;32m    125\u001b[0m         \u001b[0mcircuit\u001b[0m \u001b[0;34m=\u001b[0m \u001b[0mdag_to_circuit\u001b[0m\u001b[0;34m(\u001b[0m\u001b[0mdag\u001b[0m\u001b[0;34m)\u001b[0m\u001b[0;34m\u001b[0m\u001b[0;34m\u001b[0m\u001b[0m\n",
      "\u001b[0;32m~/Documents/quantum_computing/research/context_aware_decomposition/context-aware-decomposition/qiskit-terra-0.18.3/qiskit/transpiler/runningpassmanager.py\u001b[0m in \u001b[0;36m_do_pass\u001b[0;34m(self, pass_, dag, options)\u001b[0m\n\u001b[1;32m    152\u001b[0m         \u001b[0;31m# Run the pass itself, if not already run\u001b[0m\u001b[0;34m\u001b[0m\u001b[0;34m\u001b[0m\u001b[0;34m\u001b[0m\u001b[0m\n\u001b[1;32m    153\u001b[0m         \u001b[0;32mif\u001b[0m \u001b[0mpass_\u001b[0m \u001b[0;32mnot\u001b[0m \u001b[0;32min\u001b[0m \u001b[0mself\u001b[0m\u001b[0;34m.\u001b[0m\u001b[0mvalid_passes\u001b[0m\u001b[0;34m:\u001b[0m\u001b[0;34m\u001b[0m\u001b[0;34m\u001b[0m\u001b[0m\n\u001b[0;32m--> 154\u001b[0;31m             \u001b[0mdag\u001b[0m \u001b[0;34m=\u001b[0m \u001b[0mself\u001b[0m\u001b[0;34m.\u001b[0m\u001b[0m_run_this_pass\u001b[0m\u001b[0;34m(\u001b[0m\u001b[0mpass_\u001b[0m\u001b[0;34m,\u001b[0m \u001b[0mdag\u001b[0m\u001b[0;34m)\u001b[0m\u001b[0;34m\u001b[0m\u001b[0;34m\u001b[0m\u001b[0m\n\u001b[0m\u001b[1;32m    155\u001b[0m \u001b[0;34m\u001b[0m\u001b[0m\n\u001b[1;32m    156\u001b[0m             \u001b[0;31m# update the valid_passes property\u001b[0m\u001b[0;34m\u001b[0m\u001b[0;34m\u001b[0m\u001b[0;34m\u001b[0m\u001b[0m\n",
      "\u001b[0;32m~/Documents/quantum_computing/research/context_aware_decomposition/context-aware-decomposition/qiskit-terra-0.18.3/qiskit/transpiler/runningpassmanager.py\u001b[0m in \u001b[0;36m_run_this_pass\u001b[0;34m(self, pass_, dag)\u001b[0m\n\u001b[1;32m    164\u001b[0m             \u001b[0;31m# Measure time if we have a callback or logging set\u001b[0m\u001b[0;34m\u001b[0m\u001b[0;34m\u001b[0m\u001b[0;34m\u001b[0m\u001b[0m\n\u001b[1;32m    165\u001b[0m             \u001b[0mstart_time\u001b[0m \u001b[0;34m=\u001b[0m \u001b[0mtime\u001b[0m\u001b[0;34m(\u001b[0m\u001b[0;34m)\u001b[0m\u001b[0;34m\u001b[0m\u001b[0;34m\u001b[0m\u001b[0m\n\u001b[0;32m--> 166\u001b[0;31m             \u001b[0mnew_dag\u001b[0m \u001b[0;34m=\u001b[0m \u001b[0mpass_\u001b[0m\u001b[0;34m.\u001b[0m\u001b[0mrun\u001b[0m\u001b[0;34m(\u001b[0m\u001b[0mdag\u001b[0m\u001b[0;34m)\u001b[0m\u001b[0;34m\u001b[0m\u001b[0;34m\u001b[0m\u001b[0m\n\u001b[0m\u001b[1;32m    167\u001b[0m             \u001b[0mend_time\u001b[0m \u001b[0;34m=\u001b[0m \u001b[0mtime\u001b[0m\u001b[0;34m(\u001b[0m\u001b[0;34m)\u001b[0m\u001b[0;34m\u001b[0m\u001b[0;34m\u001b[0m\u001b[0m\n\u001b[1;32m    168\u001b[0m             \u001b[0mrun_time\u001b[0m \u001b[0;34m=\u001b[0m \u001b[0mend_time\u001b[0m \u001b[0;34m-\u001b[0m \u001b[0mstart_time\u001b[0m\u001b[0;34m\u001b[0m\u001b[0;34m\u001b[0m\u001b[0m\n",
      "\u001b[0;32m~/Documents/quantum_computing/research/context_aware_decomposition/context-aware-decomposition/qiskit-terra-0.18.3/qiskit/transpiler/passes/basis/unroll_custom_definitions.py\u001b[0m in \u001b[0;36mrun\u001b[0;34m(self, dag)\u001b[0m\n\u001b[1;32m     87\u001b[0m                     \u001b[0;34m\"Cannot unroll the circuit to the given basis, %s. \"\u001b[0m\u001b[0;34m\u001b[0m\u001b[0;34m\u001b[0m\u001b[0m\n\u001b[1;32m     88\u001b[0m                     \u001b[0;34m\"Instruction %s not found in equivalence library \"\u001b[0m\u001b[0;34m\u001b[0m\u001b[0;34m\u001b[0m\u001b[0m\n\u001b[0;32m---> 89\u001b[0;31m                     \u001b[0;34m\"and no rule found to expand.\"\u001b[0m \u001b[0;34m%\u001b[0m \u001b[0;34m(\u001b[0m\u001b[0mstr\u001b[0m\u001b[0;34m(\u001b[0m\u001b[0mself\u001b[0m\u001b[0;34m.\u001b[0m\u001b[0m_basis_gates\u001b[0m\u001b[0;34m)\u001b[0m\u001b[0;34m,\u001b[0m \u001b[0mnode\u001b[0m\u001b[0;34m.\u001b[0m\u001b[0mop\u001b[0m\u001b[0;34m.\u001b[0m\u001b[0mname\u001b[0m\u001b[0;34m)\u001b[0m\u001b[0;34m\u001b[0m\u001b[0;34m\u001b[0m\u001b[0m\n\u001b[0m\u001b[1;32m     90\u001b[0m                 )\n\u001b[1;32m     91\u001b[0m             \u001b[0mdecomposition\u001b[0m \u001b[0;34m=\u001b[0m \u001b[0mcircuit_to_dag\u001b[0m\u001b[0;34m(\u001b[0m\u001b[0mnode\u001b[0m\u001b[0;34m.\u001b[0m\u001b[0mop\u001b[0m\u001b[0;34m.\u001b[0m\u001b[0mdefinition\u001b[0m\u001b[0;34m)\u001b[0m\u001b[0;34m\u001b[0m\u001b[0;34m\u001b[0m\u001b[0m\n",
      "\u001b[0;31mQiskitError\u001b[0m: \"Cannot unroll the circuit to the given basis, ['u1', 'u2', 'u3', 'cx', 'id']. Instruction ccx_variant not found in equivalence library and no rule found to expand.\""
     ]
    }
   ],
   "source": [
    "t_circ = pm_context.run(t5)"
   ]
  },
  {
   "cell_type": "code",
   "execution_count": null,
   "id": "e15b75da",
   "metadata": {},
   "outputs": [],
   "source": [
    "t_circ.draw(output = 'mpl')"
   ]
  },
  {
   "cell_type": "code",
   "execution_count": null,
   "id": "af94a721",
   "metadata": {},
   "outputs": [],
   "source": [
    "t_circ.count_ops()"
   ]
  },
  {
   "cell_type": "code",
   "execution_count": null,
   "id": "4a3289d3",
   "metadata": {},
   "outputs": [],
   "source": [
    "t_circ.size()"
   ]
  },
  {
   "cell_type": "code",
   "execution_count": null,
   "id": "c16d0f7c",
   "metadata": {},
   "outputs": [],
   "source": [
    "t_circ.depth()"
   ]
  },
  {
   "cell_type": "code",
   "execution_count": null,
   "id": "d472cde9",
   "metadata": {},
   "outputs": [],
   "source": [
    "plot_histogram(execute(t_circ, backend = Aer.get_backend('qasm_simulator'), shots = 999999).result().get_counts())"
   ]
  },
  {
   "cell_type": "code",
   "execution_count": null,
   "id": "65692c61",
   "metadata": {},
   "outputs": [],
   "source": [
    "pm_trios = level_3_pass_manager(pass_manager_config)"
   ]
  },
  {
   "cell_type": "code",
   "execution_count": null,
   "id": "e29ebd99",
   "metadata": {},
   "outputs": [],
   "source": [
    "t_trios_circ = pm_trios.run(t5)"
   ]
  },
  {
   "cell_type": "code",
   "execution_count": null,
   "id": "3903c3d8",
   "metadata": {},
   "outputs": [],
   "source": [
    "t_trios_circ.count_ops()"
   ]
  },
  {
   "cell_type": "code",
   "execution_count": null,
   "id": "59719221",
   "metadata": {},
   "outputs": [],
   "source": [
    "t_trios_circ.draw(output = \"mpl\")"
   ]
  },
  {
   "cell_type": "code",
   "execution_count": null,
   "id": "0eeff115",
   "metadata": {},
   "outputs": [],
   "source": [
    "t_trios_circ.size()"
   ]
  },
  {
   "cell_type": "code",
   "execution_count": null,
   "id": "f221d933",
   "metadata": {},
   "outputs": [],
   "source": [
    "t_trios_circ.depth()"
   ]
  },
  {
   "cell_type": "code",
   "execution_count": null,
   "id": "af6749a6",
   "metadata": {},
   "outputs": [],
   "source": [
    "t_trios_circ.count_ops()"
   ]
  },
  {
   "cell_type": "markdown",
   "id": "50684b4d",
   "metadata": {},
   "source": [
    "### Default compilation results ###"
   ]
  },
  {
   "cell_type": "code",
   "execution_count": null,
   "id": "246c9131",
   "metadata": {},
   "outputs": [],
   "source": [
    "from qiskit.compiler import transpile\n",
    "\n",
    "t_circ_original = transpile(t5, backend = backend, optimization_level = 3, seed_transpiler = 0)"
   ]
  },
  {
   "cell_type": "code",
   "execution_count": null,
   "id": "d35098fa",
   "metadata": {},
   "outputs": [],
   "source": [
    "t5.draw()"
   ]
  },
  {
   "cell_type": "code",
   "execution_count": null,
   "id": "615fabb2",
   "metadata": {},
   "outputs": [],
   "source": [
    "t_circ_original.size()"
   ]
  },
  {
   "cell_type": "code",
   "execution_count": null,
   "id": "4974be61",
   "metadata": {},
   "outputs": [],
   "source": [
    "t_circ_original.depth()"
   ]
  },
  {
   "cell_type": "code",
   "execution_count": null,
   "id": "5526ed51",
   "metadata": {},
   "outputs": [],
   "source": [
    "plot_histogram(execute(t_circ_original, backend = Aer.get_backend('qasm_simulator'), shots = 999999).result().get_counts())"
   ]
  },
  {
   "cell_type": "code",
   "execution_count": null,
   "id": "9f77c1a0",
   "metadata": {},
   "outputs": [],
   "source": [
    "t_circ_original.count_ops()"
   ]
  },
  {
   "cell_type": "code",
   "execution_count": null,
   "id": "d8e1d2da",
   "metadata": {},
   "outputs": [],
   "source": []
  }
 ],
 "metadata": {
  "kernelspec": {
   "display_name": "Python 3",
   "language": "python",
   "name": "python3"
  },
  "language_info": {
   "codemirror_mode": {
    "name": "ipython",
    "version": 3
   },
   "file_extension": ".py",
   "mimetype": "text/x-python",
   "name": "python",
   "nbconvert_exporter": "python",
   "pygments_lexer": "ipython3",
   "version": "3.7.12"
  }
 },
 "nbformat": 4,
 "nbformat_minor": 5
}
