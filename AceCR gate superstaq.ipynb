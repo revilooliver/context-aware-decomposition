{
 "cells": [
  {
   "cell_type": "markdown",
   "id": "dbc4e568",
   "metadata": {},
   "source": [
    "### A few initial libraries ###"
   ]
  },
  {
   "cell_type": "code",
   "execution_count": 3,
   "id": "d8bf6a9b",
   "metadata": {},
   "outputs": [],
   "source": [
    "import numpy as np\n",
    "import qiskit\n",
    "from qiskit import QuantumCircuit, QuantumRegister, ClassicalRegister, Aer, execute, transpile\n",
    "\n",
    "from qiskit.transpiler import PassManager\n",
    "\n",
    "from qiskit.converters import circuit_to_dag\n",
    "from qiskit.visualization import dag_drawer, plot_histogram\n",
    "from qiskit.compiler import assemble\n",
    "from qiskit.tools.monitor import job_monitor\n",
    "\n",
    "from qiskit import IBMQ\n",
    "\n",
    "import qiskit_superstaq"
   ]
  },
  {
   "cell_type": "code",
   "execution_count": 4,
   "id": "a8ee7497",
   "metadata": {},
   "outputs": [
    {
     "data": {
      "text/plain": [
       "{'qiskit-terra': '0.18.3', 'qiskit-aer': '0.9.1', 'qiskit-ignis': '0.6.0', 'qiskit-ibmq-provider': '0.18.1', 'qiskit-aqua': '0.9.5', 'qiskit': '0.32.1', 'qiskit-nature': None, 'qiskit-finance': None, 'qiskit-optimization': None, 'qiskit-machine-learning': None}"
      ]
     },
     "execution_count": 4,
     "metadata": {},
     "output_type": "execute_result"
    }
   ],
   "source": [
    "qiskit.__qiskit_version__"
   ]
  },
  {
   "cell_type": "markdown",
   "id": "077373be",
   "metadata": {},
   "source": [
    "### Load device and the device configuration object ###"
   ]
  },
  {
   "cell_type": "code",
   "execution_count": 5,
   "id": "1cc434c0",
   "metadata": {},
   "outputs": [],
   "source": [
    "IBMQ.load_account()\n",
    "\n",
    "provider = IBMQ.get_provider('ibm-q-ornl')"
   ]
  },
  {
   "cell_type": "code",
   "execution_count": 31,
   "id": "ac4689c1",
   "metadata": {},
   "outputs": [
    {
     "data": {
      "text/plain": [
       "<qiskit.circuit.instructionset.InstructionSet at 0x7f8dbcc68d90>"
      ]
     },
     "execution_count": 31,
     "metadata": {},
     "output_type": "execute_result"
    }
   ],
   "source": [
    "qc = qiskit.circuit.QuantumCircuit(7)\n",
    "qc.append(qiskit_superstaq.AceCR(\"-+\"),[0,1])\n",
    "qc.append(qiskit_superstaq.AceCR(\"+-\"),[1,2])\n",
    "qc.append(qiskit_superstaq.AceCR(\"+-\"),[2,3])\n",
    "qc.append(qiskit_superstaq.AceCR(\"+-\"),[3,4])\n",
    "qc.append(qiskit_superstaq.AceCR(\"+-\"),[4,5])"
   ]
  },
  {
   "cell_type": "code",
   "execution_count": 32,
   "id": "7a7bc4c7",
   "metadata": {},
   "outputs": [
    {
     "data": {
      "text/html": [
       "<pre style=\"word-wrap: normal;white-space: pre;background: #fff0;line-height: 1.1;font-family: &quot;Courier New&quot;,Courier,monospace\">     ┌───────────┐                                                    \n",
       "q_0: ┤0          ├────────────────────────────────────────────────────\n",
       "     │  Acecr_mp │┌───────────┐                                       \n",
       "q_1: ┤1          ├┤0          ├───────────────────────────────────────\n",
       "     └───────────┘│  Acecr_pm │┌───────────┐                          \n",
       "q_2: ─────────────┤1          ├┤0          ├──────────────────────────\n",
       "                  └───────────┘│  Acecr_pm │┌───────────┐             \n",
       "q_3: ──────────────────────────┤1          ├┤0          ├─────────────\n",
       "                               └───────────┘│  Acecr_pm │┌───────────┐\n",
       "q_4: ───────────────────────────────────────┤1          ├┤0          ├\n",
       "                                            └───────────┘│  Acecr_pm │\n",
       "q_5: ────────────────────────────────────────────────────┤1          ├\n",
       "                                                         └───────────┘\n",
       "q_6: ─────────────────────────────────────────────────────────────────\n",
       "                                                                      </pre>"
      ],
      "text/plain": [
       "     ┌───────────┐                                                    \n",
       "q_0: ┤0          ├────────────────────────────────────────────────────\n",
       "     │  Acecr_mp │┌───────────┐                                       \n",
       "q_1: ┤1          ├┤0          ├───────────────────────────────────────\n",
       "     └───────────┘│  Acecr_pm │┌───────────┐                          \n",
       "q_2: ─────────────┤1          ├┤0          ├──────────────────────────\n",
       "                  └───────────┘│  Acecr_pm │┌───────────┐             \n",
       "q_3: ──────────────────────────┤1          ├┤0          ├─────────────\n",
       "                               └───────────┘│  Acecr_pm │┌───────────┐\n",
       "q_4: ───────────────────────────────────────┤1          ├┤0          ├\n",
       "                                            └───────────┘│  Acecr_pm │\n",
       "q_5: ────────────────────────────────────────────────────┤1          ├\n",
       "                                                         └───────────┘\n",
       "q_6: ─────────────────────────────────────────────────────────────────\n",
       "                                                                      "
      ]
     },
     "execution_count": 32,
     "metadata": {},
     "output_type": "execute_result"
    }
   ],
   "source": [
    "qc.draw()"
   ]
  },
  {
   "cell_type": "code",
   "execution_count": 33,
   "id": "692e73c9",
   "metadata": {},
   "outputs": [],
   "source": [
    "from qiskit_superstaq.superstaq_provider import SuperstaQProvider"
   ]
  },
  {
   "cell_type": "code",
   "execution_count": 34,
   "id": "9d90c17a",
   "metadata": {},
   "outputs": [],
   "source": [
    "provider = SuperstaQProvider(api_key=\"ya29.A0ARrdaM-BWPjpkjhKgbVSRwWROaVE3g6mKCew2all4yXuPNLIwc6l65K10DiAMa-w8he0mR-i0Tb_jE6-GqqWlscj9Zq58rC2oSSzRVaLdZJMoy2bWqIXVhK3Tehp5N4zd8uHhyp01G9KC90Xmu3BKALiGiLP-w\")"
   ]
  },
  {
   "cell_type": "code",
   "execution_count": 35,
   "id": "559ea70e",
   "metadata": {},
   "outputs": [],
   "source": [
    "out = provider.ibmq_compile(qc, target=\"ibmq_jakarta_qpu\")"
   ]
  },
  {
   "cell_type": "code",
   "execution_count": null,
   "id": "fac8acdb",
   "metadata": {},
   "outputs": [],
   "source": []
  }
 ],
 "metadata": {
  "kernelspec": {
   "display_name": "Python 3",
   "language": "python",
   "name": "python3"
  },
  "language_info": {
   "codemirror_mode": {
    "name": "ipython",
    "version": 3
   },
   "file_extension": ".py",
   "mimetype": "text/x-python",
   "name": "python",
   "nbconvert_exporter": "python",
   "pygments_lexer": "ipython3",
   "version": "3.7.12"
  }
 },
 "nbformat": 4,
 "nbformat_minor": 5
}
