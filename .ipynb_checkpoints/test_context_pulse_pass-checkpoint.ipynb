{
 "cells": [
  {
   "cell_type": "markdown",
   "id": "dbc4e568",
   "metadata": {},
   "source": [
    "### A few initial libraries ###"
   ]
  },
  {
   "cell_type": "code",
   "execution_count": 1,
   "id": "d8bf6a9b",
   "metadata": {},
   "outputs": [],
   "source": [
    "import numpy as np\n",
    "import qiskit\n",
    "from qiskit import QuantumCircuit, QuantumRegister, ClassicalRegister, Aer, execute, transpile\n",
    "\n",
    "from qiskit.transpiler import PassManager\n",
    "\n",
    "from qiskit.converters import circuit_to_dag\n",
    "from qiskit.visualization import dag_drawer, plot_histogram\n",
    "from qiskit.compiler import assemble\n",
    "from qiskit.tools.monitor import job_monitor\n",
    "\n",
    "from qiskit import IBMQ\n",
    "\n",
    "from qiskit.test.mock import FakeManhattan\n",
    "from qiskit.test.mock import FakeBogota\n",
    "from qiskit.test.mock import FakeMumbai\n",
    "from qiskit.test.mock import FakeTokyo\n",
    "from gate_variants.cx_variants import CX_Variant_Gate \n",
    "from orientation_map import orientation_map_gen"
   ]
  },
  {
   "cell_type": "code",
   "execution_count": 2,
   "id": "a8ee7497",
   "metadata": {},
   "outputs": [
    {
     "name": "stderr",
     "output_type": "stream",
     "text": [
      "/Users/revilooliver/Documents/quantum_computing/anaconda/anaconda3/envs/qiskit-terra/lib/python3.7/site-packages/qiskit/aqua/__init__.py:86: DeprecationWarning: The package qiskit.aqua is deprecated. It was moved/refactored to qiskit-terra For more information see <https://github.com/Qiskit/qiskit-aqua/blob/main/README.md#migration-guide>\n",
      "  warn_package('aqua', 'qiskit-terra')\n"
     ]
    },
    {
     "data": {
      "text/plain": [
       "{'qiskit-terra': '0.18.3', 'qiskit-aer': '0.9.1', 'qiskit-ignis': '0.6.0', 'qiskit-ibmq-provider': '0.18.1', 'qiskit-aqua': '0.9.5', 'qiskit': '0.32.1', 'qiskit-nature': None, 'qiskit-finance': None, 'qiskit-optimization': None, 'qiskit-machine-learning': None}"
      ]
     },
     "execution_count": 2,
     "metadata": {},
     "output_type": "execute_result"
    }
   ],
   "source": [
    "qiskit.__qiskit_version__"
   ]
  },
  {
   "cell_type": "markdown",
   "id": "077373be",
   "metadata": {},
   "source": [
    "### Load device and the device configuration object ###"
   ]
  },
  {
   "cell_type": "code",
   "execution_count": 3,
   "id": "1cc434c0",
   "metadata": {},
   "outputs": [],
   "source": [
    "IBMQ.load_account()\n",
    "\n",
    "provider = IBMQ.get_provider('ibm-q-ornl')\n",
    "# device = FakeMumbai()\n",
    "\n",
    "# backend_prop = device.properties()"
   ]
  },
  {
   "cell_type": "code",
   "execution_count": 4,
   "id": "be063b0e",
   "metadata": {},
   "outputs": [],
   "source": [
    "from qiskit_superstaq.superstaq_provider import SuperstaQProvider"
   ]
  },
  {
   "cell_type": "code",
   "execution_count": 5,
   "id": "92b59621",
   "metadata": {},
   "outputs": [],
   "source": [
    "superstaq_provider = SuperstaQProvider(api_key=\"ya29.A0ARrdaM-BWPjpkjhKgbVSRwWROaVE3g6mKCew2all4yXuPNLIwc6l65K10DiAMa-w8he0mR-i0Tb_jE6-GqqWlscj9Zq58rC2oSSzRVaLdZJMoy2bWqIXVhK3Tehp5N4zd8uHhyp01G9KC90Xmu3BKALiGiLP-w\")"
   ]
  },
  {
   "cell_type": "code",
   "execution_count": 6,
   "id": "dbd0c7d4",
   "metadata": {},
   "outputs": [],
   "source": [
    "from level3_context import _parse_transpile_args\n",
    "from level3_context_pulse import level_3_context_pulse_pass_manager, level_3_pulse_pass_manager"
   ]
  },
  {
   "cell_type": "code",
   "execution_count": 7,
   "id": "ad3cc14c",
   "metadata": {},
   "outputs": [
    {
     "data": {
      "text/plain": [
       "<qiskit.circuit.instructionset.InstructionSet at 0x7ff5b1c38690>"
      ]
     },
     "execution_count": 7,
     "metadata": {},
     "output_type": "execute_result"
    }
   ],
   "source": [
    "#test three intersection\n",
    "t5 = QuantumCircuit(5, 5)\n",
    "\n",
    "t5.cx(1,2)\n",
    "t5.rz(np.pi/3, 2)\n",
    "t5.cx(1,2)\n",
    "\n",
    "t5.cx(2,3)\n",
    "t5.cx(3,4)\n",
    "\n",
    "\n",
    "\n",
    "t5.measure(list(range(5)), list(range(5)))"
   ]
  },
  {
   "cell_type": "code",
   "execution_count": 8,
   "id": "88e39bee",
   "metadata": {},
   "outputs": [
    {
     "data": {
      "text/html": [
       "<pre style=\"word-wrap: normal;white-space: pre;background: #fff0;line-height: 1.1;font-family: &quot;Courier New&quot;,Courier,monospace\">          ┌─┐                      \n",
       "q_0: ─────┤M├──────────────────────\n",
       "          └╥┘                ┌─┐   \n",
       "q_1: ──■───╫──────────────■──┤M├───\n",
       "     ┌─┴─┐ ║ ┌─────────┐┌─┴─┐└╥┘┌─┐\n",
       "q_2: ┤ X ├─╫─┤ Rz(π/3) ├┤ X ├─╫─┤M├\n",
       "     └┬─┬┘ ║ └─────────┘└───┘ ║ └╥┘\n",
       "q_3: ─┤M├──╫──────────────────╫──╫─\n",
       "      └╥┘  ║     ┌─┐          ║  ║ \n",
       "q_4: ──╫───╫─────┤M├──────────╫──╫─\n",
       "       ║   ║     └╥┘          ║  ║ \n",
       "c: 5/══╩═══╩══════╩═══════════╩══╩═\n",
       "       3   0      4           1  2 </pre>"
      ],
      "text/plain": [
       "          ┌─┐                      \n",
       "q_0: ─────┤M├──────────────────────\n",
       "          └╥┘                ┌─┐   \n",
       "q_1: ──■───╫──────────────■──┤M├───\n",
       "     ┌─┴─┐ ║ ┌─────────┐┌─┴─┐└╥┘┌─┐\n",
       "q_2: ┤ X ├─╫─┤ Rz(π/3) ├┤ X ├─╫─┤M├\n",
       "     └┬─┬┘ ║ └─────────┘└───┘ ║ └╥┘\n",
       "q_3: ─┤M├──╫──────────────────╫──╫─\n",
       "      └╥┘  ║     ┌─┐          ║  ║ \n",
       "q_4: ──╫───╫─────┤M├──────────╫──╫─\n",
       "       ║   ║     └╥┘          ║  ║ \n",
       "c: 5/══╩═══╩══════╩═══════════╩══╩═\n",
       "       3   0      4           1  2 "
      ]
     },
     "execution_count": 8,
     "metadata": {},
     "output_type": "execute_result"
    }
   ],
   "source": [
    "t5.draw()"
   ]
  },
  {
   "cell_type": "code",
   "execution_count": 9,
   "id": "bef0105d",
   "metadata": {},
   "outputs": [],
   "source": [
    "backend = provider.get_backend('ibmq_bogota')"
   ]
  },
  {
   "cell_type": "code",
   "execution_count": 10,
   "id": "ddfb0037",
   "metadata": {},
   "outputs": [],
   "source": [
    "backend_prop = backend.properties()"
   ]
  },
  {
   "cell_type": "code",
   "execution_count": 11,
   "id": "fe81ef13",
   "metadata": {},
   "outputs": [],
   "source": [
    "orientation_map = orientation_map_gen(backend)"
   ]
  },
  {
   "cell_type": "code",
   "execution_count": 12,
   "id": "f4618da5",
   "metadata": {},
   "outputs": [
    {
     "data": {
      "text/plain": [
       "{(0, 1): 'b',\n",
       " (1, 0): 'f',\n",
       " (1, 2): 'f',\n",
       " (2, 1): 'b',\n",
       " (2, 3): 'b',\n",
       " (3, 2): 'f',\n",
       " (3, 4): 'b',\n",
       " (4, 3): 'f'}"
      ]
     },
     "execution_count": 12,
     "metadata": {},
     "output_type": "execute_result"
    }
   ],
   "source": [
    "orientation_map"
   ]
  },
  {
   "cell_type": "code",
   "execution_count": 13,
   "id": "adebb411",
   "metadata": {},
   "outputs": [
    {
     "name": "stdout",
     "output_type": "stream",
     "text": [
      "orientation {(0, 1): 'b', (1, 0): 'f', (1, 2): 'f', (2, 1): 'b', (2, 3): 'b', (3, 2): 'f', (3, 4): 'b', (4, 3): 'f'}\n"
     ]
    }
   ],
   "source": [
    "transpile_args = _parse_transpile_args([t5], backend, seed_transpiler = 0, orientation_map = orientation_map)"
   ]
  },
  {
   "cell_type": "code",
   "execution_count": 14,
   "id": "439e0dc0",
   "metadata": {},
   "outputs": [],
   "source": [
    "pass_manager_config = transpile_args[0]['pass_manager_config']"
   ]
  },
  {
   "cell_type": "code",
   "execution_count": 15,
   "id": "4522a220",
   "metadata": {},
   "outputs": [
    {
     "name": "stdout",
     "output_type": "stream",
     "text": [
      "{(0, 1): 'b', (1, 0): 'f', (1, 2): 'f', (2, 1): 'b', (2, 3): 'b', (3, 2): 'f', (3, 4): 'b', (4, 3): 'f'}\n"
     ]
    }
   ],
   "source": [
    "print(pass_manager_config.orientation_map)"
   ]
  },
  {
   "cell_type": "code",
   "execution_count": 16,
   "id": "6abcc0ca",
   "metadata": {},
   "outputs": [
    {
     "name": "stdout",
     "output_type": "stream",
     "text": [
      "layout_method:  dense\n",
      "routing method:  basic\n"
     ]
    }
   ],
   "source": [
    "pm_context = level_3_pulse_pass_manager(pass_manager_config)"
   ]
  },
  {
   "cell_type": "code",
   "execution_count": 17,
   "id": "b305c8f7",
   "metadata": {},
   "outputs": [
    {
     "name": "stdout",
     "output_type": "stream",
     "text": [
      "f\n",
      "intersect [Qubit(QuantumRegister(5, 'q'), 1), Qubit(QuantumRegister(5, 'q'), 2)]\n",
      "('00', '11', 'd')\n",
      "('11', '00', 'd')\n",
      "f\n"
     ]
    }
   ],
   "source": [
    "t_circ = pm_context.run(t5)"
   ]
  },
  {
   "cell_type": "code",
   "execution_count": 18,
   "id": "e15b75da",
   "metadata": {},
   "outputs": [
    {
     "data": {
      "text/plain": [
       "OrderedDict([('measure', 5), ('rz', 3), ('acecr_pm', 2), ('ry', 2), ('rx', 2)])"
      ]
     },
     "execution_count": 18,
     "metadata": {},
     "output_type": "execute_result"
    }
   ],
   "source": [
    "t_circ.count_ops()"
   ]
  },
  {
   "cell_type": "code",
   "execution_count": 19,
   "id": "5de5cf67",
   "metadata": {},
   "outputs": [
    {
     "data": {
      "text/html": [
       "<pre style=\"word-wrap: normal;white-space: pre;background: #fff0;line-height: 1.1;font-family: &quot;Courier New&quot;,Courier,monospace\">                      ┌─┐                                            »\n",
       "q_0 -> 0 ─────────────┤M├────────────────────────────────────────────»\n",
       "         ┌───────────┐└╥┘ ┌───────┐  ┌──────────┐┌─────────┐┌───────┐»\n",
       "q_1 -> 1 ┤0          ├─╫──┤ Ry(π) ├──┤ Rz(-π/2) ├┤ Rz(π/2) ├┤ Ry(π) ├»\n",
       "         │  Acecr_pm │ ║ ┌┴───────┴─┐├─────────┬┘├─────────┤└───────┘»\n",
       "q_2 -> 2 ┤1          ├─╫─┤ Rx(-π/2) ├┤ Rz(π/3) ├─┤ Rx(π/2) ├─────────»\n",
       "         └────┬─┬────┘ ║ └──────────┘└─────────┘ └─────────┘         »\n",
       "q_3 -> 3 ─────┤M├──────╫─────────────────────────────────────────────»\n",
       "              └╥┘      ║     ┌─┐                                     »\n",
       "q_4 -> 4 ──────╫───────╫─────┤M├─────────────────────────────────────»\n",
       "               ║       ║     └╥┘                                     »\n",
       "    c: 5/══════╩═══════╩══════╩══════════════════════════════════════»\n",
       "               3       0      4                                      »\n",
       "«                            \n",
       "«q_0 -> 0 ───────────────────\n",
       "«         ┌───────────┐┌─┐   \n",
       "«q_1 -> 1 ┤0          ├┤M├───\n",
       "«         │  Acecr_pm │└╥┘┌─┐\n",
       "«q_2 -> 2 ┤1          ├─╫─┤M├\n",
       "«         └───────────┘ ║ └╥┘\n",
       "«q_3 -> 3 ──────────────╫──╫─\n",
       "«                       ║  ║ \n",
       "«q_4 -> 4 ──────────────╫──╫─\n",
       "«                       ║  ║ \n",
       "«    c: 5/══════════════╩══╩═\n",
       "«                       1  2 </pre>"
      ],
      "text/plain": [
       "                      ┌─┐                                            »\n",
       "q_0 -> 0 ─────────────┤M├────────────────────────────────────────────»\n",
       "         ┌───────────┐└╥┘ ┌───────┐  ┌──────────┐┌─────────┐┌───────┐»\n",
       "q_1 -> 1 ┤0          ├─╫──┤ Ry(π) ├──┤ Rz(-π/2) ├┤ Rz(π/2) ├┤ Ry(π) ├»\n",
       "         │  Acecr_pm │ ║ ┌┴───────┴─┐├─────────┬┘├─────────┤└───────┘»\n",
       "q_2 -> 2 ┤1          ├─╫─┤ Rx(-π/2) ├┤ Rz(π/3) ├─┤ Rx(π/2) ├─────────»\n",
       "         └────┬─┬────┘ ║ └──────────┘└─────────┘ └─────────┘         »\n",
       "q_3 -> 3 ─────┤M├──────╫─────────────────────────────────────────────»\n",
       "              └╥┘      ║     ┌─┐                                     »\n",
       "q_4 -> 4 ──────╫───────╫─────┤M├─────────────────────────────────────»\n",
       "               ║       ║     └╥┘                                     »\n",
       "    c: 5/══════╩═══════╩══════╩══════════════════════════════════════»\n",
       "               3       0      4                                      »\n",
       "«                            \n",
       "«q_0 -> 0 ───────────────────\n",
       "«         ┌───────────┐┌─┐   \n",
       "«q_1 -> 1 ┤0          ├┤M├───\n",
       "«         │  Acecr_pm │└╥┘┌─┐\n",
       "«q_2 -> 2 ┤1          ├─╫─┤M├\n",
       "«         └───────────┘ ║ └╥┘\n",
       "«q_3 -> 3 ──────────────╫──╫─\n",
       "«                       ║  ║ \n",
       "«q_4 -> 4 ──────────────╫──╫─\n",
       "«                       ║  ║ \n",
       "«    c: 5/══════════════╩══╩═\n",
       "«                       1  2 "
      ]
     },
     "execution_count": 19,
     "metadata": {},
     "output_type": "execute_result"
    }
   ],
   "source": [
    "t_circ.draw()"
   ]
  },
  {
   "cell_type": "code",
   "execution_count": 20,
   "id": "29b46f3d",
   "metadata": {},
   "outputs": [
    {
     "ename": "AttributeError",
     "evalue": "'AccountProvider' object has no attribute 'ibmq_compile'",
     "output_type": "error",
     "traceback": [
      "\u001b[0;31m---------------------------------------------------------------------------\u001b[0m",
      "\u001b[0;31mAttributeError\u001b[0m                            Traceback (most recent call last)",
      "\u001b[0;32m<ipython-input-20-f11fda98f45a>\u001b[0m in \u001b[0;36m<module>\u001b[0;34m\u001b[0m\n\u001b[0;32m----> 1\u001b[0;31m \u001b[0mout\u001b[0m \u001b[0;34m=\u001b[0m \u001b[0mprovider\u001b[0m\u001b[0;34m.\u001b[0m\u001b[0mibmq_compile\u001b[0m\u001b[0;34m(\u001b[0m\u001b[0mt_circ\u001b[0m\u001b[0;34m,\u001b[0m \u001b[0mtarget\u001b[0m\u001b[0;34m=\u001b[0m\u001b[0;34m\"ibmq_bogota_qpu\"\u001b[0m\u001b[0;34m)\u001b[0m\u001b[0;34m\u001b[0m\u001b[0;34m\u001b[0m\u001b[0m\n\u001b[0m",
      "\u001b[0;31mAttributeError\u001b[0m: 'AccountProvider' object has no attribute 'ibmq_compile'"
     ]
    }
   ],
   "source": [
    "out = provider.ibmq_compile(t_circ, target=\"ibmq_bogota_qpu\")"
   ]
  },
  {
   "cell_type": "code",
   "execution_count": null,
   "id": "96e2d860",
   "metadata": {},
   "outputs": [],
   "source": [
    "out.circuit.draw(output='mpl')"
   ]
  },
  {
   "cell_type": "code",
   "execution_count": null,
   "id": "af94a721",
   "metadata": {},
   "outputs": [],
   "source": [
    "out.circuit.count_ops()"
   ]
  },
  {
   "cell_type": "code",
   "execution_count": null,
   "id": "ce18c3fe",
   "metadata": {},
   "outputs": [],
   "source": [
    "out2 = provider.ibmq_compile(t5, target=\"ibmq_bogota_qpu\")"
   ]
  },
  {
   "cell_type": "code",
   "execution_count": null,
   "id": "c3fcc6c1",
   "metadata": {},
   "outputs": [],
   "source": [
    "out2.circuit.count_ops()"
   ]
  },
  {
   "cell_type": "code",
   "execution_count": null,
   "id": "d9ac3548",
   "metadata": {},
   "outputs": [],
   "source": [
    "out2.circuit.draw()"
   ]
  },
  {
   "cell_type": "code",
   "execution_count": null,
   "id": "1d7ed7b4",
   "metadata": {},
   "outputs": [],
   "source": [
    "out.circuit.draw()"
   ]
  },
  {
   "cell_type": "code",
   "execution_count": null,
   "id": "4a3289d3",
   "metadata": {},
   "outputs": [],
   "source": [
    "t_circ.size()"
   ]
  },
  {
   "cell_type": "code",
   "execution_count": null,
   "id": "c16d0f7c",
   "metadata": {},
   "outputs": [],
   "source": [
    "t_circ.depth()"
   ]
  },
  {
   "cell_type": "code",
   "execution_count": null,
   "id": "d472cde9",
   "metadata": {},
   "outputs": [],
   "source": [
    "plot_histogram(execute(t_circ, backend = Aer.get_backend('qasm_simulator'), shots = 999999).result().get_counts())"
   ]
  },
  {
   "cell_type": "code",
   "execution_count": null,
   "id": "65692c61",
   "metadata": {},
   "outputs": [],
   "source": [
    "pm_trios = level_3_pass_manager(pass_manager_config)"
   ]
  },
  {
   "cell_type": "code",
   "execution_count": null,
   "id": "e29ebd99",
   "metadata": {},
   "outputs": [],
   "source": [
    "t_trios_circ = pm_trios.run(t5)"
   ]
  },
  {
   "cell_type": "code",
   "execution_count": null,
   "id": "3903c3d8",
   "metadata": {},
   "outputs": [],
   "source": [
    "t_trios_circ.count_ops()"
   ]
  },
  {
   "cell_type": "code",
   "execution_count": null,
   "id": "59719221",
   "metadata": {},
   "outputs": [],
   "source": [
    "t_trios_circ.draw(output = \"mpl\")"
   ]
  },
  {
   "cell_type": "code",
   "execution_count": null,
   "id": "0eeff115",
   "metadata": {},
   "outputs": [],
   "source": [
    "t_trios_circ.size()"
   ]
  },
  {
   "cell_type": "code",
   "execution_count": null,
   "id": "f221d933",
   "metadata": {},
   "outputs": [],
   "source": [
    "t_trios_circ.depth()"
   ]
  },
  {
   "cell_type": "code",
   "execution_count": null,
   "id": "af6749a6",
   "metadata": {},
   "outputs": [],
   "source": [
    "t_trios_circ.count_ops()"
   ]
  },
  {
   "cell_type": "markdown",
   "id": "50684b4d",
   "metadata": {},
   "source": [
    "### Default compilation results ###"
   ]
  },
  {
   "cell_type": "code",
   "execution_count": null,
   "id": "246c9131",
   "metadata": {},
   "outputs": [],
   "source": [
    "from qiskit.compiler import transpile\n",
    "\n",
    "t_circ_original = transpile(t5, backend = backend, optimization_level = 3, seed_transpiler = 0)"
   ]
  },
  {
   "cell_type": "code",
   "execution_count": null,
   "id": "d35098fa",
   "metadata": {},
   "outputs": [],
   "source": [
    "t5.draw()"
   ]
  },
  {
   "cell_type": "code",
   "execution_count": null,
   "id": "615fabb2",
   "metadata": {},
   "outputs": [],
   "source": [
    "t_circ_original.size()"
   ]
  },
  {
   "cell_type": "code",
   "execution_count": null,
   "id": "4974be61",
   "metadata": {},
   "outputs": [],
   "source": [
    "t_circ_original.depth()"
   ]
  },
  {
   "cell_type": "code",
   "execution_count": null,
   "id": "5526ed51",
   "metadata": {},
   "outputs": [],
   "source": [
    "plot_histogram(execute(t_circ_original, backend = Aer.get_backend('qasm_simulator'), shots = 999999).result().get_counts())"
   ]
  },
  {
   "cell_type": "code",
   "execution_count": null,
   "id": "9f77c1a0",
   "metadata": {},
   "outputs": [],
   "source": [
    "t_circ_original.count_ops()"
   ]
  },
  {
   "cell_type": "code",
   "execution_count": null,
   "id": "d8e1d2da",
   "metadata": {},
   "outputs": [],
   "source": []
  }
 ],
 "metadata": {
  "kernelspec": {
   "display_name": "Python 3",
   "language": "python",
   "name": "python3"
  },
  "language_info": {
   "codemirror_mode": {
    "name": "ipython",
    "version": 3
   },
   "file_extension": ".py",
   "mimetype": "text/x-python",
   "name": "python",
   "nbconvert_exporter": "python",
   "pygments_lexer": "ipython3",
   "version": "3.7.12"
  }
 },
 "nbformat": 4,
 "nbformat_minor": 5
}
