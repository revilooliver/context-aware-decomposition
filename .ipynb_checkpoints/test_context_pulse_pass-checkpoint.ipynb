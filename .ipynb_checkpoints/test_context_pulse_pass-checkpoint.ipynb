{
 "cells": [
  {
   "cell_type": "markdown",
   "id": "dbc4e568",
   "metadata": {},
   "source": [
    "### A few initial libraries ###"
   ]
  },
  {
   "cell_type": "code",
   "execution_count": 1,
   "id": "d8bf6a9b",
   "metadata": {},
   "outputs": [],
   "source": [
    "import numpy as np\n",
    "import qiskit\n",
    "from qiskit import QuantumCircuit, QuantumRegister, ClassicalRegister, Aer, execute, transpile\n",
    "\n",
    "from qiskit.transpiler import PassManager\n",
    "\n",
    "from qiskit.converters import circuit_to_dag\n",
    "from qiskit.visualization import dag_drawer, plot_histogram\n",
    "from qiskit.compiler import assemble\n",
    "from qiskit.tools.monitor import job_monitor\n",
    "\n",
    "from qiskit import IBMQ\n",
    "\n",
    "from qiskit.test.mock import FakeManhattan\n",
    "from qiskit.test.mock import FakeMumbai\n",
    "from qiskit.test.mock import FakeTokyo"
   ]
  },
  {
   "cell_type": "code",
   "execution_count": 2,
   "id": "a8ee7497",
   "metadata": {},
   "outputs": [
    {
     "name": "stderr",
     "output_type": "stream",
     "text": [
      "/Users/revilooliver/Documents/quantum_computing/anaconda/anaconda3/envs/qiskit-terra/lib/python3.7/site-packages/qiskit/aqua/__init__.py:86: DeprecationWarning: The package qiskit.aqua is deprecated. It was moved/refactored to qiskit-terra For more information see <https://github.com/Qiskit/qiskit-aqua/blob/main/README.md#migration-guide>\n",
      "  warn_package('aqua', 'qiskit-terra')\n"
     ]
    },
    {
     "data": {
      "text/plain": [
       "{'qiskit-terra': '0.18.3', 'qiskit-aer': '0.9.1', 'qiskit-ignis': '0.6.0', 'qiskit-ibmq-provider': '0.18.1', 'qiskit-aqua': '0.9.5', 'qiskit': '0.32.1', 'qiskit-nature': None, 'qiskit-finance': None, 'qiskit-optimization': None, 'qiskit-machine-learning': None}"
      ]
     },
     "execution_count": 2,
     "metadata": {},
     "output_type": "execute_result"
    }
   ],
   "source": [
    "qiskit.__qiskit_version__"
   ]
  },
  {
   "cell_type": "markdown",
   "id": "077373be",
   "metadata": {},
   "source": [
    "### Load device and the device configuration object ###"
   ]
  },
  {
   "cell_type": "code",
   "execution_count": 3,
   "id": "1cc434c0",
   "metadata": {},
   "outputs": [],
   "source": [
    "IBMQ.load_account()\n",
    "\n",
    "provider = IBMQ.get_provider('ibm-q-ornl')\n",
    "# device = FakeMumbai()\n",
    "\n",
    "# backend_prop = device.properties()"
   ]
  },
  {
   "cell_type": "code",
   "execution_count": 4,
   "id": "dbd0c7d4",
   "metadata": {},
   "outputs": [
    {
     "ename": "SyntaxError",
     "evalue": "trailing comma not allowed without surrounding parentheses (<ipython-input-4-a2300ce214e7>, line 2)",
     "output_type": "error",
     "traceback": [
      "\u001b[0;36m  File \u001b[0;32m\"<ipython-input-4-a2300ce214e7>\"\u001b[0;36m, line \u001b[0;32m2\u001b[0m\n\u001b[0;31m    from level3_context_pulse import level_3_context_pulse_pass_manager, level_3_pulse_pass_manager,\u001b[0m\n\u001b[0m                                    ^\u001b[0m\n\u001b[0;31mSyntaxError\u001b[0m\u001b[0;31m:\u001b[0m trailing comma not allowed without surrounding parentheses\n"
     ]
    }
   ],
   "source": [
    "from level3_context import _parse_transpile_args\n",
    "from level3_context_pulse import level_3_context_pulse_pass_manager, level_3_pulse_pass_manager, "
   ]
  },
  {
   "cell_type": "code",
   "execution_count": null,
   "id": "f3e6e793",
   "metadata": {},
   "outputs": [],
   "source": [
    "#test circuit\n",
    "t5 = QuantumCircuit(5, 5)\n",
    "t5.h(0)\n",
    "\n",
    "t5.barrier()\n",
    "t5.ccx(0, 1, 2)\n",
    "t5.cx(0, 3)\n",
    "t5.ccx(0, 1, 2)\n",
    "\n",
    "t5.barrier()\n",
    "\n",
    "t5.ccx(0, 1, 2)\n",
    "t5.cx(0, 1)\n",
    "t5.ccx(0, 1, 2)\n",
    "\n",
    "t5.barrier()\n",
    "\n",
    "t5.ccx(0, 1, 2)\n",
    "t5.cx(1, 2)\n",
    "t5.ccx(0, 1, 2)\n",
    "\n",
    "t5.barrier()\n",
    "\n",
    "t5.ccx(0, 1, 2)\n",
    "t5.cx(2, 3)\n",
    "t5.ccx(0, 1, 2)\n",
    "\n",
    "t5.barrier()\n",
    "\n",
    "t5.ccx(0, 1, 2)\n",
    "t5.cswap(1, 2, 3)\n",
    "t5.ccx(0, 1, 2)\n",
    "\n",
    "t5.barrier()\n",
    "\n",
    "t5.ccx(0, 1, 2)\n",
    "t5.cswap(2, 3, 4)\n",
    "t5.ccx(0, 1, 2)\n",
    "\n",
    "t5.barrier()\n",
    "\n",
    "\n",
    "\n",
    "# t5.cx(0, 2)\n",
    "# t5.ccx(0, 1, 2)\n",
    "# t5.cx(1, 0)\n",
    "\n",
    "# t5.barrier()\n",
    "\n",
    "# t5.cx(1, 2)\n",
    "# t5.ccx(0, 1, 2)\n",
    "# t5.cx(0, 1)\n",
    "\n",
    "# t5.barrier()\n",
    "\n",
    "# t5.ccx(1, 2, 3)\n",
    "# t5.x(2)\n",
    "# t5.ccx(2, 3, 4)\n",
    "# t5.h(3)\n",
    "# t5.cx(3, 2)\n",
    "# t5.h(4)\n",
    "# t5.ccx(4, 3, 1)\n",
    "\n",
    "t5.measure(list(range(5)), list(range(5)))"
   ]
  },
  {
   "cell_type": "code",
   "execution_count": null,
   "id": "b111a66d",
   "metadata": {},
   "outputs": [],
   "source": [
    "#test two intersection\n",
    "t5 = QuantumCircuit(5, 5)\n",
    "t5.h(0)\n",
    "\n",
    "t5.barrier()\n",
    "t5.ccx(0, 1, 3)\n",
    "t5.cx(0, 3)\n",
    "t5.ccx(0, 1, 2)\n",
    "\n",
    "t5.barrier()\n",
    "#in this example, the predecessor of the second ccx is cx, it will not identify the cancellation of two ccx\n",
    "t5.ccx(0, 1, 3)\n",
    "t5.cx(0, 1)\n",
    "t5.ccx(0, 1, 2)\n",
    "\n",
    "t5.barrier()\n",
    "\n",
    "t5.ccx(0, 1, 2)\n",
    "t5.cx(1, 2)\n",
    "t5.ccx(0, 1, 3)\n",
    "\n",
    "# t5.barrier()\n",
    "\n",
    "# t5.ccx(0, 1, 2)\n",
    "# t5.cx(2, 3)\n",
    "# t5.ccx(0, 2, 3)\n",
    "\n",
    "# t5.barrier()\n",
    "\n",
    "# t5.ccx(0, 1, 2)\n",
    "# t5.x(1)\n",
    "# t5.ccx(0, 1, 3)\n",
    "\n",
    "t5.barrier()\n",
    "\n",
    "t5.ccx(0, 1, 2)\n",
    "t5.ccx(0, 1, 3)\n",
    "\n",
    "t5.barrier()\n",
    "\n",
    "t5.ccx(0, 1, 2)\n",
    "t5.ccx(0, 2, 3)\n",
    "\n",
    "t5.barrier()\n",
    "\n",
    "t5.ccx(0, 1, 2)\n",
    "t5.ccx(3, 0, 2)\n",
    "\n",
    "t5.barrier()\n",
    "\n",
    "\n",
    "\n",
    "t5.measure(list(range(5)), list(range(5)))"
   ]
  },
  {
   "cell_type": "code",
   "execution_count": null,
   "id": "ad3cc14c",
   "metadata": {},
   "outputs": [],
   "source": [
    "#test three intersection\n",
    "t5 = QuantumCircuit(5, 5)\n",
    "t5.h(0)\n",
    "\n",
    "t5.barrier()\n",
    "t5.ccx(0, 1, 2)\n",
    "t5.cx(0, 3)\n",
    "t5.ccx(0, 1, 2)\n",
    "\n",
    "t5.barrier()\n",
    "\n",
    "t5.ccx(0, 1, 2)\n",
    "t5.cx(0, 1)\n",
    "t5.ccx(0, 1, 2)\n",
    "\n",
    "t5.barrier()\n",
    "\n",
    "t5.ccx(0, 1, 2)\n",
    "t5.cx(1, 4)\n",
    "t5.ccx(0, 1, 2)\n",
    "\n",
    "t5.barrier()\n",
    "\n",
    "t5.ccx(0, 1, 2)\n",
    "t5.x(2)\n",
    "t5.ccx(0, 1, 2)\n",
    "\n",
    "# t5.barrier()\n",
    "\n",
    "# t5.ccx(0, 1, 2)\n",
    "# t5.cx(2, 3)\n",
    "# t5.ccx(0, 2, 3)\n",
    "\n",
    "# t5.barrier()\n",
    "\n",
    "# t5.ccx(0, 1, 2)\n",
    "# t5.x(1)\n",
    "# t5.ccx(0, 1, 3)\n",
    "\n",
    "t5.barrier()\n",
    "\n",
    "t5.ccx(0, 1, 2)\n",
    "t5.ccx(0, 1, 3)\n",
    "\n",
    "t5.barrier()\n",
    "\n",
    "t5.ccx(0, 1, 2)\n",
    "t5.ccx(0, 2, 3)\n",
    "\n",
    "t5.barrier()\n",
    "\n",
    "t5.ccx(0, 1, 2)\n",
    "t5.ccx(3, 0, 2)\n",
    "\n",
    "t5.barrier()\n",
    "\n",
    "\n",
    "\n",
    "t5.measure(list(range(5)), list(range(5)))"
   ]
  },
  {
   "cell_type": "code",
   "execution_count": null,
   "id": "88e39bee",
   "metadata": {},
   "outputs": [],
   "source": [
    "t5.draw()"
   ]
  },
  {
   "cell_type": "code",
   "execution_count": null,
   "id": "bef0105d",
   "metadata": {},
   "outputs": [],
   "source": [
    "#backend = provider.get_backend('ibmq_mumbai')"
   ]
  },
  {
   "cell_type": "code",
   "execution_count": null,
   "id": "ddfb0037",
   "metadata": {},
   "outputs": [],
   "source": [
    "backend = FakeTokyo()\n",
    "\n",
    "backend_prop = backend.properties()"
   ]
  },
  {
   "cell_type": "code",
   "execution_count": null,
   "id": "adebb411",
   "metadata": {},
   "outputs": [],
   "source": [
    "transpile_args = _parse_transpile_args([t5], backend, seed_transpiler = 0)"
   ]
  },
  {
   "cell_type": "code",
   "execution_count": null,
   "id": "439e0dc0",
   "metadata": {},
   "outputs": [],
   "source": [
    "pass_manager_config = transpile_args[0]['pass_manager_config']"
   ]
  },
  {
   "cell_type": "code",
   "execution_count": null,
   "id": "6abcc0ca",
   "metadata": {},
   "outputs": [],
   "source": [
    "pm_context = level_3_pulse_pass_manager(pass_manager_config)"
   ]
  },
  {
   "cell_type": "code",
   "execution_count": null,
   "id": "b305c8f7",
   "metadata": {},
   "outputs": [],
   "source": [
    "t_circ = pm_context.run(t5)"
   ]
  },
  {
   "cell_type": "code",
   "execution_count": null,
   "id": "e15b75da",
   "metadata": {},
   "outputs": [],
   "source": [
    "t_circ.draw(output = 'mpl')"
   ]
  },
  {
   "cell_type": "code",
   "execution_count": null,
   "id": "af94a721",
   "metadata": {},
   "outputs": [],
   "source": [
    "t_circ.count_ops()"
   ]
  },
  {
   "cell_type": "code",
   "execution_count": null,
   "id": "4a3289d3",
   "metadata": {},
   "outputs": [],
   "source": [
    "t_circ.size()"
   ]
  },
  {
   "cell_type": "code",
   "execution_count": null,
   "id": "c16d0f7c",
   "metadata": {},
   "outputs": [],
   "source": [
    "t_circ.depth()"
   ]
  },
  {
   "cell_type": "code",
   "execution_count": null,
   "id": "d472cde9",
   "metadata": {},
   "outputs": [],
   "source": [
    "plot_histogram(execute(t_circ, backend = Aer.get_backend('qasm_simulator'), shots = 999999).result().get_counts())"
   ]
  },
  {
   "cell_type": "code",
   "execution_count": null,
   "id": "65692c61",
   "metadata": {},
   "outputs": [],
   "source": [
    "pm_trios = level_3_pass_manager(pass_manager_config)"
   ]
  },
  {
   "cell_type": "code",
   "execution_count": null,
   "id": "e29ebd99",
   "metadata": {},
   "outputs": [],
   "source": [
    "t_trios_circ = pm_trios.run(t5)"
   ]
  },
  {
   "cell_type": "code",
   "execution_count": null,
   "id": "3903c3d8",
   "metadata": {},
   "outputs": [],
   "source": [
    "t_trios_circ.count_ops()"
   ]
  },
  {
   "cell_type": "code",
   "execution_count": null,
   "id": "59719221",
   "metadata": {},
   "outputs": [],
   "source": [
    "t_trios_circ.draw(output = \"mpl\")"
   ]
  },
  {
   "cell_type": "code",
   "execution_count": null,
   "id": "0eeff115",
   "metadata": {},
   "outputs": [],
   "source": [
    "t_trios_circ.size()"
   ]
  },
  {
   "cell_type": "code",
   "execution_count": null,
   "id": "f221d933",
   "metadata": {},
   "outputs": [],
   "source": [
    "t_trios_circ.depth()"
   ]
  },
  {
   "cell_type": "code",
   "execution_count": null,
   "id": "af6749a6",
   "metadata": {},
   "outputs": [],
   "source": [
    "t_trios_circ.count_ops()"
   ]
  },
  {
   "cell_type": "markdown",
   "id": "50684b4d",
   "metadata": {},
   "source": [
    "### Default compilation results ###"
   ]
  },
  {
   "cell_type": "code",
   "execution_count": null,
   "id": "246c9131",
   "metadata": {},
   "outputs": [],
   "source": [
    "from qiskit.compiler import transpile\n",
    "\n",
    "t_circ_original = transpile(t5, backend = backend, optimization_level = 3, seed_transpiler = 0)"
   ]
  },
  {
   "cell_type": "code",
   "execution_count": null,
   "id": "d35098fa",
   "metadata": {},
   "outputs": [],
   "source": [
    "t5.draw()"
   ]
  },
  {
   "cell_type": "code",
   "execution_count": null,
   "id": "615fabb2",
   "metadata": {},
   "outputs": [],
   "source": [
    "t_circ_original.size()"
   ]
  },
  {
   "cell_type": "code",
   "execution_count": null,
   "id": "4974be61",
   "metadata": {},
   "outputs": [],
   "source": [
    "t_circ_original.depth()"
   ]
  },
  {
   "cell_type": "code",
   "execution_count": null,
   "id": "5526ed51",
   "metadata": {},
   "outputs": [],
   "source": [
    "plot_histogram(execute(t_circ_original, backend = Aer.get_backend('qasm_simulator'), shots = 999999).result().get_counts())"
   ]
  },
  {
   "cell_type": "code",
   "execution_count": null,
   "id": "9f77c1a0",
   "metadata": {},
   "outputs": [],
   "source": [
    "t_circ_original.count_ops()"
   ]
  },
  {
   "cell_type": "code",
   "execution_count": null,
   "id": "d8e1d2da",
   "metadata": {},
   "outputs": [],
   "source": []
  }
 ],
 "metadata": {
  "kernelspec": {
   "display_name": "Python 3",
   "language": "python",
   "name": "python3"
  },
  "language_info": {
   "codemirror_mode": {
    "name": "ipython",
    "version": 3
   },
   "file_extension": ".py",
   "mimetype": "text/x-python",
   "name": "python",
   "nbconvert_exporter": "python",
   "pygments_lexer": "ipython3",
   "version": "3.7.12"
  }
 },
 "nbformat": 4,
 "nbformat_minor": 5
}
