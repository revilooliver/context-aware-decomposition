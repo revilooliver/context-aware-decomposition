{
 "cells": [
  {
   "cell_type": "markdown",
   "id": "dbc4e568",
   "metadata": {},
   "source": [
    "### A few initial libraries ###"
   ]
  },
  {
   "cell_type": "code",
   "execution_count": 1,
   "id": "d8bf6a9b",
   "metadata": {},
   "outputs": [
    {
     "name": "stderr",
     "output_type": "stream",
     "text": [
      "/Users/revilooliver/Documents/quantum_computing/anaconda/anaconda3/envs/qiskit-terra/lib/python3.7/site-packages/qiskit/aqua/__init__.py:86: DeprecationWarning: The package qiskit.aqua is deprecated. It was moved/refactored to qiskit-terra For more information see <https://github.com/Qiskit/qiskit-aqua/blob/main/README.md#migration-guide>\n",
      "  warn_package('aqua', 'qiskit-terra')\n"
     ]
    }
   ],
   "source": [
    "import numpy as np\n",
    "import qiskit\n",
    "from qiskit import *\n",
    "from qiskit import QuantumCircuit, QuantumRegister, ClassicalRegister, Aer, execute, transpile\n",
    "\n",
    "from qiskit.transpiler import PassManager\n",
    "\n",
    "from qiskit.converters import circuit_to_dag\n",
    "from qiskit.visualization import dag_drawer, plot_histogram\n",
    "from qiskit.compiler import assemble\n",
    "from qiskit.tools.monitor import job_monitor\n",
    "\n",
    "from qiskit import IBMQ\n",
    "from trios_bench.cnx_logdepth import generate_cnx_log_depth"
   ]
  },
  {
   "cell_type": "code",
   "execution_count": 4,
   "id": "edda520b",
   "metadata": {},
   "outputs": [],
   "source": [
    "from qiskit_superstaq.superstaq_provider import SuperstaQProvider"
   ]
  },
  {
   "cell_type": "code",
   "execution_count": 2,
   "id": "a8ee7497",
   "metadata": {},
   "outputs": [
    {
     "data": {
      "text/plain": [
       "{'qiskit-terra': '0.18.3', 'qiskit-aer': '0.9.1', 'qiskit-ignis': '0.6.0', 'qiskit-ibmq-provider': '0.18.1', 'qiskit-aqua': '0.9.5', 'qiskit': '0.32.1', 'qiskit-nature': None, 'qiskit-finance': None, 'qiskit-optimization': None, 'qiskit-machine-learning': None}"
      ]
     },
     "execution_count": 2,
     "metadata": {},
     "output_type": "execute_result"
    }
   ],
   "source": [
    "qiskit.__qiskit_version__"
   ]
  },
  {
   "cell_type": "markdown",
   "id": "077373be",
   "metadata": {},
   "source": [
    "### Load device and the device configuration object ###"
   ]
  },
  {
   "cell_type": "code",
   "execution_count": 3,
   "id": "1cc434c0",
   "metadata": {},
   "outputs": [],
   "source": [
    "IBMQ.load_account()\n",
    "\n",
    "provider = IBMQ.get_provider('ibm-q-ornl')\n",
    "# device = FakeMumbai()\n",
    "\n",
    "# backend_prop = device.properties()"
   ]
  },
  {
   "cell_type": "code",
   "execution_count": 5,
   "id": "2bda3ba5",
   "metadata": {},
   "outputs": [],
   "source": [
    "superstaq_provider = SuperstaQProvider(api_key=\"ya29.A0ARrdaM-BWPjpkjhKgbVSRwWROaVE3g6mKCew2all4yXuPNLIwc6l65K10DiAMa-w8he0mR-i0Tb_jE6-GqqWlscj9Zq58rC2oSSzRVaLdZJMoy2bWqIXVhK3Tehp5N4zd8uHhyp01G9KC90Xmu3BKALiGiLP-w\")"
   ]
  },
  {
   "cell_type": "code",
   "execution_count": 9,
   "id": "ad3cc14c",
   "metadata": {},
   "outputs": [],
   "source": [
    "cnx_qc = generate_cnx_log_depth(7)"
   ]
  },
  {
   "cell_type": "code",
   "execution_count": 10,
   "id": "88e39bee",
   "metadata": {},
   "outputs": [
    {
     "data": {
      "text/html": [
       "<pre style=\"word-wrap: normal;white-space: pre;background: #fff0;line-height: 1.1;font-family: &quot;Courier New&quot;,Courier,monospace\">                              \n",
       "q_0: ──■───────────────────■──\n",
       "       │                   │  \n",
       "q_1: ──■───────────────────■──\n",
       "       │                   │  \n",
       "q_2: ──┼────■─────────■────┼──\n",
       "       │    │         │    │  \n",
       "q_3: ──┼────■─────────■────┼──\n",
       "       │    │  ┌───┐  │    │  \n",
       "q_4: ──┼────┼──┤ X ├──┼────┼──\n",
       "     ┌─┴─┐  │  └─┬─┘  │  ┌─┴─┐\n",
       "q_5: ┤ X ├──┼────■────┼──┤ X ├\n",
       "     └───┘┌─┴─┐  │  ┌─┴─┐└───┘\n",
       "q_6: ─────┤ X ├──■──┤ X ├─────\n",
       "          └───┘     └───┘     </pre>"
      ],
      "text/plain": [
       "                              \n",
       "q_0: ──■───────────────────■──\n",
       "       │                   │  \n",
       "q_1: ──■───────────────────■──\n",
       "       │                   │  \n",
       "q_2: ──┼────■─────────■────┼──\n",
       "       │    │         │    │  \n",
       "q_3: ──┼────■─────────■────┼──\n",
       "       │    │  ┌───┐  │    │  \n",
       "q_4: ──┼────┼──┤ X ├──┼────┼──\n",
       "     ┌─┴─┐  │  └─┬─┘  │  ┌─┴─┐\n",
       "q_5: ┤ X ├──┼────■────┼──┤ X ├\n",
       "     └───┘┌─┴─┐  │  ┌─┴─┐└───┘\n",
       "q_6: ─────┤ X ├──■──┤ X ├─────\n",
       "          └───┘     └───┘     "
      ]
     },
     "execution_count": 10,
     "metadata": {},
     "output_type": "execute_result"
    }
   ],
   "source": [
    "cnx_qc.draw()"
   ]
  },
  {
   "cell_type": "code",
   "execution_count": 32,
   "id": "bef0105d",
   "metadata": {},
   "outputs": [],
   "source": [
    "backend = provider.get_backend('ibmq_jakarta')"
   ]
  },
  {
   "cell_type": "code",
   "execution_count": 11,
   "id": "0f791cc0",
   "metadata": {},
   "outputs": [
    {
     "ename": "SuperstaQException",
     "evalue": "Status code: 502, Message: 'Non-retriable error making request to SuperstaQ API, Bad Gateway'",
     "output_type": "error",
     "traceback": [
      "\u001b[0;31m---------------------------------------------------------------------------\u001b[0m",
      "\u001b[0;31mSuperstaQException\u001b[0m                        Traceback (most recent call last)",
      "\u001b[0;32m<ipython-input-11-602827ce80be>\u001b[0m in \u001b[0;36m<module>\u001b[0;34m\u001b[0m\n\u001b[0;32m----> 1\u001b[0;31m \u001b[0mout\u001b[0m \u001b[0;34m=\u001b[0m \u001b[0msuperstaq_provider\u001b[0m\u001b[0;34m.\u001b[0m\u001b[0mibmq_compile\u001b[0m\u001b[0;34m(\u001b[0m\u001b[0mcnx_qc\u001b[0m\u001b[0;34m,\u001b[0m \u001b[0mtarget\u001b[0m\u001b[0;34m=\u001b[0m\u001b[0;34m\"ibmq_jakarta_qpu\"\u001b[0m\u001b[0;34m)\u001b[0m\u001b[0;34m\u001b[0m\u001b[0;34m\u001b[0m\u001b[0m\n\u001b[0m",
      "\u001b[0;32m~/Documents/quantum_computing/anaconda/anaconda3/envs/qiskit-terra/lib/python3.7/site-packages/qiskit_superstaq/superstaq_provider.py\u001b[0m in \u001b[0;36mibmq_compile\u001b[0;34m(self, circuits, target)\u001b[0m\n\u001b[1;32m    159\u001b[0m \u001b[0;34m\u001b[0m\u001b[0m\n\u001b[1;32m    160\u001b[0m         json_dict = self._client.ibmq_compile(\n\u001b[0;32m--> 161\u001b[0;31m             \u001b[0;34m{\u001b[0m\u001b[0;34m\"qiskit_circuits\"\u001b[0m\u001b[0;34m:\u001b[0m \u001b[0mserialized_circuits\u001b[0m\u001b[0;34m,\u001b[0m \u001b[0;34m\"backend\"\u001b[0m\u001b[0;34m:\u001b[0m \u001b[0mtarget\u001b[0m\u001b[0;34m}\u001b[0m\u001b[0;34m\u001b[0m\u001b[0;34m\u001b[0m\u001b[0m\n\u001b[0m\u001b[1;32m    162\u001b[0m         )\n\u001b[1;32m    163\u001b[0m         \u001b[0mcompiled_circuits\u001b[0m \u001b[0;34m=\u001b[0m \u001b[0mqss\u001b[0m\u001b[0;34m.\u001b[0m\u001b[0mserialization\u001b[0m\u001b[0;34m.\u001b[0m\u001b[0mdeserialize_circuits\u001b[0m\u001b[0;34m(\u001b[0m\u001b[0mjson_dict\u001b[0m\u001b[0;34m[\u001b[0m\u001b[0;34m\"qiskit_circuits\"\u001b[0m\u001b[0;34m]\u001b[0m\u001b[0;34m)\u001b[0m\u001b[0;34m\u001b[0m\u001b[0;34m\u001b[0m\u001b[0m\n",
      "\u001b[0;32m~/Documents/quantum_computing/anaconda/anaconda3/envs/qiskit-terra/lib/python3.7/site-packages/applications_superstaq/superstaq_client.py\u001b[0m in \u001b[0;36mibmq_compile\u001b[0;34m(self, json_dict)\u001b[0m\n\u001b[1;32m    218\u001b[0m     \u001b[0;32mdef\u001b[0m \u001b[0mibmq_compile\u001b[0m\u001b[0;34m(\u001b[0m\u001b[0mself\u001b[0m\u001b[0;34m,\u001b[0m \u001b[0mjson_dict\u001b[0m\u001b[0;34m:\u001b[0m \u001b[0mDict\u001b[0m\u001b[0;34m[\u001b[0m\u001b[0mstr\u001b[0m\u001b[0;34m,\u001b[0m \u001b[0mUnion\u001b[0m\u001b[0;34m[\u001b[0m\u001b[0mstr\u001b[0m\u001b[0;34m,\u001b[0m \u001b[0mList\u001b[0m\u001b[0;34m[\u001b[0m\u001b[0mstr\u001b[0m\u001b[0;34m]\u001b[0m\u001b[0;34m]\u001b[0m\u001b[0;34m]\u001b[0m\u001b[0;34m)\u001b[0m \u001b[0;34m->\u001b[0m \u001b[0mdict\u001b[0m\u001b[0;34m:\u001b[0m\u001b[0;34m\u001b[0m\u001b[0;34m\u001b[0m\u001b[0m\n\u001b[1;32m    219\u001b[0m         \u001b[0;34m\"\"\"Makes a POST request to SuperstaQ API to compile a circuits for IBM devices.\"\"\"\u001b[0m\u001b[0;34m\u001b[0m\u001b[0;34m\u001b[0m\u001b[0m\n\u001b[0;32m--> 220\u001b[0;31m         \u001b[0;32mreturn\u001b[0m \u001b[0mself\u001b[0m\u001b[0;34m.\u001b[0m\u001b[0mpost_request\u001b[0m\u001b[0;34m(\u001b[0m\u001b[0;34m\"/ibmq_compile\"\u001b[0m\u001b[0;34m,\u001b[0m \u001b[0mjson_dict\u001b[0m\u001b[0;34m)\u001b[0m\u001b[0;34m\u001b[0m\u001b[0;34m\u001b[0m\u001b[0m\n\u001b[0m\u001b[1;32m    221\u001b[0m \u001b[0;34m\u001b[0m\u001b[0m\n\u001b[1;32m    222\u001b[0m     \u001b[0;32mdef\u001b[0m \u001b[0mneutral_atom_compile\u001b[0m\u001b[0;34m(\u001b[0m\u001b[0mself\u001b[0m\u001b[0;34m,\u001b[0m \u001b[0mjson_dict\u001b[0m\u001b[0;34m:\u001b[0m \u001b[0mDict\u001b[0m\u001b[0;34m[\u001b[0m\u001b[0mstr\u001b[0m\u001b[0;34m,\u001b[0m \u001b[0mUnion\u001b[0m\u001b[0;34m[\u001b[0m\u001b[0mstr\u001b[0m\u001b[0;34m,\u001b[0m \u001b[0mList\u001b[0m\u001b[0;34m[\u001b[0m\u001b[0mstr\u001b[0m\u001b[0;34m]\u001b[0m\u001b[0;34m]\u001b[0m\u001b[0;34m]\u001b[0m\u001b[0;34m)\u001b[0m \u001b[0;34m->\u001b[0m \u001b[0mdict\u001b[0m\u001b[0;34m:\u001b[0m\u001b[0;34m\u001b[0m\u001b[0;34m\u001b[0m\u001b[0m\n",
      "\u001b[0;32m~/Documents/quantum_computing/anaconda/anaconda3/envs/qiskit-terra/lib/python3.7/site-packages/applications_superstaq/superstaq_client.py\u001b[0m in \u001b[0;36mpost_request\u001b[0;34m(self, endpoint, json_dict)\u001b[0m\n\u001b[1;32m    118\u001b[0m             )\n\u001b[1;32m    119\u001b[0m \u001b[0;34m\u001b[0m\u001b[0m\n\u001b[0;32m--> 120\u001b[0;31m         \u001b[0;32mreturn\u001b[0m \u001b[0mself\u001b[0m\u001b[0;34m.\u001b[0m\u001b[0m_make_request\u001b[0m\u001b[0;34m(\u001b[0m\u001b[0mrequest\u001b[0m\u001b[0;34m)\u001b[0m\u001b[0;34m.\u001b[0m\u001b[0mjson\u001b[0m\u001b[0;34m(\u001b[0m\u001b[0;34m)\u001b[0m\u001b[0;34m\u001b[0m\u001b[0;34m\u001b[0m\u001b[0m\n\u001b[0m\u001b[1;32m    121\u001b[0m \u001b[0;34m\u001b[0m\u001b[0m\n\u001b[1;32m    122\u001b[0m     def create_job(\n",
      "\u001b[0;32m~/Documents/quantum_computing/anaconda/anaconda3/envs/qiskit-terra/lib/python3.7/site-packages/applications_superstaq/superstaq_client.py\u001b[0m in \u001b[0;36m_make_request\u001b[0;34m(self, request)\u001b[0m\n\u001b[1;32m    311\u001b[0m                     \u001b[0;32mreturn\u001b[0m \u001b[0mresponse\u001b[0m\u001b[0;34m\u001b[0m\u001b[0;34m\u001b[0m\u001b[0m\n\u001b[1;32m    312\u001b[0m \u001b[0;34m\u001b[0m\u001b[0m\n\u001b[0;32m--> 313\u001b[0;31m                 \u001b[0mself\u001b[0m\u001b[0;34m.\u001b[0m\u001b[0m_handle_status_codes\u001b[0m\u001b[0;34m(\u001b[0m\u001b[0mresponse\u001b[0m\u001b[0;34m)\u001b[0m\u001b[0;34m\u001b[0m\u001b[0;34m\u001b[0m\u001b[0m\n\u001b[0m\u001b[1;32m    314\u001b[0m                 \u001b[0mmessage\u001b[0m \u001b[0;34m=\u001b[0m \u001b[0mresponse\u001b[0m\u001b[0;34m.\u001b[0m\u001b[0mreason\u001b[0m\u001b[0;34m\u001b[0m\u001b[0;34m\u001b[0m\u001b[0m\n\u001b[1;32m    315\u001b[0m \u001b[0;34m\u001b[0m\u001b[0m\n",
      "\u001b[0;32m~/Documents/quantum_computing/anaconda/anaconda3/envs/qiskit-terra/lib/python3.7/site-packages/applications_superstaq/superstaq_client.py\u001b[0m in \u001b[0;36m_handle_status_codes\u001b[0;34m(self, response)\u001b[0m\n\u001b[1;32m    287\u001b[0m             raise applications_superstaq.SuperstaQException(\n\u001b[1;32m    288\u001b[0m                 \u001b[0;34mf\"Non-retriable error making request to SuperstaQ API, {message}\"\u001b[0m\u001b[0;34m,\u001b[0m\u001b[0;34m\u001b[0m\u001b[0;34m\u001b[0m\u001b[0m\n\u001b[0;32m--> 289\u001b[0;31m                 \u001b[0mresponse\u001b[0m\u001b[0;34m.\u001b[0m\u001b[0mstatus_code\u001b[0m\u001b[0;34m,\u001b[0m\u001b[0;34m\u001b[0m\u001b[0;34m\u001b[0m\u001b[0m\n\u001b[0m\u001b[1;32m    290\u001b[0m             )\n\u001b[1;32m    291\u001b[0m \u001b[0;34m\u001b[0m\u001b[0m\n",
      "\u001b[0;31mSuperstaQException\u001b[0m: Status code: 502, Message: 'Non-retriable error making request to SuperstaQ API, Bad Gateway'"
     ]
    }
   ],
   "source": [
    "out = superstaq_provider.ibmq_compile(cnx_qc, target=\"ibmq_jakarta_qpu\")"
   ]
  }
 ],
 "metadata": {
  "kernelspec": {
   "display_name": "Python 3",
   "language": "python",
   "name": "python3"
  },
  "language_info": {
   "codemirror_mode": {
    "name": "ipython",
    "version": 3
   },
   "file_extension": ".py",
   "mimetype": "text/x-python",
   "name": "python",
   "nbconvert_exporter": "python",
   "pygments_lexer": "ipython3",
   "version": "3.7.12"
  }
 },
 "nbformat": 4,
 "nbformat_minor": 5
}
