{
 "cells": [
  {
   "cell_type": "code",
   "execution_count": 1,
   "metadata": {},
   "outputs": [
    {
     "data": {
      "text/plain": [
       "{'qiskit-terra': '0.20.0.dev0+3562e26', 'qiskit-aer': '0.10.0', 'qiskit-ignis': None, 'qiskit-ibmq-provider': '0.19.0.dev0+8455b01', 'qiskit-aqua': None, 'qiskit': None, 'qiskit-nature': None, 'qiskit-finance': None, 'qiskit-optimization': None, 'qiskit-machine-learning': None}"
      ]
     },
     "execution_count": 1,
     "metadata": {},
     "output_type": "execute_result"
    }
   ],
   "source": [
    "from qiskit import IBMQ\n",
    "import qiskit\n",
    "qiskit.__qiskit_version__"
   ]
  },
  {
   "cell_type": "code",
   "execution_count": 2,
   "metadata": {},
   "outputs": [
    {
     "data": {
      "text/plain": [
       "{'token': '2916c8f35261ae6714a1a3a0be3f95ce6f350a68307bfd3a12bb007ffa6dfac17a11d72b46e629512f960313e26f81dd2761912721c64797229a9d74048b4cd7',\n",
       " 'url': 'https://auth.quantum-computing.ibm.com/api'}"
      ]
     },
     "execution_count": 2,
     "metadata": {},
     "output_type": "execute_result"
    }
   ],
   "source": [
    "IBMQ.stored_account()"
   ]
  },
  {
   "cell_type": "code",
   "execution_count": 3,
   "metadata": {},
   "outputs": [],
   "source": [
    "#IBMQ.enable_account(token,url)"
   ]
  },
  {
   "cell_type": "code",
   "execution_count": 4,
   "metadata": {},
   "outputs": [
    {
     "data": {
      "text/plain": [
       "[<IBMQSimulator('ibmq_qasm_simulator') from IBMQ(hub='ibm-q-ornl', group='anl', project='csc430')>,\n",
       " <IBMQBackend('ibmq_armonk') from IBMQ(hub='ibm-q-ornl', group='anl', project='csc430')>,\n",
       " <IBMQBackend('ibmq_montreal') from IBMQ(hub='ibm-q-ornl', group='anl', project='csc430')>,\n",
       " <IBMQBackend('ibmq_toronto') from IBMQ(hub='ibm-q-ornl', group='anl', project='csc430')>,\n",
       " <IBMQBackend('ibmq_santiago') from IBMQ(hub='ibm-q-ornl', group='anl', project='csc430')>,\n",
       " <IBMQBackend('ibmq_bogota') from IBMQ(hub='ibm-q-ornl', group='anl', project='csc430')>,\n",
       " <IBMQBackend('ibmq_casablanca') from IBMQ(hub='ibm-q-ornl', group='anl', project='csc430')>,\n",
       " <IBMQBackend('ibmq_mumbai') from IBMQ(hub='ibm-q-ornl', group='anl', project='csc430')>,\n",
       " <IBMQBackend('ibmq_lima') from IBMQ(hub='ibm-q-ornl', group='anl', project='csc430')>,\n",
       " <IBMQBackend('ibmq_belem') from IBMQ(hub='ibm-q-ornl', group='anl', project='csc430')>,\n",
       " <IBMQBackend('ibmq_quito') from IBMQ(hub='ibm-q-ornl', group='anl', project='csc430')>,\n",
       " <IBMQBackend('ibmq_guadalupe') from IBMQ(hub='ibm-q-ornl', group='anl', project='csc430')>,\n",
       " <IBMQSimulator('simulator_statevector') from IBMQ(hub='ibm-q-ornl', group='anl', project='csc430')>,\n",
       " <IBMQSimulator('simulator_mps') from IBMQ(hub='ibm-q-ornl', group='anl', project='csc430')>,\n",
       " <IBMQSimulator('simulator_extended_stabilizer') from IBMQ(hub='ibm-q-ornl', group='anl', project='csc430')>,\n",
       " <IBMQSimulator('simulator_stabilizer') from IBMQ(hub='ibm-q-ornl', group='anl', project='csc430')>,\n",
       " <IBMQBackend('ibmq_brooklyn') from IBMQ(hub='ibm-q-ornl', group='anl', project='csc430')>,\n",
       " <IBMQBackend('ibmq_jakarta') from IBMQ(hub='ibm-q-ornl', group='anl', project='csc430')>,\n",
       " <IBMQBackend('ibmq_manila') from IBMQ(hub='ibm-q-ornl', group='anl', project='csc430')>,\n",
       " <IBMQBackend('ibm_hanoi') from IBMQ(hub='ibm-q-ornl', group='anl', project='csc430')>,\n",
       " <IBMQBackend('ibm_lagos') from IBMQ(hub='ibm-q-ornl', group='anl', project='csc430')>,\n",
       " <IBMQBackend('ibm_cairo') from IBMQ(hub='ibm-q-ornl', group='anl', project='csc430')>,\n",
       " <IBMQBackend('ibm_washington') from IBMQ(hub='ibm-q-ornl', group='anl', project='csc430')>]"
      ]
     },
     "execution_count": 4,
     "metadata": {},
     "output_type": "execute_result"
    }
   ],
   "source": [
    "provider = IBMQ.load_account()\n",
    "provider = IBMQ.get_provider(hub='ibm-q-ornl', group='anl', project='csc430')\n",
    "provider.backends()"
   ]
  },
  {
   "cell_type": "code",
   "execution_count": 5,
   "metadata": {},
   "outputs": [],
   "source": [
    "import math\n",
    "import numpy as np\n",
    "import random\n",
    "import re\n",
    "import qiskit.tools.jupyter\n",
    "\n",
    "from qiskit import *\n",
    "from qiskit.compiler import transpile\n",
    "from qiskit.visualization import plot_histogram\n",
    "from qiskit.tools.monitor import job_monitor\n",
    "\n",
    "from qiskit.transpiler import PassManager\n",
    "from qiskit.transpiler import CouplingMap, Layout\n",
    "from qiskit.transpiler.passes import StochasticSwap, BasicSwap\n",
    "\n",
    "from qiskit.tools.monitor import job_monitor, backend_monitor, backend_overview\n",
    "%matplotlib inline\n",
    "\n",
    "from qiskit.providers.aer import AerSimulator"
   ]
  },
  {
   "cell_type": "code",
   "execution_count": 6,
   "metadata": {},
   "outputs": [
    {
     "name": "stdout",
     "output_type": "stream",
     "text": [
      "ibmq_casablanca\n",
      "===============\n",
      "Configuration\n",
      "-------------\n",
      "    n_qubits: 7\n",
      "    operational: True\n",
      "    status_msg: active\n",
      "    pending_jobs: 143\n",
      "    backend_version: 1.2.52\n",
      "    basis_gates: ['id', 'rz', 'sx', 'x', 'cx', 'reset']\n",
      "    local: False\n",
      "    simulator: False\n",
      "    meas_map: [[0, 1, 2, 3, 4, 5, 6]]\n",
      "    max_shots: 32000\n",
      "    measure_esp_enabled: False\n",
      "    url: None\n",
      "    allow_object_storage: True\n",
      "    allow_q_object: True\n",
      "    hamiltonian: {'description': 'Qubits are modeled as Duffing oscillators. In this case, the system includes higher energy states, i.e. not just |0> and |1>. The Pauli operators are generalized via the following set of transformations:\\n\\n$(\\\\mathbb{I}-\\\\sigma_{i}^z)/2 \\\\rightarrow O_i \\\\equiv b^\\\\dagger_{i} b_{i}$,\\n\\n$\\\\sigma_{+} \\\\rightarrow b^\\\\dagger$,\\n\\n$\\\\sigma_{-} \\\\rightarrow b$,\\n\\n$\\\\sigma_{i}^X \\\\rightarrow b^\\\\dagger_{i} + b_{i}$.\\n\\nQubits are coupled through resonator buses. The provided Hamiltonian has been projected into the zero excitation subspace of the resonator buses leading to an effective qubit-qubit flip-flop interaction. The qubit resonance frequencies in the Hamiltonian are the cavity dressed frequencies and not exactly what is returned by the backend defaults, which also includes the dressing due to the qubit-qubit interactions.\\n\\nQuantities are returned in angular frequencies, with units 2*pi*GHz.\\n\\nWARNING: Currently not all system Hamiltonian information is available to the public, missing values have been replaced with 0.\\n', 'h_latex': '\\\\begin{align} \\\\mathcal{H}/\\\\hbar = & \\\\sum_{i=0}^{6}\\\\left(\\\\frac{\\\\omega_{q,i}}{2}(\\\\mathbb{I}-\\\\sigma_i^{z})+\\\\frac{\\\\Delta_{i}}{2}(O_i^2-O_i)+\\\\Omega_{d,i}D_i(t)\\\\sigma_i^{X}\\\\right) \\\\\\\\ & + J_{0,1}(\\\\sigma_{0}^{+}\\\\sigma_{1}^{-}+\\\\sigma_{0}^{-}\\\\sigma_{1}^{+}) + J_{1,2}(\\\\sigma_{1}^{+}\\\\sigma_{2}^{-}+\\\\sigma_{1}^{-}\\\\sigma_{2}^{+}) + J_{4,5}(\\\\sigma_{4}^{+}\\\\sigma_{5}^{-}+\\\\sigma_{4}^{-}\\\\sigma_{5}^{+}) + J_{5,6}(\\\\sigma_{5}^{+}\\\\sigma_{6}^{-}+\\\\sigma_{5}^{-}\\\\sigma_{6}^{+}) \\\\\\\\ & + J_{1,3}(\\\\sigma_{1}^{+}\\\\sigma_{3}^{-}+\\\\sigma_{1}^{-}\\\\sigma_{3}^{+}) + J_{3,5}(\\\\sigma_{3}^{+}\\\\sigma_{5}^{-}+\\\\sigma_{3}^{-}\\\\sigma_{5}^{+}) \\\\\\\\ & + \\\\Omega_{d,0}(U_{0}^{(0,1)}(t))\\\\sigma_{0}^{X} + \\\\Omega_{d,1}(U_{1}^{(1,0)}(t)+U_{3}^{(1,3)}(t)+U_{2}^{(1,2)}(t))\\\\sigma_{1}^{X} \\\\\\\\ & + \\\\Omega_{d,2}(U_{4}^{(2,1)}(t))\\\\sigma_{2}^{X} + \\\\Omega_{d,3}(U_{5}^{(3,1)}(t)+U_{6}^{(3,5)}(t))\\\\sigma_{3}^{X} \\\\\\\\ & + \\\\Omega_{d,4}(U_{7}^{(4,5)}(t))\\\\sigma_{4}^{X} + \\\\Omega_{d,5}(U_{8}^{(5,3)}(t)+U_{10}^{(5,6)}(t)+U_{9}^{(5,4)}(t))\\\\sigma_{5}^{X} \\\\\\\\ & + \\\\Omega_{d,6}(U_{11}^{(6,5)}(t))\\\\sigma_{6}^{X} \\\\\\\\ \\\\end{align}', 'h_str': ['_SUM[i,0,6,wq{i}/2*(I{i}-Z{i})]', '_SUM[i,0,6,delta{i}/2*O{i}*O{i}]', '_SUM[i,0,6,-delta{i}/2*O{i}]', '_SUM[i,0,6,omegad{i}*X{i}||D{i}]', 'jq0q1*Sp0*Sm1', 'jq0q1*Sm0*Sp1', 'jq1q2*Sp1*Sm2', 'jq1q2*Sm1*Sp2', 'jq4q5*Sp4*Sm5', 'jq4q5*Sm4*Sp5', 'jq5q6*Sp5*Sm6', 'jq5q6*Sm5*Sp6', 'jq1q3*Sp1*Sm3', 'jq1q3*Sm1*Sp3', 'jq3q5*Sp3*Sm5', 'jq3q5*Sm3*Sp5', 'omegad1*X0||U0', 'omegad0*X1||U1', 'omegad3*X1||U3', 'omegad2*X1||U2', 'omegad1*X2||U4', 'omegad1*X3||U5', 'omegad5*X3||U6', 'omegad5*X4||U7', 'omegad3*X5||U8', 'omegad6*X5||U10', 'omegad4*X5||U9', 'omegad5*X6||U11'], 'osc': {}, 'qub': {'0': 3, '1': 3, '2': 3, '3': 3, '4': 3, '5': 3, '6': 3}, 'vars': {'delta0': -2.1356848957375534, 'delta1': -2.0510695179330973, 'delta2': -2.127640392457325, 'delta3': -2.127748155824096, 'delta4': -2.129301739398853, 'delta5': -2.022190613752458, 'delta6': -2.104827921746793, 'jq0q1': 0.008155201121047262, 'jq1q2': 0.00896030287147453, 'jq1q3': 0.008704187306888234, 'jq3q5': 0.008755759807187284, 'jq4q5': 0.009192358915922278, 'jq5q6': 0.010792387809142637, 'omegad0': 1.6020943623996626, 'omegad1': 1.0280709600463251, 'omegad2': 1.4116039514611567, 'omegad3': 1.7212360247253622, 'omegad4': 1.5879650969210428, 'omegad5': 1.0909879703061014, 'omegad6': 1.072388318066369, 'wq0': 30.297056649521135, 'wq1': 29.908672166397878, 'wq2': 30.82296359568614, 'wq3': 30.653732665543505, 'wq4': 30.606034539984925, 'wq5': 31.191517564098483, 'wq6': 32.52898259748817}}\n",
      "    supported_features: ['qobj']\n",
      "    quantum_volume: 32\n",
      "    channels: {'acquire0': {'operates': {'qubits': [0]}, 'purpose': 'acquire', 'type': 'acquire'}, 'acquire1': {'operates': {'qubits': [1]}, 'purpose': 'acquire', 'type': 'acquire'}, 'acquire2': {'operates': {'qubits': [2]}, 'purpose': 'acquire', 'type': 'acquire'}, 'acquire3': {'operates': {'qubits': [3]}, 'purpose': 'acquire', 'type': 'acquire'}, 'acquire4': {'operates': {'qubits': [4]}, 'purpose': 'acquire', 'type': 'acquire'}, 'acquire5': {'operates': {'qubits': [5]}, 'purpose': 'acquire', 'type': 'acquire'}, 'acquire6': {'operates': {'qubits': [6]}, 'purpose': 'acquire', 'type': 'acquire'}, 'd0': {'operates': {'qubits': [0]}, 'purpose': 'drive', 'type': 'drive'}, 'd1': {'operates': {'qubits': [1]}, 'purpose': 'drive', 'type': 'drive'}, 'd2': {'operates': {'qubits': [2]}, 'purpose': 'drive', 'type': 'drive'}, 'd3': {'operates': {'qubits': [3]}, 'purpose': 'drive', 'type': 'drive'}, 'd4': {'operates': {'qubits': [4]}, 'purpose': 'drive', 'type': 'drive'}, 'd5': {'operates': {'qubits': [5]}, 'purpose': 'drive', 'type': 'drive'}, 'd6': {'operates': {'qubits': [6]}, 'purpose': 'drive', 'type': 'drive'}, 'm0': {'operates': {'qubits': [0]}, 'purpose': 'measure', 'type': 'measure'}, 'm1': {'operates': {'qubits': [1]}, 'purpose': 'measure', 'type': 'measure'}, 'm2': {'operates': {'qubits': [2]}, 'purpose': 'measure', 'type': 'measure'}, 'm3': {'operates': {'qubits': [3]}, 'purpose': 'measure', 'type': 'measure'}, 'm4': {'operates': {'qubits': [4]}, 'purpose': 'measure', 'type': 'measure'}, 'm5': {'operates': {'qubits': [5]}, 'purpose': 'measure', 'type': 'measure'}, 'm6': {'operates': {'qubits': [6]}, 'purpose': 'measure', 'type': 'measure'}, 'u0': {'operates': {'qubits': [0, 1]}, 'purpose': 'cross-resonance', 'type': 'control'}, 'u1': {'operates': {'qubits': [1, 0]}, 'purpose': 'cross-resonance', 'type': 'control'}, 'u10': {'operates': {'qubits': [5, 6]}, 'purpose': 'cross-resonance', 'type': 'control'}, 'u11': {'operates': {'qubits': [6, 5]}, 'purpose': 'cross-resonance', 'type': 'control'}, 'u2': {'operates': {'qubits': [1, 2]}, 'purpose': 'cross-resonance', 'type': 'control'}, 'u3': {'operates': {'qubits': [1, 3]}, 'purpose': 'cross-resonance', 'type': 'control'}, 'u4': {'operates': {'qubits': [2, 1]}, 'purpose': 'cross-resonance', 'type': 'control'}, 'u5': {'operates': {'qubits': [3, 1]}, 'purpose': 'cross-resonance', 'type': 'control'}, 'u6': {'operates': {'qubits': [3, 5]}, 'purpose': 'cross-resonance', 'type': 'control'}, 'u7': {'operates': {'qubits': [4, 5]}, 'purpose': 'cross-resonance', 'type': 'control'}, 'u8': {'operates': {'qubits': [5, 3]}, 'purpose': 'cross-resonance', 'type': 'control'}, 'u9': {'operates': {'qubits': [5, 4]}, 'purpose': 'cross-resonance', 'type': 'control'}}\n",
      "    open_pulse: True\n",
      "    parametric_pulses: ['gaussian', 'gaussian_square', 'drag', 'constant']\n",
      "    max_experiments: 300\n",
      "    processor_type: {'family': 'Falcon', 'revision': 4, 'segment': 'H'}\n",
      "    conditional: False\n",
      "    supported_instructions: ['cx', 'u3', 'acquire', 'x', 'u1', 'rz', 'measure', 'setf', 'u2', 'reset', 'sx', 'play', 'shiftf', 'id', 'delay']\n",
      "    pulse_num_qubits: 3\n",
      "    description: 7 qubit device\n",
      "    dtm: 0.2222222222222222\n",
      "    default_rep_delay: 250.0\n",
      "    conditional_latency: []\n",
      "    input_allowed: ['job', 'runtime']\n",
      "    meas_lo_range: [[6.784054663, 7.784054663000001], [6.885450194000001, 7.885450194000001], [6.8231800300000005, 7.8231800300000005], [6.730756417, 7.730756417], [6.780310863, 7.780310863], [6.646993373000001, 7.646993373000001], [6.900652534000001, 7.900652534000001]]\n",
      "    backend_name: ibmq_casablanca\n",
      "    u_channel_lo: [[{'q': 1, 'scale': (1+0j)}], [{'q': 0, 'scale': (1+0j)}], [{'q': 2, 'scale': (1+0j)}], [{'q': 3, 'scale': (1+0j)}], [{'q': 1, 'scale': (1+0j)}], [{'q': 1, 'scale': (1+0j)}], [{'q': 5, 'scale': (1+0j)}], [{'q': 5, 'scale': (1+0j)}], [{'q': 3, 'scale': (1+0j)}], [{'q': 4, 'scale': (1+0j)}], [{'q': 6, 'scale': (1+0j)}], [{'q': 5, 'scale': (1+0j)}]]\n",
      "    dt: 0.2222222222222222\n",
      "    uchannels_enabled: True\n",
      "    discriminators: ['quadratic_discriminator', 'linear_discriminator', 'hw_qmfk']\n",
      "    sample_name: family: Falcon, revision: 4, segment: H\n",
      "    clops: 2263\n",
      "    timing_constraints: {'acquire_alignment': 16, 'granularity': 16, 'min_length': 64, 'pulse_alignment': 1}\n",
      "    rep_delay_range: [0.0, 500.0]\n",
      "    memory: True\n",
      "    meas_levels: [1, 2]\n",
      "    dynamic_reprate_enabled: True\n",
      "    online_date: 2020-08-07 04:00:00+00:00\n",
      "    meas_kernels: ['hw_qmfk']\n",
      "    acquisition_latency: []\n",
      "    n_uchannels: 12\n",
      "    credits_required: True\n",
      "    coupling_map: [[0, 1], [1, 0], [1, 2], [1, 3], [2, 1], [3, 1], [3, 5], [4, 5], [5, 3], [5, 4], [5, 6], [6, 5]]\n",
      "    n_registers: 1\n",
      "    qubit_lo_range: [[4.321926326906465, 5.321926326906465], [4.260113016597208, 5.2601130165972085], [4.4056270169949885, 5.4056270169949885], [4.37869307793875, 5.37869307793875], [4.371101685479885, 5.371101685479885], [4.464284202863947, 5.464284202863947], [4.677148374140483, 5.677148374140483]]\n",
      "    rep_times: [1000.0]\n",
      "    qubit_channel_mapping: [['u1', 'm0', 'd0', 'u0'], ['u5', 'u3', 'd1', 'm1', 'u0', 'u4', 'u1', 'u2'], ['u4', 'u2', 'd2', 'm2'], ['u8', 'u5', 'u3', 'u6', 'd3', 'm3'], ['m4', 'd4', 'u7', 'u9'], ['u8', 'u6', 'm5', 'd5', 'u7', 'u9', 'u11', 'u10'], ['d6', 'u11', 'm6', 'u10']]\n",
      "    pulse_num_channels: 9\n",
      "    multi_meas_enabled: True\n",
      "\n"
     ]
    },
    {
     "name": "stdout",
     "output_type": "stream",
     "text": [
      "Qubits [Name / Freq / T1 / T2 / RZ err / SX err / X err / Readout err]\n",
      "----------------------------------------------------------------------\n",
      "    Q0 / 4.82193 GHz / 94.82754 us / 31.49884 us / 0.00000 / 0.00025 / 0.00025 / 0.03920 \n",
      "    Q1 / 4.76011 GHz / 91.84530 us / 84.43924 us / 0.00000 / 0.00025 / 0.00025 / 0.02370 \n",
      "    Q2 / 4.90563 GHz / 126.66816 us / 133.06534 us / 0.00000 / 0.00022 / 0.00022 / 0.01590 \n",
      "    Q3 / 4.87869 GHz / 98.07651 us / 87.79237 us / 0.00000 / 0.00033 / 0.00033 / 0.02030 \n",
      "    Q4 / 4.87110 GHz / 99.73669 us / 54.51429 us / 0.00000 / 0.00029 / 0.00029 / 0.02250 \n",
      "    Q5 / 4.96428 GHz / 73.09554 us / 92.66861 us / 0.00000 / 0.00030 / 0.00030 / 0.01440 \n",
      "    Q6 / 5.17715 GHz / 63.60324 us / 185.32910 us / 0.00000 / 0.00026 / 0.00026 / 0.01110 \n",
      "\n",
      "Multi-Qubit Gates [Name / Type / Gate Error]\n",
      "--------------------------------------------\n",
      "    cx6_5 / cx / 0.00643\n",
      "    cx5_6 / cx / 0.00643\n",
      "    cx5_4 / cx / 0.00915\n",
      "    cx4_5 / cx / 0.00915\n",
      "    cx5_3 / cx / 0.00948\n",
      "    cx3_5 / cx / 0.00948\n",
      "    cx3_1 / cx / 0.00624\n",
      "    cx1_3 / cx / 0.00624\n",
      "    cx1_2 / cx / 0.00776\n",
      "    cx2_1 / cx / 0.00776\n",
      "    cx1_0 / cx / 0.01091\n",
      "    cx0_1 / cx / 0.01091\n"
     ]
    },
    {
     "data": {
      "application/vnd.jupyter.widget-view+json": {
       "model_id": "6ea53a4ca83243ecb0596ae1e91e7d25",
       "version_major": 2,
       "version_minor": 0
      },
      "text/plain": [
       "VBox(children=(HTML(value=\"<h1 style='color:#ffffff;background-color:#000000;padding-top: 1%;padding-bottom: 1…"
      ]
     },
     "metadata": {},
     "output_type": "display_data"
    },
    {
     "data": {
      "text/plain": [
       "<IBMQBackend('ibmq_casablanca') from IBMQ(hub='ibm-q-ornl', group='anl', project='csc430')>"
      ]
     },
     "execution_count": 6,
     "metadata": {},
     "output_type": "execute_result"
    }
   ],
   "source": [
    "device = provider.get_backend('ibmq_casablanca')\n",
    "backend_monitor(device)\n",
    "device"
   ]
  },
  {
   "cell_type": "code",
   "execution_count": 7,
   "metadata": {},
   "outputs": [],
   "source": [
    "import qiskit\n",
    "from gate_variants.toffoli_variants import CCX_Variant_Gate\n",
    "from qiskit.compiler import transpile"
   ]
  },
  {
   "cell_type": "code",
   "execution_count": 14,
   "metadata": {},
   "outputs": [
    {
     "data": {
      "text/plain": [
       "<qiskit.circuit.instructionset.InstructionSet at 0x7f8189851960>"
      ]
     },
     "execution_count": 14,
     "metadata": {},
     "output_type": "execute_result"
    }
   ],
   "source": [
    "qc_0 = qiskit.circuit.QuantumCircuit(15)\n",
    "qc_0.append(CCX_Variant_Gate(variant_tag=('01','02','s')),[0,1,2])\n",
    "qc_0.append(CCX_Variant_Gate(variant_tag=('12','01','s')),[3,4,5])\n",
    "qc_0.append(CCX_Variant_Gate(variant_tag=('02','01','p')),[6,7,8])\n",
    "qc_0.append(CCX_Variant_Gate(variant_tag=('01','12','p')),[9,10,11])\n",
    "qc_0.append(CCX_Variant_Gate(variant_tag=('01','01','s')),[12,13,14])"
   ]
  },
  {
   "cell_type": "code",
   "execution_count": 16,
   "metadata": {},
   "outputs": [
    {
     "data": {
      "text/html": [
       "<pre style=\"word-wrap: normal;white-space: pre;background: #fff0;line-height: 1.1;font-family: &quot;Courier New&quot;,Courier,monospace\">           \n",
       " q_0: ──■──\n",
       "        │  \n",
       " q_1: ──■──\n",
       "      ┌─┴─┐\n",
       " q_2: ┤ X ├\n",
       "      └───┘\n",
       " q_3: ──■──\n",
       "        │  \n",
       " q_4: ──■──\n",
       "      ┌─┴─┐\n",
       " q_5: ┤ X ├\n",
       "      └───┘\n",
       " q_6: ──■──\n",
       "        │  \n",
       " q_7: ──■──\n",
       "      ┌─┴─┐\n",
       " q_8: ┤ X ├\n",
       "      └───┘\n",
       " q_9: ──■──\n",
       "        │  \n",
       "q_10: ──■──\n",
       "      ┌─┴─┐\n",
       "q_11: ┤ X ├\n",
       "      └───┘\n",
       "q_12: ──■──\n",
       "        │  \n",
       "q_13: ──■──\n",
       "      ┌─┴─┐\n",
       "q_14: ┤ X ├\n",
       "      └───┘</pre>"
      ],
      "text/plain": [
       "           \n",
       " q_0: ──■──\n",
       "        │  \n",
       " q_1: ──■──\n",
       "      ┌─┴─┐\n",
       " q_2: ┤ X ├\n",
       "      └───┘\n",
       " q_3: ──■──\n",
       "        │  \n",
       " q_4: ──■──\n",
       "      ┌─┴─┐\n",
       " q_5: ┤ X ├\n",
       "      └───┘\n",
       " q_6: ──■──\n",
       "        │  \n",
       " q_7: ──■──\n",
       "      ┌─┴─┐\n",
       " q_8: ┤ X ├\n",
       "      └───┘\n",
       " q_9: ──■──\n",
       "        │  \n",
       "q_10: ──■──\n",
       "      ┌─┴─┐\n",
       "q_11: ┤ X ├\n",
       "      └───┘\n",
       "q_12: ──■──\n",
       "        │  \n",
       "q_13: ──■──\n",
       "      ┌─┴─┐\n",
       "q_14: ┤ X ├\n",
       "      └───┘"
      ]
     },
     "execution_count": 16,
     "metadata": {},
     "output_type": "execute_result"
    }
   ],
   "source": [
    "qc_0.draw()"
   ]
  },
  {
   "cell_type": "code",
   "execution_count": 15,
   "metadata": {},
   "outputs": [
    {
     "data": {
      "image/png": "[encoded data removed]",
      "text/plain": [
       "<Figure size 1484.32x927.08 with 1 Axes>"
      ]
     },
     "execution_count": 15,
     "metadata": {},
     "output_type": "execute_result"
    }
   ],
   "source": [
    "basis_gate_set = ['id', 'rz', 'sx', 'x', 'cx', 'reset']\n",
    "trans_qc0 = transpile(qc_0, optimization_level=3)\n",
    "trans_qc0.draw(output='mpl')"
   ]
  },
  {
   "cell_type": "code",
   "execution_count": 7,
   "metadata": {},
   "outputs": [
    {
     "data": {
      "text/plain": [
       "<qiskit.circuit.instructionset.InstructionSet at 0x7fd43a0de500>"
      ]
     },
     "execution_count": 7,
     "metadata": {},
     "output_type": "execute_result"
    }
   ],
   "source": [
    "circ = QuantumCircuit(4)\n",
    "circ.ccx(0,1,2)"
   ]
  },
  {
   "cell_type": "code",
   "execution_count": 8,
   "metadata": {},
   "outputs": [
    {
     "data": {
      "text/html": [
       "<pre style=\"word-wrap: normal;white-space: pre;background: #fff0;line-height: 1.1;font-family: &quot;Courier New&quot;,Courier,monospace\">          \n",
       "q_0: ──■──\n",
       "       │  \n",
       "q_1: ──■──\n",
       "     ┌─┴─┐\n",
       "q_2: ┤ X ├\n",
       "     └───┘\n",
       "q_3: ─────\n",
       "          </pre>"
      ],
      "text/plain": [
       "          \n",
       "q_0: ──■──\n",
       "       │  \n",
       "q_1: ──■──\n",
       "     ┌─┴─┐\n",
       "q_2: ┤ X ├\n",
       "     └───┘\n",
       "q_3: ─────\n",
       "          "
      ]
     },
     "execution_count": 8,
     "metadata": {},
     "output_type": "execute_result"
    }
   ],
   "source": [
    "circ.draw()"
   ]
  },
  {
   "cell_type": "code",
   "execution_count": 10,
   "metadata": {},
   "outputs": [],
   "source": [
    "trans_circ = transpile(circ, basis_gates = ['id', 'rz', 'sx', 'x', 'cx', 'reset'], optimization_level = 3)"
   ]
  },
  {
   "cell_type": "code",
   "execution_count": 11,
   "metadata": {},
   "outputs": [
    {
     "data": {
      "text/html": [
       "<pre style=\"word-wrap: normal;white-space: pre;background: #fff0;line-height: 1.1;font-family: &quot;Courier New&quot;,Courier,monospace\">global phase: 5π/8\n",
       "                                                                       »\n",
       "q_0: ───────────────────────────────────────────────■──────────────────»\n",
       "                                                    │                  »\n",
       "q_1: ──────────────────────────────■────────────────┼───────────────■──»\n",
       "     ┌─────────┐┌────┐┌─────────┐┌─┴─┐┌──────────┐┌─┴─┐┌─────────┐┌─┴─┐»\n",
       "q_2: ┤ Rz(π/2) ├┤ √X ├┤ Rz(π/2) ├┤ X ├┤ Rz(-π/4) ├┤ X ├┤ Rz(π/4) ├┤ X ├»\n",
       "     └─────────┘└────┘└─────────┘└───┘└──────────┘└───┘└─────────┘└───┘»\n",
       "q_3: ──────────────────────────────────────────────────────────────────»\n",
       "                                                                       »\n",
       "«                                  ┌─────────┐            \n",
       "«q_0: ──────────────■───────■──────┤ Rz(π/4) ├──────■─────\n",
       "«     ┌─────────┐   │     ┌─┴─┐    ├─────────┴┐   ┌─┴─┐   \n",
       "«q_1: ┤ Rz(π/4) ├───┼─────┤ X ├────┤ Rz(-π/4) ├───┤ X ├───\n",
       "«     ├─────────┴┐┌─┴─┐┌──┴───┴───┐└──┬────┬──┘┌──┴───┴──┐\n",
       "«q_2: ┤ Rz(-π/4) ├┤ X ├┤ Rz(3π/4) ├───┤ √X ├───┤ Rz(π/2) ├\n",
       "«     └──────────┘└───┘└──────────┘   └────┘   └─────────┘\n",
       "«q_3: ────────────────────────────────────────────────────\n",
       "«                                                         </pre>"
      ],
      "text/plain": [
       "global phase: 5π/8\n",
       "                                                                       »\n",
       "q_0: ───────────────────────────────────────────────■──────────────────»\n",
       "                                                    │                  »\n",
       "q_1: ──────────────────────────────■────────────────┼───────────────■──»\n",
       "     ┌─────────┐┌────┐┌─────────┐┌─┴─┐┌──────────┐┌─┴─┐┌─────────┐┌─┴─┐»\n",
       "q_2: ┤ Rz(π/2) ├┤ √X ├┤ Rz(π/2) ├┤ X ├┤ Rz(-π/4) ├┤ X ├┤ Rz(π/4) ├┤ X ├»\n",
       "     └─────────┘└────┘└─────────┘└───┘└──────────┘└───┘└─────────┘└───┘»\n",
       "q_3: ──────────────────────────────────────────────────────────────────»\n",
       "                                                                       »\n",
       "«                                  ┌─────────┐            \n",
       "«q_0: ──────────────■───────■──────┤ Rz(π/4) ├──────■─────\n",
       "«     ┌─────────┐   │     ┌─┴─┐    ├─────────┴┐   ┌─┴─┐   \n",
       "«q_1: ┤ Rz(π/4) ├───┼─────┤ X ├────┤ Rz(-π/4) ├───┤ X ├───\n",
       "«     ├─────────┴┐┌─┴─┐┌──┴───┴───┐└──┬────┬──┘┌──┴───┴──┐\n",
       "«q_2: ┤ Rz(-π/4) ├┤ X ├┤ Rz(3π/4) ├───┤ √X ├───┤ Rz(π/2) ├\n",
       "«     └──────────┘└───┘└──────────┘   └────┘   └─────────┘\n",
       "«q_3: ────────────────────────────────────────────────────\n",
       "«                                                         "
      ]
     },
     "execution_count": 11,
     "metadata": {},
     "output_type": "execute_result"
    }
   ],
   "source": [
    "trans_circ.draw()"
   ]
  },
  {
   "cell_type": "code",
   "execution_count": 12,
   "metadata": {},
   "outputs": [
    {
     "data": {
      "image/png": "[encoded data removed]",
      "text/plain": [
       "<Figure size 206.997x204.68 with 1 Axes>"
      ]
     },
     "execution_count": 12,
     "metadata": {},
     "output_type": "execute_result"
    }
   ],
   "source": [
    "circ = QuantumCircuit(3)\n",
    "circ.cx(0,1)\n",
    "circ.ccx(0,1,2)\n",
    "circ.draw(output = 'mpl')"
   ]
  },
  {
   "cell_type": "code",
   "execution_count": 13,
   "metadata": {},
   "outputs": [
    {
     "data": {
      "image/png": "[encoded data removed]",
      "text/plain": [
       "<Figure size 748.797x204.68 with 1 Axes>"
      ]
     },
     "execution_count": 13,
     "metadata": {},
     "output_type": "execute_result"
    }
   ],
   "source": [
    "trans_circ = transpile(circ, optimization_level = 3)\n",
    "trans_circ.draw(output = 'mpl')"
   ]
  },
  {
   "cell_type": "code",
   "execution_count": 14,
   "metadata": {},
   "outputs": [
    {
     "data": {
      "image/png": "[encoded data removed]",
      "text/plain": [
       "<Figure size 146.797x204.68 with 1 Axes>"
      ]
     },
     "execution_count": 14,
     "metadata": {},
     "output_type": "execute_result"
    }
   ],
   "source": [
    "circ2 = QuantumCircuit(3)\n",
    "circ2.ccx(0,1,2)\n",
    "circ2.draw(output = 'mpl')"
   ]
  },
  {
   "cell_type": "code",
   "execution_count": null,
   "metadata": {},
   "outputs": [],
   "source": [
    "trans_circ2 = transpile(circ2, optimization_level = 3)\n",
    "trans_circ2.draw(output = 'mpl')"
   ]
  },
  {
   "cell_type": "code",
   "execution_count": null,
   "metadata": {},
   "outputs": [],
   "source": [
    "# Select the UnitarySimulator from the Aer provider\n",
    "simulator = Aer.get_backend('unitary_simulator')\n",
    "\n",
    "# Execute and get counts\n",
    "result = execute(circ2, simulator).result()\n",
    "unitary = result.get_unitary(circ2)\n",
    "print(\"Circuit unitary:\\n\", unitary)"
   ]
  },
  {
   "cell_type": "code",
   "execution_count": null,
   "metadata": {},
   "outputs": [],
   "source": [
    "circ3 = QuantumCircuit(3)\n",
    "circ3.ccx(0,1,2).inverse()\n",
    "circ3.draw(output = 'mpl')"
   ]
  },
  {
   "cell_type": "code",
   "execution_count": null,
   "metadata": {},
   "outputs": [],
   "source": [
    "trans_circ2 = transpile(circ3, optimization_level = 3)\n",
    "trans_circ2.draw(output = 'mpl')"
   ]
  },
  {
   "cell_type": "code",
   "execution_count": null,
   "metadata": {
    "scrolled": true
   },
   "outputs": [],
   "source": [
    "circ3 = trans_circ2.inverse()\n",
    "circ3.draw(output = 'mpl')"
   ]
  },
  {
   "cell_type": "code",
   "execution_count": null,
   "metadata": {},
   "outputs": [],
   "source": [
    "circ4 = QuantumCircuit(3)\n",
    "circ4.cx(1,0)\n",
    "circ4.t(0)\n",
    "circ4.tdg(1)\n",
    "circ4.cx(1,0)\n",
    "circ4.h(2)\n",
    "circ4.tdg(2)\n",
    "circ4.cx(1,2)\n",
    "circ4.tdg(0)\n",
    "circ4.t(2)\n",
    "circ4.cx(0,2)\n",
    "circ4.tdg(2)\n",
    "circ4.cx(1,2)\n",
    "circ4.t(2)\n",
    "circ4.cx(0,2)\n",
    "circ4.h(2)\n",
    "circ4.draw(output = 'mpl')"
   ]
  },
  {
   "cell_type": "code",
   "execution_count": null,
   "metadata": {},
   "outputs": [],
   "source": [
    "# Select the UnitarySimulator from the Aer provider\n",
    "simulator = Aer.get_backend('unitary_simulator')\n",
    "\n",
    "# Execute and get counts\n",
    "result = execute(circ4, simulator).result()\n",
    "unitary = result.get_unitary(circ4)\n",
    "print(\"Circuit unitary:\\n\", unitary)"
   ]
  },
  {
   "cell_type": "code",
   "execution_count": null,
   "metadata": {},
   "outputs": [],
   "source": [
    "circ5 = QuantumCircuit(3)\n",
    "circ5.cx(0,1)\n",
    "circ5 = circ5 + trans_circ2.inverse()\n",
    "circ5.draw()"
   ]
  },
  {
   "cell_type": "code",
   "execution_count": null,
   "metadata": {},
   "outputs": [],
   "source": [
    "trans_circ = transpile(circ5, optimization_level = 2)\n",
    "trans_circ.draw(output = 'mpl')"
   ]
  },
  {
   "cell_type": "code",
   "execution_count": null,
   "metadata": {},
   "outputs": [],
   "source": [
    "tqc = circ4.inverse()\n",
    "tqc.draw(output = 'mpl')"
   ]
  },
  {
   "cell_type": "code",
   "execution_count": null,
   "metadata": {},
   "outputs": [],
   "source": [
    "circ5 = QuantumCircuit(3)\n",
    "circ5.h(2)\n",
    "circ5.cx(0,1)\n",
    "circ5.tdg(1)\n",
    "circ5.cx(2,1)\n",
    "circ5.t(1)\n",
    "circ5.cx(0,1)\n",
    "circ5.t(0)\n",
    "circ5.tdg(1)\n",
    "circ5.cx(2,1)\n",
    "circ5.cx(2,0)\n",
    "circ5.tdg(0)\n",
    "circ5.t(2)\n",
    "circ5.t(1)\n",
    "circ5.cx(2,0)\n",
    "circ5.h(2)\n",
    "circ5.draw(output = 'mpl')"
   ]
  },
  {
   "cell_type": "code",
   "execution_count": null,
   "metadata": {},
   "outputs": [],
   "source": [
    "# Select the UnitarySimulator from the Aer provider\n",
    "simulator = Aer.get_backend('unitary_simulator')\n",
    "\n",
    "# Execute and get counts\n",
    "result = execute(circ5, simulator).result()\n",
    "unitary = result.get_unitary(circ5)\n",
    "print(\"Circuit unitary:\\n\", unitary)"
   ]
  },
  {
   "cell_type": "code",
   "execution_count": null,
   "metadata": {},
   "outputs": [],
   "source": [
    "circ5 = QuantumCircuit(3)\n",
    "circ5.h(2)\n",
    "circ5.t(0)\n",
    "circ5.t(1)\n",
    "circ5.t(2)\n",
    "circ5.cx(0,1)\n",
    "circ5.cx(1,2)\n",
    "circ5.cx(0,1)\n",
    "circ5.t(2)\n",
    "circ5.cx(1,2)\n",
    "circ5.cx(0,1)\n",
    "circ5.tdg(1)\n",
    "circ5.tdg(2)\n",
    "circ5.cx(1,2)\n",
    "circ5.cx(0,1)\n",
    "circ5.tdg(2)\n",
    "circ5.cx(1,2)\n",
    "circ5.h(2)\n",
    "circ5.draw(output = 'mpl')"
   ]
  },
  {
   "cell_type": "code",
   "execution_count": null,
   "metadata": {},
   "outputs": [],
   "source": [
    "circ5 = QuantumCircuit(3)\n",
    "circ5.cx(0,2)\n",
    "circ5.draw(output = 'mpl')"
   ]
  },
  {
   "cell_type": "code",
   "execution_count": null,
   "metadata": {},
   "outputs": [],
   "source": [
    "circ5 = QuantumCircuit(3)\n",
    "circ5.cx(1,2)\n",
    "circ5.cx(0,1)\n",
    "circ5.cx(1,2)\n",
    "circ5.cx(0,1)\n",
    "circ5.draw(output = 'mpl')"
   ]
  },
  {
   "cell_type": "code",
   "execution_count": null,
   "metadata": {},
   "outputs": [],
   "source": [
    "circ5 = QuantumCircuit(3)\n",
    "circ5.cx(0,1)\n",
    "circ5.cx(1,2)\n",
    "circ5.cx(0,1)\n",
    "circ5.cx(1,2)\n",
    "circ5.draw(output = 'mpl')"
   ]
  },
  {
   "cell_type": "code",
   "execution_count": null,
   "metadata": {},
   "outputs": [],
   "source": []
  },
  {
   "cell_type": "code",
   "execution_count": null,
   "metadata": {},
   "outputs": [],
   "source": []
  },
  {
   "cell_type": "code",
   "execution_count": null,
   "metadata": {},
   "outputs": [],
   "source": []
  },
  {
   "cell_type": "code",
   "execution_count": null,
   "metadata": {},
   "outputs": [],
   "source": []
  },
  {
   "cell_type": "code",
   "execution_count": null,
   "metadata": {},
   "outputs": [],
   "source": []
  },
  {
   "cell_type": "code",
   "execution_count": null,
   "metadata": {},
   "outputs": [],
   "source": []
  }
 ],
 "metadata": {
  "kernelspec": {
   "display_name": "Python 3",
   "language": "python",
   "name": "python3"
  },
  "language_info": {
   "codemirror_mode": {
    "name": "ipython",
    "version": 3
   },
   "file_extension": ".py",
   "mimetype": "text/x-python",
   "name": "python",
   "nbconvert_exporter": "python",
   "pygments_lexer": "ipython3",
   "version": "3.7.12"
  }
 },
 "nbformat": 4,
 "nbformat_minor": 2
}
