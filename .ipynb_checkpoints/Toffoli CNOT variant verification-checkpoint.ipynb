{
 "cells": [
  {
   "cell_type": "code",
   "execution_count": 1,
   "metadata": {},
   "outputs": [
    {
     "name": "stderr",
     "output_type": "stream",
     "text": [
      "/Users/revilooliver/Documents/quantum_computing/anaconda/anaconda3/envs/qiskit-terra/lib/python3.7/site-packages/qiskit/aqua/__init__.py:86: DeprecationWarning: The package qiskit.aqua is deprecated. It was moved/refactored to qiskit-terra For more information see <https://github.com/Qiskit/qiskit-aqua/blob/main/README.md#migration-guide>\n",
      "  warn_package('aqua', 'qiskit-terra')\n"
     ]
    },
    {
     "data": {
      "text/plain": [
       "{'qiskit-terra': '0.18.3', 'qiskit-aer': '0.9.1', 'qiskit-ignis': '0.6.0', 'qiskit-ibmq-provider': '0.18.1', 'qiskit-aqua': '0.9.5', 'qiskit': '0.32.1', 'qiskit-nature': None, 'qiskit-finance': None, 'qiskit-optimization': None, 'qiskit-machine-learning': None}"
      ]
     },
     "execution_count": 1,
     "metadata": {},
     "output_type": "execute_result"
    }
   ],
   "source": [
    "from qiskit import IBMQ\n",
    "import qiskit\n",
    "qiskit.__qiskit_version__"
   ]
  },
  {
   "cell_type": "code",
   "execution_count": 2,
   "metadata": {},
   "outputs": [],
   "source": [
    "import math\n",
    "import numpy as np\n",
    "import random\n",
    "import re\n",
    "import qiskit.tools.jupyter\n",
    "import cirq\n",
    "\n",
    "from qiskit import *\n",
    "from qiskit.compiler import transpile\n",
    "from qiskit.visualization import plot_histogram\n",
    "from qiskit.tools.monitor import job_monitor\n",
    "\n",
    "from qiskit.transpiler import PassManager\n",
    "from qiskit.transpiler import CouplingMap, Layout\n",
    "from qiskit.transpiler.passes import StochasticSwap, BasicSwap\n",
    "from gate_variants.toffoli_variants import CCX_Variant_Gate \n",
    "from qiskit.circuit.library.standard_gates.x import XGate, CXGate\n",
    "from qiskit.circuit.library.standard_gates.h import HGate\n",
    "from qiskit.circuit.library.standard_gates.t import TGate, TdgGate\n",
    "from qiskit.test.mock import FakeManhattan\n",
    "from qiskit.test.mock import FakeBogota\n",
    "from qiskit.test.mock import FakeMumbai\n",
    "from qiskit.test.mock import FakeTokyo\n",
    "\n",
    "from qiskit.tools.monitor import job_monitor, backend_monitor, backend_overview\n",
    "%matplotlib inline\n",
    "\n",
    "from qiskit.providers.aer import AerSimulator"
   ]
  },
  {
   "cell_type": "code",
   "execution_count": 3,
   "metadata": {},
   "outputs": [
    {
     "data": {
      "text/plain": [
       "{'token': '2916c8f35261ae6714a1a3a0be3f95ce6f350a68307bfd3a12bb007ffa6dfac17a11d72b46e629512f960313e26f81dd2761912721c64797229a9d74048b4cd7',\n",
       " 'url': 'https://auth.quantum-computing.ibm.com/api'}"
      ]
     },
     "execution_count": 3,
     "metadata": {},
     "output_type": "execute_result"
    }
   ],
   "source": [
    "IBMQ.stored_account()"
   ]
  },
  {
   "cell_type": "code",
   "execution_count": 4,
   "metadata": {},
   "outputs": [],
   "source": [
    "#IBMQ.enable_account(token,url)"
   ]
  },
  {
   "cell_type": "code",
   "execution_count": 5,
   "metadata": {},
   "outputs": [
    {
     "data": {
      "text/plain": [
       "[<IBMQSimulator('ibmq_qasm_simulator') from IBMQ(hub='ibm-q-ornl', group='anl', project='csc430')>,\n",
       " <IBMQBackend('ibmq_armonk') from IBMQ(hub='ibm-q-ornl', group='anl', project='csc430')>,\n",
       " <IBMQBackend('ibmq_montreal') from IBMQ(hub='ibm-q-ornl', group='anl', project='csc430')>,\n",
       " <IBMQBackend('ibmq_toronto') from IBMQ(hub='ibm-q-ornl', group='anl', project='csc430')>,\n",
       " <IBMQBackend('ibmq_santiago') from IBMQ(hub='ibm-q-ornl', group='anl', project='csc430')>,\n",
       " <IBMQBackend('ibmq_bogota') from IBMQ(hub='ibm-q-ornl', group='anl', project='csc430')>,\n",
       " <IBMQBackend('ibmq_mumbai') from IBMQ(hub='ibm-q-ornl', group='anl', project='csc430')>,\n",
       " <IBMQBackend('ibmq_lima') from IBMQ(hub='ibm-q-ornl', group='anl', project='csc430')>,\n",
       " <IBMQBackend('ibmq_belem') from IBMQ(hub='ibm-q-ornl', group='anl', project='csc430')>,\n",
       " <IBMQBackend('ibmq_quito') from IBMQ(hub='ibm-q-ornl', group='anl', project='csc430')>,\n",
       " <IBMQBackend('ibmq_guadalupe') from IBMQ(hub='ibm-q-ornl', group='anl', project='csc430')>,\n",
       " <IBMQSimulator('simulator_statevector') from IBMQ(hub='ibm-q-ornl', group='anl', project='csc430')>,\n",
       " <IBMQSimulator('simulator_mps') from IBMQ(hub='ibm-q-ornl', group='anl', project='csc430')>,\n",
       " <IBMQSimulator('simulator_extended_stabilizer') from IBMQ(hub='ibm-q-ornl', group='anl', project='csc430')>,\n",
       " <IBMQSimulator('simulator_stabilizer') from IBMQ(hub='ibm-q-ornl', group='anl', project='csc430')>,\n",
       " <IBMQBackend('ibmq_brooklyn') from IBMQ(hub='ibm-q-ornl', group='anl', project='csc430')>,\n",
       " <IBMQBackend('ibmq_jakarta') from IBMQ(hub='ibm-q-ornl', group='anl', project='csc430')>,\n",
       " <IBMQBackend('ibmq_manila') from IBMQ(hub='ibm-q-ornl', group='anl', project='csc430')>,\n",
       " <IBMQBackend('ibm_hanoi') from IBMQ(hub='ibm-q-ornl', group='anl', project='csc430')>,\n",
       " <IBMQBackend('ibm_lagos') from IBMQ(hub='ibm-q-ornl', group='anl', project='csc430')>,\n",
       " <IBMQBackend('ibm_cairo') from IBMQ(hub='ibm-q-ornl', group='anl', project='csc430')>,\n",
       " <IBMQBackend('ibm_washington') from IBMQ(hub='ibm-q-ornl', group='anl', project='csc430')>]"
      ]
     },
     "execution_count": 5,
     "metadata": {},
     "output_type": "execute_result"
    }
   ],
   "source": [
    "provider = IBMQ.load_account()\n",
    "provider = IBMQ.get_provider(hub='ibm-q-ornl', group='anl', project='csc430')\n",
    "provider.backends()"
   ]
  },
  {
   "cell_type": "code",
   "execution_count": 6,
   "metadata": {},
   "outputs": [],
   "source": [
    "import cirq\n",
    "q0 = cirq.LineQubit(0)\n",
    "q1 = cirq.LineQubit(1)\n",
    "q2 = cirq.LineQubit(2)"
   ]
  },
  {
   "cell_type": "code",
   "execution_count": 7,
   "metadata": {},
   "outputs": [],
   "source": [
    "cx_original = cirq.Circuit(\n",
    "    #cirq.Moment(cirq.I(q0), cirq.I(q1), cirq.I(q2))\n",
    "    cirq.Moment(cirq.CNOT(q0, q1), cirq.I(q2)),\n",
    "    #cirq.Moment(cirq.TOFFOLI(q0, q1, q2)),\n",
    ")"
   ]
  },
  {
   "cell_type": "code",
   "execution_count": 8,
   "metadata": {},
   "outputs": [
    {
     "data": {
      "text/plain": [
       "array([[1.+0.j, 0.+0.j, 0.+0.j, 0.+0.j, 0.+0.j, 0.+0.j, 0.+0.j, 0.+0.j],\n",
       "       [0.+0.j, 1.+0.j, 0.+0.j, 0.+0.j, 0.+0.j, 0.+0.j, 0.+0.j, 0.+0.j],\n",
       "       [0.+0.j, 0.+0.j, 1.+0.j, 0.+0.j, 0.+0.j, 0.+0.j, 0.+0.j, 0.+0.j],\n",
       "       [0.+0.j, 0.+0.j, 0.+0.j, 1.+0.j, 0.+0.j, 0.+0.j, 0.+0.j, 0.+0.j],\n",
       "       [0.+0.j, 0.+0.j, 0.+0.j, 0.+0.j, 0.+0.j, 0.+0.j, 1.+0.j, 0.+0.j],\n",
       "       [0.+0.j, 0.+0.j, 0.+0.j, 0.+0.j, 0.+0.j, 0.+0.j, 0.+0.j, 1.+0.j],\n",
       "       [0.+0.j, 0.+0.j, 0.+0.j, 0.+0.j, 1.+0.j, 0.+0.j, 0.+0.j, 0.+0.j],\n",
       "       [0.+0.j, 0.+0.j, 0.+0.j, 0.+0.j, 0.+0.j, 1.+0.j, 0.+0.j, 0.+0.j]])"
      ]
     },
     "execution_count": 8,
     "metadata": {},
     "output_type": "execute_result"
    }
   ],
   "source": [
    "cirq.unitary(cx_original)"
   ]
  },
  {
   "cell_type": "code",
   "execution_count": 9,
   "metadata": {},
   "outputs": [],
   "source": [
    "cx02_original = cirq.Circuit(\n",
    "    #cirq.Moment(cirq.I(q0), cirq.I(q1), cirq.I(q2))\n",
    "    cirq.Moment(cirq.CNOT(q0, q2), cirq.I(q1)),\n",
    "    #cirq.Moment(cirq.TOFFOLI(q0, q1, q2)),\n",
    ")"
   ]
  },
  {
   "cell_type": "code",
   "execution_count": 10,
   "metadata": {},
   "outputs": [
    {
     "data": {
      "text/plain": [
       "array([[1.+0.j, 0.+0.j, 0.+0.j, 0.+0.j, 0.+0.j, 0.+0.j, 0.+0.j, 0.+0.j],\n",
       "       [0.+0.j, 1.+0.j, 0.+0.j, 0.+0.j, 0.+0.j, 0.+0.j, 0.+0.j, 0.+0.j],\n",
       "       [0.+0.j, 0.+0.j, 1.+0.j, 0.+0.j, 0.+0.j, 0.+0.j, 0.+0.j, 0.+0.j],\n",
       "       [0.+0.j, 0.+0.j, 0.+0.j, 1.+0.j, 0.+0.j, 0.+0.j, 0.+0.j, 0.+0.j],\n",
       "       [0.+0.j, 0.+0.j, 0.+0.j, 0.+0.j, 0.+0.j, 1.+0.j, 0.+0.j, 0.+0.j],\n",
       "       [0.+0.j, 0.+0.j, 0.+0.j, 0.+0.j, 1.+0.j, 0.+0.j, 0.+0.j, 0.+0.j],\n",
       "       [0.+0.j, 0.+0.j, 0.+0.j, 0.+0.j, 0.+0.j, 0.+0.j, 0.+0.j, 1.+0.j],\n",
       "       [0.+0.j, 0.+0.j, 0.+0.j, 0.+0.j, 0.+0.j, 0.+0.j, 1.+0.j, 0.+0.j]])"
      ]
     },
     "execution_count": 10,
     "metadata": {},
     "output_type": "execute_result"
    }
   ],
   "source": [
    "cirq.unitary(cx02_original)"
   ]
  },
  {
   "cell_type": "code",
   "execution_count": 11,
   "metadata": {},
   "outputs": [],
   "source": [
    "cx12_original = cirq.Circuit(\n",
    "    #cirq.Moment(cirq.I(q0), cirq.I(q1), cirq.I(q2))\n",
    "    cirq.Moment(cirq.CNOT(q1, q2), cirq.I(q0)),\n",
    "    #cirq.Moment(cirq.TOFFOLI(q0, q1, q2)),\n",
    ")"
   ]
  },
  {
   "cell_type": "code",
   "execution_count": 12,
   "metadata": {},
   "outputs": [
    {
     "data": {
      "text/plain": [
       "array([[1.+0.j, 0.+0.j, 0.+0.j, 0.+0.j, 0.+0.j, 0.+0.j, 0.+0.j, 0.+0.j],\n",
       "       [0.+0.j, 1.+0.j, 0.+0.j, 0.+0.j, 0.+0.j, 0.+0.j, 0.+0.j, 0.+0.j],\n",
       "       [0.+0.j, 0.+0.j, 0.+0.j, 1.+0.j, 0.+0.j, 0.+0.j, 0.+0.j, 0.+0.j],\n",
       "       [0.+0.j, 0.+0.j, 1.+0.j, 0.+0.j, 0.+0.j, 0.+0.j, 0.+0.j, 0.+0.j],\n",
       "       [0.+0.j, 0.+0.j, 0.+0.j, 0.+0.j, 1.+0.j, 0.+0.j, 0.+0.j, 0.+0.j],\n",
       "       [0.+0.j, 0.+0.j, 0.+0.j, 0.+0.j, 0.+0.j, 1.+0.j, 0.+0.j, 0.+0.j],\n",
       "       [0.+0.j, 0.+0.j, 0.+0.j, 0.+0.j, 0.+0.j, 0.+0.j, 0.+0.j, 1.+0.j],\n",
       "       [0.+0.j, 0.+0.j, 0.+0.j, 0.+0.j, 0.+0.j, 0.+0.j, 1.+0.j, 0.+0.j]])"
      ]
     },
     "execution_count": 12,
     "metadata": {},
     "output_type": "execute_result"
    }
   ],
   "source": [
    "cirq.unitary(cx12_original)"
   ]
  },
  {
   "cell_type": "code",
   "execution_count": 13,
   "metadata": {},
   "outputs": [],
   "source": [
    "ccx_circ = QuantumCircuit(3)\n",
    "ccx_circ.ccx(0,1,2)\n",
    "ccx_circ.save_unitary()\n",
    "\n",
    "# Transpile for simulator\n",
    "simulator = Aer.get_backend('aer_simulator')\n",
    "ccx_circ = transpile(ccx_circ, simulator)\n",
    "\n",
    "# Run and get unitary\n",
    "ccx_result = simulator.run(ccx_circ).result()\n",
    "ccx_unitary = ccx_result.get_unitary(ccx_circ)"
   ]
  },
  {
   "cell_type": "code",
   "execution_count": 14,
   "metadata": {},
   "outputs": [
    {
     "name": "stdout",
     "output_type": "stream",
     "text": [
      "initialized variant_tag: ('20', '01', 'f', 'p')\n",
      "look for variant_rules ('20', '01', 'f', 'p')\n"
     ]
    }
   ],
   "source": [
    "circ = QuantumCircuit(3)\n",
    "circ.append(CCX_Variant_Gate(variant_tag=('20','01','f','p')),[0,1,2])\n",
    "circ.save_unitary()\n",
    "\n",
    "# Transpile for simulator\n",
    "simulator = Aer.get_backend('aer_simulator')\n",
    "circ = transpile(circ, simulator)\n",
    "\n",
    "# Run and get unitary\n",
    "result = simulator.run(circ).result()\n",
    "unitary = result.get_unitary(circ)"
   ]
  },
  {
   "cell_type": "code",
   "execution_count": 22,
   "metadata": {},
   "outputs": [],
   "source": [
    "        q = [0,1,2]\n",
    "        variant_rules = {\n",
    "            ('01', '01', 'f', 's'): [\n",
    "                (HGate(), [q[2]], []),\n",
    "                (TGate(), [q[1]], []),\n",
    "                (TGate(), [q[0]], []),\n",
    "                (TGate(), [q[2]], []),\n",
    "                (CXGate(), [q[0], q[1]], []),\n",
    "                (CXGate(), [q[2], q[0]], []),\n",
    "                (CXGate(), [q[1], q[2]], []),\n",
    "                (TdgGate(), [q[0]], []),\n",
    "                (CXGate(), [q[1], q[0]], []),\n",
    "                (TdgGate(), [q[1]], []),\n",
    "                (TdgGate(), [q[0]], []),\n",
    "                (TGate(), [q[2]], []),\n",
    "                (CXGate(), [q[2], q[0]], []),\n",
    "                (CXGate(), [q[1], q[2]], []),\n",
    "                (CXGate(), [q[0], q[1]], []),\n",
    "                (HGate(), [q[2]], []),\n",
    "            ],\n",
    "            ('10', '10', 'f', 's'): [\n",
    "                (HGate(), [q[2]], []),\n",
    "                (TGate(), [q[0]], []),\n",
    "                (TGate(), [q[1]], []),\n",
    "                (TGate(), [q[2]], []),\n",
    "                (CXGate(), [q[1], q[0]], []),\n",
    "                (CXGate(), [q[2], q[1]], []),\n",
    "                (CXGate(), [q[0], q[2]], []),\n",
    "                (TdgGate(), [q[1]], []),\n",
    "                (CXGate(), [q[0], q[1]], []),\n",
    "                (TdgGate(), [q[0]], []),\n",
    "                (TdgGate(), [q[1]], []),\n",
    "                (TGate(), [q[2]], []),\n",
    "                (CXGate(), [q[2], q[1]], []),\n",
    "                (CXGate(), [q[0], q[2]], []),\n",
    "                (CXGate(), [q[1], q[0]], []),\n",
    "                (HGate(), [q[2]], []),\n",
    "            ],\n",
    "            ('10', '10', 'f', 'p'): [\n",
    "                (HGate(), [q[2]], []),\n",
    "                (CXGate(), [q[1], q[0]], []),\n",
    "                (CXGate(), [q[0], q[2]], []),\n",
    "                (CXGate(), [q[2], q[1]], []),\n",
    "                (TdgGate(), [q[2]], []),\n",
    "                (TGate(), [q[1]], []),\n",
    "                (TGate(), [q[0]], []),\n",
    "                (CXGate(), [q[0], q[1]], []),\n",
    "                (TGate(), [q[1]], []),\n",
    "                (CXGate(), [q[0], q[2]], []),\n",
    "                (CXGate(), [q[2], q[1]], []),\n",
    "                (CXGate(), [q[1], q[0]], []),\n",
    "                (TdgGate(), [q[0]], []),\n",
    "                (TdgGate(), [q[1]], []),\n",
    "                (TdgGate(), [q[2]], []),\n",
    "                (HGate(), [q[2]], []),\n",
    "            ],\n",
    "            ('01', '01', 'f', 'p'): [\n",
    "                (HGate(), [q[2]], []),\n",
    "                (CXGate(), [q[0], q[1]], []),\n",
    "                (CXGate(), [q[1], q[2]], []),\n",
    "                (CXGate(), [q[2], q[0]], []),\n",
    "                (TdgGate(), [q[2]], []),\n",
    "                (TGate(), [q[0]], []),\n",
    "                (TGate(), [q[1]], []),\n",
    "                (CXGate(), [q[1], q[0]], []),\n",
    "                (TGate(), [q[0]], []),\n",
    "                (CXGate(), [q[1], q[2]], []),\n",
    "                (CXGate(), [q[2], q[0]], []),\n",
    "                (CXGate(), [q[0], q[1]], []),\n",
    "                (TdgGate(), [q[1]], []),\n",
    "                (TdgGate(), [q[0]], []),\n",
    "                (TdgGate(), [q[2]], []),\n",
    "                (HGate(), [q[2]], []),\n",
    "            ],\n",
    "            ('10', '02', 'f', 'p'): [\n",
    "                (CXGate(), [q[1], q[0]], []),\n",
    "                (TdgGate(), [q[1]], []),\n",
    "                (TGate(), [q[0]], []),\n",
    "                (CXGate(), [q[1], q[0]], []),\n",
    "                (TdgGate(), [q[0]], []),\n",
    "                (HGate(), [q[2]], []),\n",
    "                (TdgGate(), [q[2]], []),\n",
    "                (CXGate(), [q[1], q[2]], []),\n",
    "                (TGate(), [q[2]], []),\n",
    "                (CXGate(), [q[0], q[2]], []),\n",
    "                (TdgGate(), [q[2]], []),\n",
    "                (CXGate(), [q[1], q[2]], []),\n",
    "                (TGate(), [q[2]], []),\n",
    "                (CXGate(), [q[0], q[2]], []),\n",
    "                (HGate(), [q[2]], []),\n",
    "            ],\n",
    "            ('01', '20', 'f', 's'): [\n",
    "                (HGate(), [q[2]], []),\n",
    "                (CXGate(), [q[0], q[1]], []),\n",
    "                (TdgGate(), [q[1]], []),\n",
    "                (CXGate(), [q[2], q[1]], []),\n",
    "                (TGate(), [q[1]], []),\n",
    "                (CXGate(), [q[0], q[1]], []),\n",
    "                (TdgGate(), [q[1]], []),\n",
    "                (CXGate(), [q[2], q[1]], []),\n",
    "                (TGate(), [q[0]], []),\n",
    "                (TGate(), [q[1]], []),\n",
    "                (CXGate(), [q[2], q[0]], []),\n",
    "                (TGate(), [q[2]], []),\n",
    "                (TdgGate(), [q[0]], []),\n",
    "                (CXGate(), [q[2], q[0]], []),\n",
    "                (HGate(), [q[2]], []),\n",
    "            ],\n",
    "            ('01', '12', 'f', 'p'): [\n",
    "                (CXGate(), [q[0], q[1]], []),\n",
    "                (TdgGate(), [q[0]], []),\n",
    "                (TGate(), [q[1]], []),\n",
    "                (CXGate(), [q[0], q[1]], []),\n",
    "                (TdgGate(), [q[1]], []),\n",
    "                (HGate(), [q[2]], []),\n",
    "                (TdgGate(), [q[2]], []),\n",
    "                (CXGate(), [q[0], q[2]], []),\n",
    "                (TGate(), [q[2]], []),\n",
    "                (CXGate(), [q[1], q[2]], []),\n",
    "                (TdgGate(), [q[2]], []),\n",
    "                (CXGate(), [q[0], q[2]], []),\n",
    "                (TGate(), [q[2]], []),\n",
    "                (CXGate(), [q[1], q[2]], []),\n",
    "                (HGate(), [q[2]], []),\n",
    "            ],\n",
    "            ('20', '01', 'f', 'p'): [\n",
    "                (HGate(), [q[2]], []),\n",
    "                (CXGate(), [q[2], q[0]], []),\n",
    "                (TdgGate(), [q[2]], []),\n",
    "                (TGate(), [q[0]], []),\n",
    "                (CXGate(), [q[2], q[0]], []),\n",
    "                (TdgGate(), [q[0]], []),\n",
    "                (TdgGate(), [q[1]], []),\n",
    "                (CXGate(), [q[2], q[1]], []),\n",
    "                (TGate(), [q[1]], []),\n",
    "                (CXGate(), [q[0], q[1]], []),\n",
    "                (TdgGate(), [q[1]], []),\n",
    "                (CXGate(), [q[2], q[1]], []),\n",
    "                (TGate(), [q[1]], []),\n",
    "                (CXGate(), [q[0], q[1]], []),\n",
    "                (HGate(), [q[2]], []),\n",
    "            ],\n",
    "            ('02', '10', 'f', 's'): [\n",
    "                (HGate(), [q[2]], []),\n",
    "                (CXGate(), [q[0], q[2]], []),\n",
    "                (TdgGate(), [q[2]], []),\n",
    "                (CXGate(), [q[1], q[2]], []),\n",
    "                (TGate(), [q[2]], []),\n",
    "                (CXGate(), [q[0], q[2]], []),\n",
    "                (TdgGate(), [q[2]], []),\n",
    "                (CXGate(), [q[1], q[2]], []),\n",
    "                (TGate(), [q[0]], []),\n",
    "                (TGate(), [q[2]], []),\n",
    "                (HGate(), [q[2]], []),\n",
    "                (CXGate(), [q[1], q[0]], []),\n",
    "                (TGate(), [q[1]], []),\n",
    "                (TdgGate(), [q[0]], []),\n",
    "                (CXGate(), [q[1], q[0]], []),\n",
    "            ],\n",
    "            ('12', '01', 'f', 's'): [\n",
    "                (HGate(), [q[2]], []),\n",
    "                (CXGate(), [q[1], q[2]], []),\n",
    "                (TdgGate(), [q[2]], []),\n",
    "                (CXGate(), [q[0], q[2]], []),\n",
    "                (TGate(), [q[2]], []),\n",
    "                (CXGate(), [q[1], q[2]], []),\n",
    "                (TdgGate(), [q[2]], []),\n",
    "                (CXGate(), [q[0], q[2]], []),\n",
    "                (TGate(), [q[1]], []),\n",
    "                (TGate(), [q[2]], []),\n",
    "                (HGate(), [q[2]], []),\n",
    "                (CXGate(), [q[0], q[1]], []),\n",
    "                (TGate(), [q[0]], []),\n",
    "                (TdgGate(), [q[1]], []),\n",
    "                (CXGate(), [q[0], q[1]], []),\n",
    "            ],\n",
    "           ('10', '21', 'f', 's'): [\n",
    "                (HGate(), [q[2]], []),\n",
    "                (CXGate(), [q[1], q[0]], []),\n",
    "                (TdgGate(), [q[0]], []),\n",
    "                (CXGate(), [q[2], q[0]], []),\n",
    "                (TGate(), [q[0]], []),\n",
    "                (CXGate(), [q[1], q[0]], []),\n",
    "                (TdgGate(), [q[0]], []),\n",
    "                (CXGate(), [q[2], q[0]], []),\n",
    "                (TGate(), [q[1]], []),\n",
    "                (TGate(), [q[1]], []),\n",
    "                (CXGate(), [q[2], q[1]], []),\n",
    "                (TGate(), [q[2]], []),\n",
    "                (TdgGate(), [q[1]], []),\n",
    "                (CXGate(), [q[2], q[1]], []),\n",
    "                (HGate(), [q[2]], []),\n",
    "            ],\n",
    "            ('21', '10', 'f', 'p'): [\n",
    "                (HGate(), [q[2]], []),\n",
    "                (CXGate(), [q[2], q[1]], []),\n",
    "                (TdgGate(), [q[2]], []),\n",
    "                (TGate(), [q[1]], []),\n",
    "                (CXGate(), [q[2], q[1]], []),\n",
    "                (TdgGate(), [q[1]], []),\n",
    "                (TdgGate(), [q[0]], []),\n",
    "                (CXGate(), [q[2], q[0]], []),\n",
    "                (TGate(), [q[0]], []),\n",
    "                (CXGate(), [q[1], q[0]], []),\n",
    "                (TdgGate(), [q[0]], []),\n",
    "                (CXGate(), [q[2], q[0]], []),\n",
    "                (TGate(), [q[0]], []),\n",
    "                (CXGate(), [q[1], q[0]], []),\n",
    "                (HGate(), [q[2]], []),\n",
    "            ],\n",
    "            ('10', '02', 'l0', 'p'): [\n",
    "                (HGate(), [q[2]], []),\n",
    "                (TGate(), [q[1]], []),\n",
    "                (TGate(), [q[0]], []),\n",
    "                (TGate(), [q[2]], []),\n",
    "                (CXGate(), [q[1], q[0]], []),\n",
    "                (CXGate(), [q[0], q[2]], []),\n",
    "                (CXGate(), [q[1], q[0]], []),\n",
    "                (TGate(), [q[2]], []),\n",
    "                (CXGate(), [q[0], q[2]], []),\n",
    "                (CXGate(), [q[1], q[0]], []),\n",
    "                (TdgGate(), [q[0]], []),\n",
    "                (TdgGate(), [q[2]], []),\n",
    "                (CXGate(), [q[0], q[2]], []),\n",
    "                (CXGate(), [q[1], q[0]], []),\n",
    "                (TdgGate(), [q[2]], []),\n",
    "                (CXGate(), [q[0], q[2]], []),\n",
    "                (HGate(), [q[2]], []),\n",
    "            ],\n",
    "            ('02', '10', 'l0', 's'): [\n",
    "                (HGate(), [q[2]], []),\n",
    "                (CXGate(), [q[0], q[2]], []),\n",
    "                (TGate(), [q[2]], []),\n",
    "                (CXGate(), [q[1], q[0]], []),\n",
    "                (CXGate(), [q[0], q[2]], []),\n",
    "                (TGate(), [q[0]], []),\n",
    "                (TGate(), [q[2]], []),\n",
    "                (CXGate(), [q[1], q[0]], []),\n",
    "                (CXGate(), [q[0], q[2]], []),\n",
    "                (TdgGate(), [q[2]], []),\n",
    "                (CXGate(), [q[1], q[0]], []),\n",
    "                (CXGate(), [q[0], q[2]], []),\n",
    "                (CXGate(), [q[1], q[0]], []),\n",
    "                (TdgGate(), [q[1]], []),\n",
    "                (TdgGate(), [q[0]], []),\n",
    "                (TdgGate(), [q[2]], []),\n",
    "                (HGate(), [q[2]], []),\n",
    "            ],\n",
    "            ('01', '12', 'l1', 'p'): [\n",
    "                (HGate(), [q[2]], []),\n",
    "                (TGate(), [q[0]], []),\n",
    "                (TGate(), [q[1]], []),\n",
    "                (TGate(), [q[2]], []),\n",
    "                (CXGate(), [q[0], q[1]], []),\n",
    "                (CXGate(), [q[1], q[2]], []),\n",
    "                (CXGate(), [q[0], q[1]], []),\n",
    "                (TGate(), [q[2]], []),\n",
    "                (CXGate(), [q[1], q[2]], []),\n",
    "                (CXGate(), [q[0], q[1]], []),\n",
    "                (TdgGate(), [q[1]], []),\n",
    "                (TdgGate(), [q[2]], []),\n",
    "                (CXGate(), [q[1], q[2]], []),\n",
    "                (CXGate(), [q[0], q[1]], []),\n",
    "                (TdgGate(), [q[2]], []),\n",
    "                (CXGate(), [q[1], q[2]], []),\n",
    "                (HGate(), [q[2]], []),\n",
    "            ],\n",
    "            ('12', '01', 'l1', 's'): [\n",
    "                (HGate(), [q[2]], []),\n",
    "                (CXGate(), [q[1], q[2]], []),\n",
    "                (TGate(), [q[2]], []),\n",
    "                (CXGate(), [q[0], q[1]], []),\n",
    "                (CXGate(), [q[1], q[2]], []),\n",
    "                (TGate(), [q[1]], []),\n",
    "                (TGate(), [q[2]], []),\n",
    "                (CXGate(), [q[0], q[1]], []),\n",
    "                (CXGate(), [q[1], q[2]], []),\n",
    "                (TdgGate(), [q[2]], []),\n",
    "                (CXGate(), [q[0], q[1]], []),\n",
    "                (CXGate(), [q[1], q[2]], []),\n",
    "                (CXGate(), [q[0], q[1]], []),\n",
    "                (TdgGate(), [q[0]], []),\n",
    "                (TdgGate(), [q[1]], []),\n",
    "                (TdgGate(), [q[2]], []),\n",
    "                (HGate(), [q[2]], []),\n",
    "            ],\n",
    "            ('02', '21', 'l2', 'p'): [\n",
    "                (HGate(), [q[2]], []),\n",
    "                (TGate(), [q[2]], []),\n",
    "                (TGate(), [q[1]], []),\n",
    "                (TGate(), [q[0]], []),\n",
    "                (CXGate(), [q[0], q[2]], []),\n",
    "                (CXGate(), [q[2], q[1]], []),\n",
    "                (CXGate(), [q[0], q[2]], []),\n",
    "                (TGate(), [q[1]], []),\n",
    "                (CXGate(), [q[2], q[1]], []),\n",
    "                (CXGate(), [q[0], q[2]], []),\n",
    "                (TdgGate(), [q[1]], []),\n",
    "                (TdgGate(), [q[2]], []),\n",
    "                (CXGate(), [q[2], q[1]], []),\n",
    "                (CXGate(), [q[0], q[2]], []),\n",
    "                (TdgGate(), [q[1]], []),\n",
    "                (CXGate(), [q[2], q[1]], []),\n",
    "                (HGate(), [q[2]], []),\n",
    "            ],\n",
    "            ('21', '02', 'l2', 's'): [\n",
    "                (HGate(), [q[2]], []),\n",
    "                (CXGate(), [q[2], q[1]], []),\n",
    "                (TGate(), [q[1]], []),\n",
    "                (CXGate(), [q[0], q[2]], []),\n",
    "                (CXGate(), [q[2], q[1]], []),\n",
    "                (TGate(), [q[2]], []),\n",
    "                (TGate(), [q[1]], []),\n",
    "                (CXGate(), [q[0], q[2]], []),\n",
    "                (CXGate(), [q[2], q[1]], []),\n",
    "                (TdgGate(), [q[1]], []),\n",
    "                (CXGate(), [q[0], q[2]], []),\n",
    "                (CXGate(), [q[2], q[1]], []),\n",
    "                (CXGate(), [q[0], q[2]], []),\n",
    "                (TdgGate(), [q[0]], []),\n",
    "                (TdgGate(), [q[1]], []),\n",
    "                (TdgGate(), [q[2]], []),\n",
    "                (HGate(), [q[2]], []),\n",
    "            ],\n",
    "            ('12', '20', 'l2', 'p'): [\n",
    "                (HGate(), [q[2]], []),\n",
    "                (TGate(), [q[2]], []),\n",
    "                (TGate(), [q[1]], []),\n",
    "                (TGate(), [q[0]], []),\n",
    "                (CXGate(), [q[1], q[2]], []),\n",
    "                (CXGate(), [q[2], q[0]], []),\n",
    "                (CXGate(), [q[1], q[2]], []),\n",
    "                (TGate(), [q[0]], []),\n",
    "                (CXGate(), [q[2], q[0]], []),\n",
    "                (CXGate(), [q[1], q[2]], []),\n",
    "                (TdgGate(), [q[0]], []),\n",
    "                (TdgGate(), [q[2]], []),\n",
    "                (CXGate(), [q[2], q[0]], []),\n",
    "                (CXGate(), [q[1], q[2]], []),\n",
    "                (TdgGate(), [q[0]], []),\n",
    "                (CXGate(), [q[2], q[0]], []),\n",
    "                (HGate(), [q[2]], []),\n",
    "            ],\n",
    "            ('20', '12', 'l2', 's'): [\n",
    "                (HGate(), [q[2]], []),\n",
    "                (CXGate(), [q[2], q[0]], []),\n",
    "                (TGate(), [q[0]], []),\n",
    "                (CXGate(), [q[1], q[2]], []),\n",
    "                (CXGate(), [q[2], q[0]], []),\n",
    "                (TGate(), [q[2]], []),\n",
    "                (TGate(), [q[0]], []),\n",
    "                (CXGate(), [q[1], q[2]], []),\n",
    "                (CXGate(), [q[2], q[0]], []),\n",
    "                (TdgGate(), [q[0]], []),\n",
    "                (CXGate(), [q[1], q[2]], []),\n",
    "                (CXGate(), [q[2], q[0]], []),\n",
    "                (CXGate(), [q[1], q[2]], []),\n",
    "                (TdgGate(), [q[0]], []),\n",
    "                (TdgGate(), [q[1]], []),\n",
    "                (TdgGate(), [q[2]], []),\n",
    "                (HGate(), [q[2]], []),\n",
    "            ],\n",
    "            }"
   ]
  },
  {
   "cell_type": "code",
   "execution_count": 23,
   "metadata": {},
   "outputs": [
    {
     "name": "stdout",
     "output_type": "stream",
     "text": [
      "initialized variant_tag: ('01', '01', 'f', 's')\n",
      "look for variant_rules ('01', '01', 'f', 's')\n",
      "True\n",
      "initialized variant_tag: ('10', '10', 'f', 's')\n",
      "look for variant_rules ('10', '10', 'f', 's')\n",
      "True\n",
      "initialized variant_tag: ('10', '10', 'f', 'p')\n",
      "look for variant_rules ('10', '10', 'f', 'p')\n",
      "True\n",
      "initialized variant_tag: ('01', '01', 'f', 'p')\n",
      "look for variant_rules ('01', '01', 'f', 'p')\n",
      "True\n",
      "initialized variant_tag: ('10', '02', 'f', 'p')\n",
      "look for variant_rules ('10', '02', 'f', 'p')\n",
      "True\n",
      "initialized variant_tag: ('01', '20', 'f', 's')\n",
      "look for variant_rules ('01', '20', 'f', 's')\n",
      "True\n",
      "initialized variant_tag: ('01', '12', 'f', 'p')\n",
      "look for variant_rules ('01', '12', 'f', 'p')\n",
      "True\n",
      "initialized variant_tag: ('20', '01', 'f', 'p')\n",
      "look for variant_rules ('20', '01', 'f', 'p')\n",
      "True\n",
      "initialized variant_tag: ('02', '10', 'f', 's')\n",
      "look for variant_rules ('02', '10', 'f', 's')\n",
      "True\n",
      "initialized variant_tag: ('12', '01', 'f', 's')\n",
      "look for variant_rules ('12', '01', 'f', 's')\n",
      "True\n",
      "initialized variant_tag: ('10', '21', 'f', 's')\n",
      "look for variant_rules ('10', '21', 'f', 's')\n",
      "False\n",
      "initialized variant_tag: ('21', '10', 'f', 'p')\n",
      "look for variant_rules ('21', '10', 'f', 'p')\n",
      "True\n",
      "initialized variant_tag: ('10', '02', 'l0', 'p')\n",
      "look for variant_rules ('10', '02', 'l0', 'p')\n",
      "True\n",
      "initialized variant_tag: ('02', '10', 'l0', 's')\n",
      "look for variant_rules ('02', '10', 'l0', 's')\n",
      "True\n",
      "initialized variant_tag: ('01', '12', 'l1', 'p')\n",
      "look for variant_rules ('01', '12', 'l1', 'p')\n",
      "True\n",
      "initialized variant_tag: ('12', '01', 'l1', 's')\n",
      "look for variant_rules ('12', '01', 'l1', 's')\n",
      "True\n",
      "initialized variant_tag: ('02', '21', 'l2', 'p')\n",
      "look for variant_rules ('02', '21', 'l2', 'p')\n",
      "False\n",
      "initialized variant_tag: ('21', '02', 'l2', 's')\n",
      "look for variant_rules ('21', '02', 'l2', 's')\n",
      "False\n",
      "initialized variant_tag: ('12', '20', 'l2', 'p')\n",
      "look for variant_rules ('12', '20', 'l2', 'p')\n",
      "False\n",
      "initialized variant_tag: ('20', '12', 'l2', 's')\n",
      "look for variant_rules ('20', '12', 'l2', 's')\n",
      "False\n"
     ]
    }
   ],
   "source": [
    "for tag in variant_rules.keys():\n",
    "    circ = QuantumCircuit(3)\n",
    "    circ.append(CCX_Variant_Gate(variant_tag=tag),[0,1,2])\n",
    "    circ.save_unitary()\n",
    "\n",
    "    # Transpile for simulator\n",
    "    simulator = Aer.get_backend('aer_simulator')\n",
    "    circ = transpile(circ, simulator)\n",
    "\n",
    "    # Run and get unitary\n",
    "    result = simulator.run(circ).result()\n",
    "    unitary = result.get_unitary(circ)\n",
    "    print(cirq.equal_up_to_global_phase(ccx_unitary, unitary))"
   ]
  },
  {
   "cell_type": "code",
   "execution_count": 17,
   "metadata": {},
   "outputs": [
    {
     "name": "stdout",
     "output_type": "stream",
     "text": [
      "False\n"
     ]
    }
   ],
   "source": [
    "print(cirq.equal_up_to_global_phase(ccx_unitary, unitary))"
   ]
  },
  {
   "cell_type": "code",
   "execution_count": 18,
   "metadata": {},
   "outputs": [],
   "source": [
    "backend = FakeTokyo()"
   ]
  },
  {
   "cell_type": "code",
   "execution_count": 19,
   "metadata": {},
   "outputs": [
    {
     "name": "stdout",
     "output_type": "stream",
     "text": [
      "initialized variant_tag: ('00', '20', 'l2', 'p')\n",
      "look for variant_rules ('00', '20', 'l2', 'p')\n",
      "final tag, one match ('21', '02', 'l2', 's')\n"
     ]
    },
    {
     "data": {
      "image/png": "[encoded data removed]",
      "text/plain": [
       "<Figure size 867.783x1228.08 with 1 Axes>"
      ]
     },
     "execution_count": 19,
     "metadata": {},
     "output_type": "execute_result"
    }
   ],
   "source": [
    "tag = ('00', '20', 'l2', 'p')\n",
    "circ = QuantumCircuit(3)\n",
    "circ.append(CCX_Variant_Gate(variant_tag=tag),[0,1,2])\n",
    "trans_qc = transpile(circ, backend, optimization_level = 3)\n",
    "trans_qc.draw(output= 'mpl')"
   ]
  },
  {
   "cell_type": "code",
   "execution_count": 20,
   "metadata": {},
   "outputs": [
    {
     "name": "stdout",
     "output_type": "stream",
     "text": [
      "initialized variant_tag: ('01', '20', 'f', 's')\n",
      "look for variant_rules ('01', '20', 'f', 's')\n"
     ]
    },
    {
     "data": {
      "image/png": "[encoded data removed]",
      "text/plain": [
       "<Figure size 867.783x1228.08 with 1 Axes>"
      ]
     },
     "execution_count": 20,
     "metadata": {},
     "output_type": "execute_result"
    }
   ],
   "source": [
    "tag = ('01', '20', 'f', 's')\n",
    "circ = QuantumCircuit(3)\n",
    "circ.append(CCX_Variant_Gate(variant_tag=tag),[0,1,2])\n",
    "trans_qc = transpile(circ, backend, optimization_level = 3)\n",
    "trans_qc.draw(output= 'mpl')"
   ]
  },
  {
   "cell_type": "code",
   "execution_count": 21,
   "metadata": {},
   "outputs": [
    {
     "ename": "NameError",
     "evalue": "name 'J' is not defined",
     "output_type": "error",
     "traceback": [
      "\u001b[0;31m---------------------------------------------------------------------------\u001b[0m",
      "\u001b[0;31mNameError\u001b[0m                                 Traceback (most recent call last)",
      "\u001b[0;32m<ipython-input-21-11d7d7ce0b68>\u001b[0m in \u001b[0;36m<module>\u001b[0;34m\u001b[0m\n\u001b[0;32m----> 1\u001b[0;31m \u001b[0mJ\u001b[0m\u001b[0;34m\u001b[0m\u001b[0;34m\u001b[0m\u001b[0m\n\u001b[0m",
      "\u001b[0;31mNameError\u001b[0m: name 'J' is not defined"
     ]
    }
   ],
   "source": [
    "J"
   ]
  }
 ],
 "metadata": {
  "kernelspec": {
   "display_name": "Python 3",
   "language": "python",
   "name": "python3"
  },
  "language_info": {
   "codemirror_mode": {
    "name": "ipython",
    "version": 3
   },
   "file_extension": ".py",
   "mimetype": "text/x-python",
   "name": "python",
   "nbconvert_exporter": "python",
   "pygments_lexer": "ipython3",
   "version": "3.7.12"
  }
 },
 "nbformat": 4,
 "nbformat_minor": 2
}
