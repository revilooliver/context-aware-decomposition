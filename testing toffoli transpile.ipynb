{
 "cells": [
  {
   "cell_type": "code",
   "execution_count": 1,
   "metadata": {},
   "outputs": [
    {
     "name": "stderr",
     "output_type": "stream",
     "text": [
      "/Users/revilooliver/Documents/quantum_computing/anaconda/anaconda3/envs/qiskit-terra/lib/python3.7/site-packages/qiskit/aqua/__init__.py:86: DeprecationWarning: The package qiskit.aqua is deprecated. It was moved/refactored to qiskit-terra For more information see <https://github.com/Qiskit/qiskit-aqua/blob/main/README.md#migration-guide>\n",
      "  warn_package('aqua', 'qiskit-terra')\n"
     ]
    },
    {
     "data": {
      "text/plain": [
       "{'qiskit-terra': '0.18.3', 'qiskit-aer': '0.9.1', 'qiskit-ignis': '0.6.0', 'qiskit-ibmq-provider': '0.18.1', 'qiskit-aqua': '0.9.5', 'qiskit': '0.32.1', 'qiskit-nature': None, 'qiskit-finance': None, 'qiskit-optimization': None, 'qiskit-machine-learning': None}"
      ]
     },
     "execution_count": 1,
     "metadata": {},
     "output_type": "execute_result"
    }
   ],
   "source": [
    "from qiskit import IBMQ\n",
    "import qiskit\n",
    "qiskit.__qiskit_version__"
   ]
  },
  {
   "cell_type": "code",
   "execution_count": 2,
   "metadata": {},
   "outputs": [
    {
     "data": {
      "text/plain": [
       "{'token': '2916c8f35261ae6714a1a3a0be3f95ce6f350a68307bfd3a12bb007ffa6dfac17a11d72b46e629512f960313e26f81dd2761912721c64797229a9d74048b4cd7',\n",
       " 'url': 'https://auth.quantum-computing.ibm.com/api'}"
      ]
     },
     "execution_count": 2,
     "metadata": {},
     "output_type": "execute_result"
    }
   ],
   "source": [
    "IBMQ.stored_account()"
   ]
  },
  {
   "cell_type": "code",
   "execution_count": 3,
   "metadata": {},
   "outputs": [],
   "source": [
    "#IBMQ.enable_account(token,url)"
   ]
  },
  {
   "cell_type": "code",
   "execution_count": 4,
   "metadata": {},
   "outputs": [],
   "source": [
    "# provider = IBMQ.load_account()\n",
    "# provider = IBMQ.get_provider(hub='ibm-q-ornl', group='anl', project='csc430')\n",
    "# provider.backends()"
   ]
  },
  {
   "cell_type": "code",
   "execution_count": 5,
   "metadata": {},
   "outputs": [],
   "source": [
    "import math\n",
    "import numpy as np\n",
    "import random\n",
    "import re\n",
    "import qiskit.tools.jupyter\n",
    "\n",
    "from qiskit import *\n",
    "from qiskit.compiler import transpile\n",
    "from qiskit.visualization import plot_histogram\n",
    "from qiskit.tools.monitor import job_monitor\n",
    "\n",
    "from qiskit.transpiler import PassManager\n",
    "from qiskit.transpiler import CouplingMap, Layout\n",
    "from qiskit.transpiler.passes import StochasticSwap, BasicSwap\n",
    "\n",
    "from qiskit.tools.monitor import job_monitor, backend_monitor, backend_overview\n",
    "%matplotlib inline\n",
    "\n",
    "from qiskit.providers.aer import AerSimulator\n",
    "\n",
    "from gate_variants.toffoli_variants import CCX_Variant_Gate"
   ]
  },
  {
   "cell_type": "code",
   "execution_count": 6,
   "metadata": {},
   "outputs": [],
   "source": [
    "# device = provider.get_backend('ibmq_casablanca')\n",
    "# backend_monitor(device)\n",
    "# device"
   ]
  },
  {
   "cell_type": "code",
   "execution_count": 7,
   "metadata": {},
   "outputs": [
    {
     "data": {
      "text/plain": [
       "<qiskit.circuit.instructionset.InstructionSet at 0x7f91b105d960>"
      ]
     },
     "execution_count": 7,
     "metadata": {},
     "output_type": "execute_result"
    }
   ],
   "source": [
    "circ = QuantumCircuit(4)\n",
    "circ.cx(0,1)\n",
    "circ.cx(1,2)\n",
    "circ.ccx(1,2,3)\n",
    "circ.cx(2,1)\n",
    "circ.ccx(0,1,2)\n",
    "# circ.x(0)\n",
    "# circ.x(1)\n",
    "# circ.ccx(0,1,2)"
   ]
  },
  {
   "cell_type": "code",
   "execution_count": 8,
   "metadata": {},
   "outputs": [
    {
     "data": {
      "text/html": [
       "<pre style=\"word-wrap: normal;white-space: pre;background: #fff0;line-height: 1.1;font-family: &quot;Courier New&quot;,Courier,monospace\">                              \n",
       "q_0: ──■───────────────────■──\n",
       "     ┌─┴─┐          ┌───┐  │  \n",
       "q_1: ┤ X ├──■────■──┤ X ├──■──\n",
       "     └───┘┌─┴─┐  │  └─┬─┘┌─┴─┐\n",
       "q_2: ─────┤ X ├──■────■──┤ X ├\n",
       "          └───┘┌─┴─┐     └───┘\n",
       "q_3: ──────────┤ X ├──────────\n",
       "               └───┘          </pre>"
      ],
      "text/plain": [
       "                              \n",
       "q_0: ──■───────────────────■──\n",
       "     ┌─┴─┐          ┌───┐  │  \n",
       "q_1: ┤ X ├──■────■──┤ X ├──■──\n",
       "     └───┘┌─┴─┐  │  └─┬─┘┌─┴─┐\n",
       "q_2: ─────┤ X ├──■────■──┤ X ├\n",
       "          └───┘┌─┴─┐     └───┘\n",
       "q_3: ──────────┤ X ├──────────\n",
       "               └───┘          "
      ]
     },
     "execution_count": 8,
     "metadata": {},
     "output_type": "execute_result"
    }
   ],
   "source": [
    "circ.draw()"
   ]
  },
  {
   "cell_type": "code",
   "execution_count": 9,
   "metadata": {},
   "outputs": [
    {
     "name": "stdout",
     "output_type": "stream",
     "text": [
      "['ccx']\n",
      "predecessor None\n",
      "predecessor cx\n",
      "('01', '01', 'p')\n",
      "node before 140264016880272 ccx\n",
      "node after 140264016880272 ccx\n",
      "list of successors: [<qiskit.dagcircuit.dagnode.DAGOpNode object at 0x7f91c2e6fd40>]\n",
      "[0, 1]\n",
      "predecessor cx\n",
      "('01', '01', 'p')\n",
      "node before 140262761638368 ccx\n",
      "node after 140262761638368 ccx\n",
      "list of successors: [<qiskit.dagcircuit.dagnode.DAGOpNode object at 0x7f91c2e6f7a0>]\n",
      "[2, 1]\n",
      "predecessor cx\n"
     ]
    }
   ],
   "source": [
    "trans_circ = transpile(circ, basis_gates = ['id', 'rz', 'sx', 'x', 'cx', 'reset'], optimization_level = 4)"
   ]
  },
  {
   "cell_type": "code",
   "execution_count": 10,
   "metadata": {},
   "outputs": [
    {
     "data": {
      "text/html": [
       "<pre style=\"word-wrap: normal;white-space: pre;background: #fff0;line-height: 1.1;font-family: &quot;Courier New&quot;,Courier,monospace\">                                                                             »\n",
       "q_0: ─────■──────────────────────────────────────────────────────────────────»\n",
       "        ┌─┴─┐            ┌───┐        ┌─────────┐                            »\n",
       "q_1: ───┤ X ├─────■──────┤ X ├─────■──┤ Rz(π/4) ├──────────────■─────────────»\n",
       "        └───┘   ┌─┴─┐    └─┬─┘     │  └──┬───┬──┘┌─────────┐ ┌─┴─┐┌─────────┐»\n",
       "q_2: ───────────┤ X ├──────■───────┼─────┤ X ├───┤ Rz(π/4) ├─┤ X ├┤ Rz(π/4) ├»\n",
       "     ┌─────────┐├───┴┐┌─────────┐┌─┴─┐   └─┬─┘   ├─────────┴┐└───┘└─────────┘»\n",
       "q_3: ┤ Rz(π/2) ├┤ √X ├┤ Rz(π/2) ├┤ X ├─────■─────┤ Rz(-π/4) ├────────────────»\n",
       "     └─────────┘└────┘└─────────┘└───┘           └──────────┘                »\n",
       "«                                                 ┌───┐                 »\n",
       "«q_0: ────────────────────────────────────────────┤ X ├──────────────■──»\n",
       "«                  ┌───┐   ┌──────────┐   ┌───┐   └─┬─┘              │  »\n",
       "«q_1: ──■──────────┤ X ├───┤ Rz(-π/4) ├───┤ X ├─────■────────────────┼──»\n",
       "«       │  ┌───┐   └─┬─┘   ├─────────┬┘   └─┬─┘   ┌────┐┌─────────┐┌─┴─┐»\n",
       "«q_2: ──┼──┤ X ├─────■─────┤ Rz(π/4) ├──────■─────┤ √X ├┤ Rz(π/2) ├┤ X ├»\n",
       "«     ┌─┴─┐└─┬─┘┌─────────┐└──┬────┬─┘ ┌─────────┐└────┘└─────────┘└───┘»\n",
       "«q_3: ┤ X ├──■──┤ Rz(π/4) ├───┤ √X ├───┤ Rz(π/2) ├──────────────────────»\n",
       "«     └───┘     └─────────┘   └────┘   └─────────┘                      »\n",
       "«     ┌─────────┐                                         ┌───┐   ┌──────────┐»\n",
       "«q_0: ┤ Rz(π/4) ├──────────────■───────────────■──────────┤ X ├───┤ Rz(-π/4) ├»\n",
       "«     └──┬───┬──┘┌─────────┐ ┌─┴─┐┌─────────┐  │  ┌───┐   └─┬─┘   ├──────────┤»\n",
       "«q_1: ───┤ X ├───┤ Rz(π/4) ├─┤ X ├┤ Rz(π/4) ├──┼──┤ X ├─────■─────┤ Rz(-π/4) ├»\n",
       "«        └─┬─┘   ├─────────┴┐└───┘└─────────┘┌─┴─┐└─┬─┘┌─────────┐└──┬────┬──┘»\n",
       "«q_2: ─────■─────┤ Rz(-π/4) ├────────────────┤ X ├──■──┤ Rz(π/4) ├───┤ √X ├───»\n",
       "«                └──────────┘                └───┘     └─────────┘   └────┘   »\n",
       "«q_3: ────────────────────────────────────────────────────────────────────────»\n",
       "«                                                                             »\n",
       "«                \n",
       "«q_0: ───────────\n",
       "«                \n",
       "«q_1: ───────────\n",
       "«     ┌─────────┐\n",
       "«q_2: ┤ Rz(π/2) ├\n",
       "«     └─────────┘\n",
       "«q_3: ───────────\n",
       "«                </pre>"
      ],
      "text/plain": [
       "                                                                             »\n",
       "q_0: ─────■──────────────────────────────────────────────────────────────────»\n",
       "        ┌─┴─┐            ┌───┐        ┌─────────┐                            »\n",
       "q_1: ───┤ X ├─────■──────┤ X ├─────■──┤ Rz(π/4) ├──────────────■─────────────»\n",
       "        └───┘   ┌─┴─┐    └─┬─┘     │  └──┬───┬──┘┌─────────┐ ┌─┴─┐┌─────────┐»\n",
       "q_2: ───────────┤ X ├──────■───────┼─────┤ X ├───┤ Rz(π/4) ├─┤ X ├┤ Rz(π/4) ├»\n",
       "     ┌─────────┐├───┴┐┌─────────┐┌─┴─┐   └─┬─┘   ├─────────┴┐└───┘└─────────┘»\n",
       "q_3: ┤ Rz(π/2) ├┤ √X ├┤ Rz(π/2) ├┤ X ├─────■─────┤ Rz(-π/4) ├────────────────»\n",
       "     └─────────┘└────┘└─────────┘└───┘           └──────────┘                »\n",
       "«                                                 ┌───┐                 »\n",
       "«q_0: ────────────────────────────────────────────┤ X ├──────────────■──»\n",
       "«                  ┌───┐   ┌──────────┐   ┌───┐   └─┬─┘              │  »\n",
       "«q_1: ──■──────────┤ X ├───┤ Rz(-π/4) ├───┤ X ├─────■────────────────┼──»\n",
       "«       │  ┌───┐   └─┬─┘   ├─────────┬┘   └─┬─┘   ┌────┐┌─────────┐┌─┴─┐»\n",
       "«q_2: ──┼──┤ X ├─────■─────┤ Rz(π/4) ├──────■─────┤ √X ├┤ Rz(π/2) ├┤ X ├»\n",
       "«     ┌─┴─┐└─┬─┘┌─────────┐└──┬────┬─┘ ┌─────────┐└────┘└─────────┘└───┘»\n",
       "«q_3: ┤ X ├──■──┤ Rz(π/4) ├───┤ √X ├───┤ Rz(π/2) ├──────────────────────»\n",
       "«     └───┘     └─────────┘   └────┘   └─────────┘                      »\n",
       "«     ┌─────────┐                                         ┌───┐   ┌──────────┐»\n",
       "«q_0: ┤ Rz(π/4) ├──────────────■───────────────■──────────┤ X ├───┤ Rz(-π/4) ├»\n",
       "«     └──┬───┬──┘┌─────────┐ ┌─┴─┐┌─────────┐  │  ┌───┐   └─┬─┘   ├──────────┤»\n",
       "«q_1: ───┤ X ├───┤ Rz(π/4) ├─┤ X ├┤ Rz(π/4) ├──┼──┤ X ├─────■─────┤ Rz(-π/4) ├»\n",
       "«        └─┬─┘   ├─────────┴┐└───┘└─────────┘┌─┴─┐└─┬─┘┌─────────┐└──┬────┬──┘»\n",
       "«q_2: ─────■─────┤ Rz(-π/4) ├────────────────┤ X ├──■──┤ Rz(π/4) ├───┤ √X ├───»\n",
       "«                └──────────┘                └───┘     └─────────┘   └────┘   »\n",
       "«q_3: ────────────────────────────────────────────────────────────────────────»\n",
       "«                                                                             »\n",
       "«                \n",
       "«q_0: ───────────\n",
       "«                \n",
       "«q_1: ───────────\n",
       "«     ┌─────────┐\n",
       "«q_2: ┤ Rz(π/2) ├\n",
       "«     └─────────┘\n",
       "«q_3: ───────────\n",
       "«                "
      ]
     },
     "execution_count": 10,
     "metadata": {},
     "output_type": "execute_result"
    }
   ],
   "source": [
    "trans_circ.draw()"
   ]
  },
  {
   "cell_type": "code",
   "execution_count": 11,
   "metadata": {},
   "outputs": [],
   "source": [
    "from gate_variants.toffoli_variants import CCX_Variant_Gate"
   ]
  },
  {
   "cell_type": "code",
   "execution_count": 12,
   "metadata": {},
   "outputs": [
    {
     "name": "stdout",
     "output_type": "stream",
     "text": [
      "('01', '01', 's')\n",
      "('12', '01', 's')\n",
      "('02', '01', 's')\n",
      "('01', '12', 'p')\n",
      "('01', '01', 'p')\n"
     ]
    },
    {
     "data": {
      "text/plain": [
       "<qiskit.circuit.instructionset.InstructionSet at 0x7f91c2e72230>"
      ]
     },
     "execution_count": 12,
     "metadata": {},
     "output_type": "execute_result"
    }
   ],
   "source": [
    "qc_0 = qiskit.circuit.QuantumCircuit(15)\n",
    "qc_0.append(CCX_Variant_Gate(variant_tag=('','01','s')),[0,1,2])\n",
    "qc_0.append(CCX_Variant_Gate(variant_tag=('12','01','s')),[3,4,5])\n",
    "qc_0.append(CCX_Variant_Gate(variant_tag=('02','01','s')),[6,7,8])\n",
    "qc_0.append(CCX_Variant_Gate(variant_tag=('01','12','p')),[9,10,11])\n",
    "qc_0.append(CCX_Variant_Gate(variant_tag=('01','01','p')),[12,13,14])"
   ]
  },
  {
   "cell_type": "code",
   "execution_count": 13,
   "metadata": {},
   "outputs": [
    {
     "data": {
      "image/png": "[encoded data removed]",
      "text/plain": [
       "<Figure size 822.123x927.08 with 1 Axes>"
      ]
     },
     "execution_count": 13,
     "metadata": {},
     "output_type": "execute_result"
    }
   ],
   "source": [
    "basis_gate_set = ['id', 'rz', 'sx', 'x', 'cx', 'reset']\n",
    "trans_qc0 = transpile(qc_0, optimization_level=3)\n",
    "trans_qc0.draw(output='mpl')"
   ]
  },
  {
   "cell_type": "code",
   "execution_count": null,
   "metadata": {},
   "outputs": [],
   "source": []
  }
 ],
 "metadata": {
  "kernelspec": {
   "display_name": "Python 3",
   "language": "python",
   "name": "python3"
  },
  "language_info": {
   "codemirror_mode": {
    "name": "ipython",
    "version": 3
   },
   "file_extension": ".py",
   "mimetype": "text/x-python",
   "name": "python",
   "nbconvert_exporter": "python",
   "pygments_lexer": "ipython3",
   "version": "3.7.12"
  }
 },
 "nbformat": 4,
 "nbformat_minor": 2
}
