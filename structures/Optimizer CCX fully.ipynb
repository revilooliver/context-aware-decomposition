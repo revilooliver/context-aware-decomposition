{
 "cells": [
  {
   "cell_type": "markdown",
   "id": "38ff456c",
   "metadata": {},
   "source": [
    "# Optimizer Example"
   ]
  },
  {
   "cell_type": "markdown",
   "id": "d31a72ec",
   "metadata": {},
   "source": [
    "This notebook demonstrates how to use the PyQuOpt numerical optimization code to generate novel implementations of a specified unitary matrix. In this case, the Toffoli gate is explored."
   ]
  },
  {
   "cell_type": "markdown",
   "id": "1ea81fe8",
   "metadata": {},
   "source": [
    "### Imports"
   ]
  },
  {
   "cell_type": "code",
   "execution_count": 1,
   "id": "e74eac1a",
   "metadata": {},
   "outputs": [],
   "source": [
    "import sys\n",
    "import numpy as np\n",
    "\n",
    "sys.path.append('..')\n",
    "from pyquopt import *"
   ]
  },
  {
   "cell_type": "markdown",
   "id": "ffc21f98",
   "metadata": {},
   "source": [
    "### Optimization Hyperparameters"
   ]
  },
  {
   "cell_type": "code",
   "execution_count": 19,
   "id": "049f8d2d",
   "metadata": {},
   "outputs": [],
   "source": [
    "num_qubits = 3\n",
    "num_mq_instructions = 6  # want to explore circuits with six multi-qubit gates\n",
    "num_params = 3 * num_qubits * (num_mq_instructions + 1)  # formula explained in MICRO paper\n",
    "\n",
    "mq_dict = {\n",
    "    0: ThreeGates.CX01,\n",
    "    1: ThreeGates.CX02,\n",
    "    2: ThreeGates.CX12,\n",
    "}"
   ]
  },
  {
   "cell_type": "code",
   "execution_count": 20,
   "id": "5cfefddd",
   "metadata": {},
   "outputs": [],
   "source": [
    "alpha = 0.30  # penalty for non-standard angles\n",
    "gamma = 0   # penalty for large angles\n",
    "non_fixed_params = np.ones(num_params)  # leave all parameters unfixed\n",
    "fixed_params_vals = np.zeros(num_params)  # unfixed parameters should have a \"fixed\" value of 0"
   ]
  },
  {
   "cell_type": "code",
   "execution_count": 21,
   "id": "74e7b9ee",
   "metadata": {},
   "outputs": [],
   "source": [
    "mq_instructions = [0, 0, 1, 1, 2, 2]"
   ]
  },
  {
   "cell_type": "markdown",
   "id": "f818e68a",
   "metadata": {},
   "source": [
    "### Instantiate and Run Optimizer"
   ]
  },
  {
   "cell_type": "code",
   "execution_count": 22,
   "id": "62df043a",
   "metadata": {},
   "outputs": [],
   "source": [
    "optimizer = Optimizer(num_qubits=num_qubits, mq_instructions=mq_instructions, mq_dict=mq_dict, target=ThreeGates.TOFFOLI,\n",
    "                     alpha=alpha, gamma=gamma, non_fixed_params=non_fixed_params, fixed_params_vals=fixed_params_vals)"
   ]
  },
  {
   "cell_type": "code",
   "execution_count": 23,
   "id": "2e66432e",
   "metadata": {},
   "outputs": [],
   "source": [
    "opt_params, opt_val = optimizer.find_parameters_least_squares(20)"
   ]
  },
  {
   "cell_type": "markdown",
   "id": "24d37b39",
   "metadata": {},
   "source": [
    "Note that there is also a function `optimizer.find_parameters_least_squares_par(num_guesses, num_procs)` that allows for process-based parallelism."
   ]
  },
  {
   "cell_type": "code",
   "execution_count": 24,
   "id": "9672c830",
   "metadata": {},
   "outputs": [
    {
     "data": {
      "text/plain": [
       "0.6178150197416441"
      ]
     },
     "execution_count": 24,
     "metadata": {},
     "output_type": "execute_result"
    }
   ],
   "source": [
    "opt_val"
   ]
  },
  {
   "cell_type": "code",
   "execution_count": 25,
   "id": "85e4a7f3",
   "metadata": {},
   "outputs": [
    {
     "name": "stdout",
     "output_type": "stream",
     "text": [
      "[  0. 240. 330. 180. 300. 135. 350. 225.  95. 180. 225. 240. 180. 120.\n",
      " 165. 120. 240. 240.   0. 315. 210. 150. 150. 240.  60. 300.  60.   0.\n",
      " 330.  30. 170. 225. 355. 150. 210. 175. 195.  45. 120.  30.  85. 240.\n",
      " 315. 120. 150. 240. 240. 315. 180.  60. 355. 100. 225. 255. 105.  45.\n",
      " 330.   0. 315. 265. 150. 185. 275.]\n"
     ]
    }
   ],
   "source": [
    "opt_params_rounded = round_params(opt_params)\n",
    "print(opt_params_rounded)"
   ]
  },
  {
   "cell_type": "markdown",
   "id": "e7693f22",
   "metadata": {},
   "source": [
    "### Verify Implementation Accuracy"
   ]
  },
  {
   "cell_type": "code",
   "execution_count": 26,
   "id": "b5325062",
   "metadata": {},
   "outputs": [],
   "source": [
    "ub = UnitaryBuilder(num_qubits, mq_instructions, mq_dict)"
   ]
  },
  {
   "cell_type": "code",
   "execution_count": 27,
   "id": "3bab00ed",
   "metadata": {},
   "outputs": [],
   "source": [
    "implementation_matrix = ub.build_unitary(opt_params_rounded * np.pi / 180)"
   ]
  },
  {
   "cell_type": "code",
   "execution_count": 28,
   "id": "604a24cf",
   "metadata": {},
   "outputs": [
    {
     "name": "stdout",
     "output_type": "stream",
     "text": [
      "0.14929679319719524\n"
     ]
    }
   ],
   "source": [
    "print(get_unitary_infidelity(ThreeGates.TOFFOLI, implementation_matrix, 8))"
   ]
  },
  {
   "cell_type": "markdown",
   "id": "99a7aafd",
   "metadata": {},
   "source": [
    " [0, 0, 1, 1, 2, 2] 0.14929679319719524"
   ]
  },
  {
   "cell_type": "markdown",
   "id": "e61edb24",
   "metadata": {},
   "source": [
    "An infidelity less than 0.01 is acceptable."
   ]
  },
  {
   "cell_type": "code",
   "execution_count": 17,
   "id": "662643e3",
   "metadata": {},
   "outputs": [
    {
     "name": "stdout",
     "output_type": "stream",
     "text": [
      "[0, 0, 0, 0, 0, 0]\n",
      "[0, 0, 0, 0, 1, 0]\n",
      "[0, 0, 0, 0, 2, 0]\n",
      "[0, 0, 0, 1, 0, 0]\n",
      "[0, 0, 0, 1, 1, 0]\n",
      "[0, 0, 0, 1, 2, 0]\n",
      "[0, 0, 0, 2, 0, 0]\n",
      "[0, 0, 0, 2, 1, 0]\n",
      "[0, 0, 0, 2, 2, 0]\n",
      "[0, 0, 1, 0, 0, 0]\n",
      "[0, 0, 1, 0, 1, 0]\n",
      "[0, 0, 1, 0, 2, 0]\n",
      "[0, 0, 1, 1, 0, 0]\n",
      "[0, 0, 1, 1, 1, 0]\n",
      "[0, 0, 1, 1, 2, 0]\n",
      "[0, 0, 1, 2, 0, 0]\n",
      "[0, 0, 1, 2, 1, 0]\n",
      "[0, 0, 1, 2, 2, 0]\n",
      "[0, 0, 2, 0, 0, 0]\n",
      "[0, 0, 2, 0, 1, 0]\n",
      "[0, 0, 2, 0, 2, 0]\n",
      "[0, 0, 2, 1, 0, 0]\n",
      "[0, 0, 2, 1, 1, 0]\n",
      "[0, 0, 2, 1, 2, 0]\n",
      "[0, 0, 2, 2, 0, 0]\n",
      "[0, 0, 2, 2, 1, 0]\n",
      "[0, 0, 2, 2, 2, 0]\n",
      "[0, 1, 0, 0, 0, 0]\n",
      "[0, 1, 0, 0, 1, 0]\n",
      "[0, 1, 0, 0, 2, 0]\n",
      "[0, 1, 0, 1, 0, 0]\n",
      "[0, 1, 0, 1, 1, 0]\n",
      "[0, 1, 0, 1, 2, 0]\n",
      "[0, 1, 0, 2, 0, 0]\n",
      "[0, 1, 0, 2, 1, 0]\n",
      "[0, 1, 0, 2, 2, 0]\n",
      "[0, 1, 1, 0, 0, 0]\n",
      "[0, 1, 1, 0, 1, 0]\n",
      "[0, 1, 1, 0, 2, 0]\n",
      "[0, 1, 1, 1, 0, 0]\n",
      "[0, 1, 1, 1, 1, 0]\n",
      "[0, 1, 1, 1, 2, 0]\n",
      "[0, 1, 1, 2, 0, 0]\n",
      "[0, 1, 1, 2, 1, 0]\n",
      "[0, 1, 1, 2, 2, 0]\n",
      "[0, 1, 2, 0, 0, 0]\n",
      "[0, 1, 2, 0, 1, 0]\n",
      "[0, 1, 2, 0, 2, 0]\n",
      "[0, 1, 2, 1, 0, 0]\n",
      "[0, 1, 2, 1, 1, 0]\n",
      "[0, 1, 2, 1, 2, 0]\n",
      "[0, 1, 2, 2, 0, 0]\n",
      "[0, 1, 2, 2, 1, 0]\n",
      "[0, 1, 2, 2, 2, 0]\n",
      "[0, 2, 0, 0, 0, 0]\n",
      "[0, 2, 0, 0, 1, 0]\n",
      "[0, 2, 0, 0, 2, 0]\n",
      "[0, 2, 0, 1, 0, 0]\n",
      "[0, 2, 0, 1, 1, 0]\n",
      "[0, 2, 0, 1, 2, 0]\n",
      "[0, 2, 0, 2, 0, 0]\n",
      "[0, 2, 0, 2, 1, 0]\n",
      "[0, 2, 0, 2, 2, 0]\n",
      "[0, 2, 1, 0, 0, 0]\n",
      "[0, 2, 1, 0, 1, 0]\n",
      "[0, 2, 1, 0, 2, 0]\n",
      "[0, 2, 1, 1, 0, 0]\n",
      "[0, 2, 1, 1, 1, 0]\n",
      "[0, 2, 1, 1, 2, 0]\n",
      "[0, 2, 1, 2, 0, 0]\n",
      "[0, 2, 1, 2, 1, 0]\n",
      "[0, 2, 1, 2, 2, 0]\n",
      "[0, 2, 2, 0, 0, 0]\n",
      "[0, 2, 2, 0, 1, 0]\n",
      "[0, 2, 2, 0, 2, 0]\n",
      "[0, 2, 2, 1, 0, 0]\n",
      "[0, 2, 2, 1, 1, 0]\n",
      "[0, 2, 2, 1, 2, 0]\n",
      "[0, 2, 2, 2, 0, 0]\n",
      "[0, 2, 2, 2, 1, 0]\n",
      "[0, 2, 2, 2, 2, 0]\n"
     ]
    }
   ],
   "source": [
    "params_list = []\n",
    "for i in range(0,3):\n",
    "    for j in range(0,3):\n",
    "        for k in range(0,3):\n",
    "            for l in range(0,3):\n",
    "                temp = [0] + [i] + [j] + [k] + [l] + [0]\n",
    "                print(temp)\n",
    "                params_list.append(temp)"
   ]
  },
  {
   "cell_type": "code",
   "execution_count": 18,
   "id": "1705e089",
   "metadata": {},
   "outputs": [
    {
     "name": "stdout",
     "output_type": "stream",
     "text": [
      "[0, 2, 2, 2, 2, 0]\n",
      "0.2720361820798538\n",
      "[0, 2, 2, 2, 1, 0]\n",
      "0.8000975365360785\n",
      "[0, 2, 2, 2, 0, 0]\n",
      "0.9639954649750233\n",
      "[0, 2, 2, 1, 2, 0]\n",
      "0.8157895789083678\n",
      "[0, 2, 2, 1, 1, 0]\n",
      "0.9438172752823057\n",
      "[0, 2, 2, 1, 0, 0]\n",
      "0.9954184447625989\n",
      "[0, 2, 2, 0, 2, 0]\n",
      "0.9429229289015723\n",
      "[0, 2, 2, 0, 1, 0]\n",
      "0.9857984892369451\n",
      "[0, 2, 2, 0, 0, 0]\n",
      "0.6350081793086884\n",
      "[0, 2, 1, 2, 2, 0]\n",
      "0.7955735131016979\n",
      "[0, 2, 1, 2, 1, 0]\n",
      "0.8150056334349298\n",
      "[0, 2, 1, 2, 0, 0]\n",
      "0.9869011688464315\n",
      "[0, 2, 1, 1, 2, 0]\n",
      "0.9488572775346239\n",
      "[0, 2, 1, 1, 1, 0]\n",
      "0.977712855260661\n",
      "[0, 2, 1, 1, 0, 0]\n",
      "0.9547743544893714\n",
      "[0, 2, 1, 0, 2, 0]\n",
      "0.9953063889800732\n",
      "[0, 2, 1, 0, 1, 0]\n",
      "0.9423593903563479\n",
      "[0, 2, 1, 0, 0, 0]\n",
      "0.9974374093232193\n",
      "[0, 2, 0, 2, 2, 0]\n",
      "0.9347907005030955\n",
      "[0, 2, 0, 2, 1, 0]\n",
      "0.9908050590246616\n",
      "[0, 2, 0, 2, 0, 0]\n",
      "0.9802516006443867\n",
      "[0, 2, 0, 1, 2, 0]\n",
      "0.9877249224710646\n",
      "[0, 2, 0, 1, 1, 0]\n",
      "0.991099007383778\n",
      "[0, 2, 0, 1, 0, 0]\n",
      "0.9504480402727898\n",
      "[0, 2, 0, 0, 2, 0]\n",
      "0.9754104552527268\n",
      "[0, 2, 0, 0, 1, 0]\n",
      "0.9592499439416766\n",
      "[0, 2, 0, 0, 0, 0]\n",
      "0.9867532623446008\n",
      "[0, 1, 2, 2, 2, 0]\n",
      "0.8174969324976629\n",
      "[0, 1, 2, 2, 1, 0]\n",
      "0.37842212446527435\n",
      "[0, 1, 2, 2, 0, 0]\n",
      "0.9840386634605349\n",
      "[0, 1, 2, 1, 2, 0]\n",
      "0.8381395938856971\n",
      "[0, 1, 2, 1, 1, 0]\n",
      "0.9945796024038439\n",
      "[0, 1, 2, 1, 0, 0]\n",
      "0.9030310080941042\n",
      "[0, 1, 2, 0, 2, 0]\n",
      "0.9803703517222162\n",
      "[0, 1, 2, 0, 1, 0]\n",
      "0.9978968026170313\n",
      "[0, 1, 2, 0, 0, 0]\n",
      "0.957813245022209\n",
      "[0, 1, 1, 2, 2, 0]\n",
      "0.9999984436564402\n",
      "[0, 1, 1, 2, 1, 0]\n",
      "0.9161994475079843\n",
      "[0, 1, 1, 2, 0, 0]\n",
      "0.9731759274882569\n",
      "[0, 1, 1, 1, 2, 0]\n",
      "0.99470152892703\n",
      "[0, 1, 1, 1, 1, 0]\n",
      "0.9199295949524003\n",
      "[0, 1, 1, 1, 0, 0]\n",
      "0.9930836791908715\n",
      "[0, 1, 1, 0, 2, 0]\n",
      "0.922588336075798\n",
      "[0, 1, 1, 0, 1, 0]\n",
      "0.9587020376090476\n",
      "[0, 1, 1, 0, 0, 0]\n",
      "0.9827095366559765\n",
      "[0, 1, 0, 2, 2, 0]\n",
      "0.969673886882097\n",
      "[0, 1, 0, 2, 1, 0]\n",
      "0.962256456810553\n",
      "[0, 1, 0, 2, 0, 0]\n",
      "0.9999986794527405\n",
      "[0, 1, 0, 1, 2, 0]\n",
      "0.9714326394694572\n",
      "[0, 1, 0, 1, 1, 0]\n",
      "0.9960457373349033\n",
      "[0, 1, 0, 1, 0, 0]\n",
      "0.9966204274365839\n",
      "[0, 1, 0, 0, 2, 0]\n",
      "0.9915765425297728\n",
      "[0, 1, 0, 0, 1, 0]\n",
      "0.9856840522811054\n",
      "[0, 1, 0, 0, 0, 0]\n",
      "0.9706864644842352\n",
      "[0, 0, 2, 2, 2, 0]\n",
      "0.9398624163113275\n",
      "[0, 0, 2, 2, 1, 0]\n",
      "0.9850697395237968\n",
      "[0, 0, 2, 2, 0, 0]\n",
      "0.9795086551945038\n",
      "[0, 0, 2, 1, 2, 0]\n",
      "0.9797495401485323\n",
      "[0, 0, 2, 1, 1, 0]\n",
      "0.9373072012593924\n",
      "[0, 0, 2, 1, 0, 0]\n",
      "0.9821765584229663\n",
      "[0, 0, 2, 0, 2, 0]\n",
      "0.9635151449265962\n",
      "[0, 0, 2, 0, 1, 0]\n",
      "0.9994442374176427\n",
      "[0, 0, 2, 0, 0, 0]\n",
      "0.976974741848036\n",
      "[0, 0, 1, 2, 2, 0]\n",
      "0.9796087520111867\n",
      "[0, 0, 1, 2, 1, 0]\n",
      "0.984035183367023\n",
      "[0, 0, 1, 2, 0, 0]\n",
      "0.9863461495210953\n",
      "[0, 0, 1, 1, 2, 0]\n",
      "0.9999896220032157\n",
      "[0, 0, 1, 1, 1, 0]\n",
      "0.999297278026986\n",
      "[0, 0, 1, 1, 0, 0]\n",
      "0.9979336599461202\n",
      "[0, 0, 1, 0, 2, 0]\n",
      "0.9997599860047296\n",
      "[0, 0, 1, 0, 1, 0]\n",
      "0.9779711188913605\n",
      "[0, 0, 1, 0, 0, 0]\n",
      "0.9906430066657792\n",
      "[0, 0, 0, 2, 2, 0]\n",
      "0.9982509444644224\n",
      "[0, 0, 0, 2, 1, 0]\n",
      "0.9999846255769859\n",
      "[0, 0, 0, 2, 0, 0]\n",
      "0.9982199848038615\n",
      "[0, 0, 0, 1, 2, 0]\n",
      "0.9969023972107982\n",
      "[0, 0, 0, 1, 1, 0]\n",
      "0.9995561836209315\n",
      "[0, 0, 0, 1, 0, 0]\n",
      "0.9251175674239335\n",
      "[0, 0, 0, 0, 2, 0]\n",
      "0.9814453129449101\n",
      "[0, 0, 0, 0, 1, 0]\n",
      "0.9850077160383159\n",
      "[0, 0, 0, 0, 0, 0]\n",
      "0.997875389862994\n"
     ]
    }
   ],
   "source": [
    "useful_params = []\n",
    "useful_bitstring = []\n",
    "for param in params_list[::-1]:\n",
    "    mq_instructions = param\n",
    "    print(mq_instructions)\n",
    "    optimizer = Optimizer(num_qubits=num_qubits, mq_instructions=mq_instructions, mq_dict=mq_dict, target=ThreeGates.TOFFOLI,\n",
    "                     alpha=alpha, gamma=gamma, non_fixed_params=non_fixed_params, fixed_params_vals=fixed_params_vals)\n",
    "    opt_params, opt_val = optimizer.find_parameters_least_squares(20)\n",
    "    opt_params_rounded = round_params(opt_params)\n",
    "    implementation_matrix = ub.build_unitary(opt_params)\n",
    "    infidelity = get_unitary_infidelity(ThreeGates.TOFFOLI, implementation_matrix, 8)\n",
    "    print(infidelity)\n",
    "    if infidelity < 0.1:\n",
    "        useful_params.append(opt_params_rounded)\n",
    "        useful_bitstring.append(non_fixed_params)"
   ]
  },
  {
   "cell_type": "code",
   "execution_count": null,
   "id": "4e0583bc",
   "metadata": {},
   "outputs": [],
   "source": [
    "021020"
   ]
  }
 ],
 "metadata": {
  "kernelspec": {
   "display_name": "Python 3",
   "language": "python",
   "name": "python3"
  },
  "language_info": {
   "codemirror_mode": {
    "name": "ipython",
    "version": 3
   },
   "file_extension": ".py",
   "mimetype": "text/x-python",
   "name": "python",
   "nbconvert_exporter": "python",
   "pygments_lexer": "ipython3",
   "version": "3.7.12"
  }
 },
 "nbformat": 4,
 "nbformat_minor": 5
}
