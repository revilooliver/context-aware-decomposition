{
 "cells": [
  {
   "cell_type": "markdown",
   "id": "38ff456c",
   "metadata": {},
   "source": [
    "# Optimizer Example"
   ]
  },
  {
   "cell_type": "markdown",
   "id": "d31a72ec",
   "metadata": {},
   "source": [
    "This notebook demonstrates how to use the PyQuOpt numerical optimization code to generate novel implementations of a specified unitary matrix. In this case, the Toffoli gate is explored."
   ]
  },
  {
   "cell_type": "markdown",
   "id": "1ea81fe8",
   "metadata": {},
   "source": [
    "### Imports"
   ]
  },
  {
   "cell_type": "code",
   "execution_count": 1,
   "id": "e74eac1a",
   "metadata": {},
   "outputs": [],
   "source": [
    "import sys\n",
    "import numpy as np\n",
    "\n",
    "sys.path.append('..')\n",
    "from pyquopt import *"
   ]
  },
  {
   "cell_type": "markdown",
   "id": "ffc21f98",
   "metadata": {},
   "source": [
    "### Optimization Hyperparameters"
   ]
  },
  {
   "cell_type": "code",
   "execution_count": 2,
   "id": "049f8d2d",
   "metadata": {},
   "outputs": [],
   "source": [
    "num_qubits = 3\n",
    "num_mq_instructions = 6  # want to explore circuits with six multi-qubit gates\n",
    "num_params = 3 * num_qubits * (num_mq_instructions + 1)  # formula explained in MICRO paper\n",
    "\n",
    "mq_dict = {\n",
    "    0: ThreeGates.CX01,\n",
    "    1: ThreeGates.CX02,\n",
    "    2: ThreeGates.CX12,\n",
    "}"
   ]
  },
  {
   "cell_type": "code",
   "execution_count": 3,
   "id": "5cfefddd",
   "metadata": {},
   "outputs": [],
   "source": [
    "alpha = 0.30  # penalty for non-standard angles\n",
    "gamma = 0   # penalty for large angles\n",
    "non_fixed_params = np.ones(num_params)  # leave all parameters unfixed\n",
    "fixed_params_vals = np.zeros(num_params)  # unfixed parameters should have a \"fixed\" value of 0"
   ]
  },
  {
   "cell_type": "code",
   "execution_count": 7,
   "id": "74e7b9ee",
   "metadata": {},
   "outputs": [],
   "source": [
    "mq_instructions = [0, 2, 1, 2, 1, 0]"
   ]
  },
  {
   "cell_type": "markdown",
   "id": "f818e68a",
   "metadata": {},
   "source": [
    "### Instantiate and Run Optimizer"
   ]
  },
  {
   "cell_type": "code",
   "execution_count": 5,
   "id": "62df043a",
   "metadata": {},
   "outputs": [],
   "source": [
    "optimizer = Optimizer(num_qubits=num_qubits, mq_instructions=mq_instructions, mq_dict=mq_dict, target=ThreeGates.TOFFOLI,\n",
    "                     alpha=alpha, gamma=gamma, non_fixed_params=non_fixed_params, fixed_params_vals=fixed_params_vals)"
   ]
  },
  {
   "cell_type": "code",
   "execution_count": 6,
   "id": "2e66432e",
   "metadata": {},
   "outputs": [
    {
     "name": "stderr",
     "output_type": "stream",
     "text": [
      "/Users/revilooliver/Documents/quantum_computing/anaconda/anaconda3/envs/qiskit-terra/lib/python3.7/site-packages/scipy/optimize/_lsq/least_squares.py:112: UserWarning: Setting `ftol` below the machine epsilon (2.22e-16) effectively disables the corresponding termination condition.\n",
      "  .format(name, EPS))\n"
     ]
    },
    {
     "ename": "KeyboardInterrupt",
     "evalue": "",
     "output_type": "error",
     "traceback": [
      "\u001b[0;31m---------------------------------------------------------------------------\u001b[0m",
      "\u001b[0;31mKeyboardInterrupt\u001b[0m                         Traceback (most recent call last)",
      "\u001b[0;32m<ipython-input-6-f8d349a32100>\u001b[0m in \u001b[0;36m<module>\u001b[0;34m\u001b[0m\n\u001b[0;32m----> 1\u001b[0;31m \u001b[0mopt_params\u001b[0m\u001b[0;34m,\u001b[0m \u001b[0mopt_val\u001b[0m \u001b[0;34m=\u001b[0m \u001b[0moptimizer\u001b[0m\u001b[0;34m.\u001b[0m\u001b[0mfind_parameters_least_squares\u001b[0m\u001b[0;34m(\u001b[0m\u001b[0;36m20\u001b[0m\u001b[0;34m)\u001b[0m\u001b[0;34m\u001b[0m\u001b[0;34m\u001b[0m\u001b[0m\n\u001b[0m",
      "\u001b[0;32m~/Documents/quantum_computing/research/context_aware_decomposition/context-aware-decomposition/pyquopt/optimizer.py\u001b[0m in \u001b[0;36mfind_parameters_least_squares\u001b[0;34m(self, num_guesses)\u001b[0m\n\u001b[1;32m    113\u001b[0m             \u001b[0mx0_all\u001b[0m \u001b[0;34m=\u001b[0m \u001b[0mnp\u001b[0m\u001b[0;34m.\u001b[0m\u001b[0mrandom\u001b[0m\u001b[0;34m.\u001b[0m\u001b[0mrand\u001b[0m\u001b[0;34m(\u001b[0m\u001b[0;34m(\u001b[0m\u001b[0mlen\u001b[0m\u001b[0;34m(\u001b[0m\u001b[0mself\u001b[0m\u001b[0;34m.\u001b[0m\u001b[0mmq_instructions\u001b[0m\u001b[0;34m)\u001b[0m \u001b[0;34m+\u001b[0m \u001b[0;36m1\u001b[0m\u001b[0;34m)\u001b[0m \u001b[0;34m*\u001b[0m \u001b[0;36m3\u001b[0m \u001b[0;34m*\u001b[0m \u001b[0mself\u001b[0m\u001b[0;34m.\u001b[0m\u001b[0mnum_qubits\u001b[0m\u001b[0;34m)\u001b[0m \u001b[0;34m*\u001b[0m \u001b[0;36m2\u001b[0m \u001b[0;34m*\u001b[0m \u001b[0mnp\u001b[0m\u001b[0;34m.\u001b[0m\u001b[0mpi\u001b[0m\u001b[0;34m\u001b[0m\u001b[0;34m\u001b[0m\u001b[0m\n\u001b[1;32m    114\u001b[0m             \u001b[0mx0\u001b[0m \u001b[0;34m=\u001b[0m \u001b[0mnp\u001b[0m\u001b[0;34m.\u001b[0m\u001b[0mmultiply\u001b[0m\u001b[0;34m(\u001b[0m\u001b[0mx0_all\u001b[0m\u001b[0;34m,\u001b[0m \u001b[0mself\u001b[0m\u001b[0;34m.\u001b[0m\u001b[0mnon_fixed_params\u001b[0m\u001b[0;34m)\u001b[0m \u001b[0;34m+\u001b[0m \u001b[0mself\u001b[0m\u001b[0;34m.\u001b[0m\u001b[0mfixed_params_vals\u001b[0m\u001b[0;34m\u001b[0m\u001b[0;34m\u001b[0m\u001b[0m\n\u001b[0;32m--> 115\u001b[0;31m             \u001b[0mopt_results\u001b[0m \u001b[0;34m=\u001b[0m \u001b[0mleast_squares\u001b[0m\u001b[0;34m(\u001b[0m\u001b[0mself\u001b[0m\u001b[0;34m.\u001b[0m\u001b[0mleast_square_residuals\u001b[0m\u001b[0;34m,\u001b[0m \u001b[0mx0\u001b[0m\u001b[0;34m=\u001b[0m\u001b[0mx0\u001b[0m\u001b[0;34m,\u001b[0m \u001b[0mmethod\u001b[0m\u001b[0;34m=\u001b[0m\u001b[0;34m'trf'\u001b[0m\u001b[0;34m,\u001b[0m \u001b[0mverbose\u001b[0m\u001b[0;34m=\u001b[0m\u001b[0;36m0\u001b[0m\u001b[0;34m,\u001b[0m \u001b[0mftol\u001b[0m\u001b[0;34m=\u001b[0m\u001b[0;36m1e-100\u001b[0m\u001b[0;34m)\u001b[0m\u001b[0;34m\u001b[0m\u001b[0;34m\u001b[0m\u001b[0m\n\u001b[0m\u001b[1;32m    116\u001b[0m             \u001b[0;32mif\u001b[0m \u001b[0mopt_results\u001b[0m\u001b[0;34m.\u001b[0m\u001b[0mcost\u001b[0m \u001b[0;34m<\u001b[0m \u001b[0mmin_fun_val\u001b[0m\u001b[0;34m:\u001b[0m\u001b[0;34m\u001b[0m\u001b[0;34m\u001b[0m\u001b[0m\n\u001b[1;32m    117\u001b[0m                 \u001b[0mmin_fun_val\u001b[0m \u001b[0;34m=\u001b[0m \u001b[0mopt_results\u001b[0m\u001b[0;34m.\u001b[0m\u001b[0mcost\u001b[0m\u001b[0;34m\u001b[0m\u001b[0;34m\u001b[0m\u001b[0m\n",
      "\u001b[0;32m~/Documents/quantum_computing/anaconda/anaconda3/envs/qiskit-terra/lib/python3.7/site-packages/scipy/optimize/_lsq/least_squares.py\u001b[0m in \u001b[0;36mleast_squares\u001b[0;34m(fun, x0, jac, bounds, method, ftol, xtol, gtol, x_scale, loss, f_scale, diff_step, tr_solver, tr_options, jac_sparsity, max_nfev, verbose, args, kwargs)\u001b[0m\n\u001b[1;32m    928\u001b[0m         result = trf(fun_wrapped, jac_wrapped, x0, f0, J0, lb, ub, ftol, xtol,\n\u001b[1;32m    929\u001b[0m                      \u001b[0mgtol\u001b[0m\u001b[0;34m,\u001b[0m \u001b[0mmax_nfev\u001b[0m\u001b[0;34m,\u001b[0m \u001b[0mx_scale\u001b[0m\u001b[0;34m,\u001b[0m \u001b[0mloss_function\u001b[0m\u001b[0;34m,\u001b[0m \u001b[0mtr_solver\u001b[0m\u001b[0;34m,\u001b[0m\u001b[0;34m\u001b[0m\u001b[0;34m\u001b[0m\u001b[0m\n\u001b[0;32m--> 930\u001b[0;31m                      tr_options.copy(), verbose)\n\u001b[0m\u001b[1;32m    931\u001b[0m \u001b[0;34m\u001b[0m\u001b[0m\n\u001b[1;32m    932\u001b[0m     \u001b[0;32melif\u001b[0m \u001b[0mmethod\u001b[0m \u001b[0;34m==\u001b[0m \u001b[0;34m'dogbox'\u001b[0m\u001b[0;34m:\u001b[0m\u001b[0;34m\u001b[0m\u001b[0;34m\u001b[0m\u001b[0m\n",
      "\u001b[0;32m~/Documents/quantum_computing/anaconda/anaconda3/envs/qiskit-terra/lib/python3.7/site-packages/scipy/optimize/_lsq/trf.py\u001b[0m in \u001b[0;36mtrf\u001b[0;34m(fun, jac, x0, f0, J0, lb, ub, ftol, xtol, gtol, max_nfev, x_scale, loss_function, tr_solver, tr_options, verbose)\u001b[0m\n\u001b[1;32m    119\u001b[0m         return trf_no_bounds(\n\u001b[1;32m    120\u001b[0m             \u001b[0mfun\u001b[0m\u001b[0;34m,\u001b[0m \u001b[0mjac\u001b[0m\u001b[0;34m,\u001b[0m \u001b[0mx0\u001b[0m\u001b[0;34m,\u001b[0m \u001b[0mf0\u001b[0m\u001b[0;34m,\u001b[0m \u001b[0mJ0\u001b[0m\u001b[0;34m,\u001b[0m \u001b[0mftol\u001b[0m\u001b[0;34m,\u001b[0m \u001b[0mxtol\u001b[0m\u001b[0;34m,\u001b[0m \u001b[0mgtol\u001b[0m\u001b[0;34m,\u001b[0m \u001b[0mmax_nfev\u001b[0m\u001b[0;34m,\u001b[0m \u001b[0mx_scale\u001b[0m\u001b[0;34m,\u001b[0m\u001b[0;34m\u001b[0m\u001b[0;34m\u001b[0m\u001b[0m\n\u001b[0;32m--> 121\u001b[0;31m             loss_function, tr_solver, tr_options, verbose)\n\u001b[0m\u001b[1;32m    122\u001b[0m     \u001b[0;32melse\u001b[0m\u001b[0;34m:\u001b[0m\u001b[0;34m\u001b[0m\u001b[0;34m\u001b[0m\u001b[0m\n\u001b[1;32m    123\u001b[0m         return trf_bounds(\n",
      "\u001b[0;32m~/Documents/quantum_computing/anaconda/anaconda3/envs/qiskit-terra/lib/python3.7/site-packages/scipy/optimize/_lsq/trf.py\u001b[0m in \u001b[0;36mtrf_no_bounds\u001b[0;34m(fun, jac, x0, f0, J0, ftol, xtol, gtol, max_nfev, x_scale, loss_function, tr_solver, tr_options, verbose)\u001b[0m\n\u001b[1;32m    534\u001b[0m             \u001b[0mcost\u001b[0m \u001b[0;34m=\u001b[0m \u001b[0mcost_new\u001b[0m\u001b[0;34m\u001b[0m\u001b[0;34m\u001b[0m\u001b[0m\n\u001b[1;32m    535\u001b[0m \u001b[0;34m\u001b[0m\u001b[0m\n\u001b[0;32m--> 536\u001b[0;31m             \u001b[0mJ\u001b[0m \u001b[0;34m=\u001b[0m \u001b[0mjac\u001b[0m\u001b[0;34m(\u001b[0m\u001b[0mx\u001b[0m\u001b[0;34m,\u001b[0m \u001b[0mf\u001b[0m\u001b[0;34m)\u001b[0m\u001b[0;34m\u001b[0m\u001b[0;34m\u001b[0m\u001b[0m\n\u001b[0m\u001b[1;32m    537\u001b[0m             \u001b[0mnjev\u001b[0m \u001b[0;34m+=\u001b[0m \u001b[0;36m1\u001b[0m\u001b[0;34m\u001b[0m\u001b[0;34m\u001b[0m\u001b[0m\n\u001b[1;32m    538\u001b[0m \u001b[0;34m\u001b[0m\u001b[0m\n",
      "\u001b[0;32m~/Documents/quantum_computing/anaconda/anaconda3/envs/qiskit-terra/lib/python3.7/site-packages/scipy/optimize/_lsq/least_squares.py\u001b[0m in \u001b[0;36mjac_wrapped\u001b[0;34m(x, f)\u001b[0m\n\u001b[1;32m    886\u001b[0m                 J = approx_derivative(fun, x, rel_step=diff_step, method=jac,\n\u001b[1;32m    887\u001b[0m                                       \u001b[0mf0\u001b[0m\u001b[0;34m=\u001b[0m\u001b[0mf\u001b[0m\u001b[0;34m,\u001b[0m \u001b[0mbounds\u001b[0m\u001b[0;34m=\u001b[0m\u001b[0mbounds\u001b[0m\u001b[0;34m,\u001b[0m \u001b[0margs\u001b[0m\u001b[0;34m=\u001b[0m\u001b[0margs\u001b[0m\u001b[0;34m,\u001b[0m\u001b[0;34m\u001b[0m\u001b[0;34m\u001b[0m\u001b[0m\n\u001b[0;32m--> 888\u001b[0;31m                                       kwargs=kwargs, sparsity=jac_sparsity)\n\u001b[0m\u001b[1;32m    889\u001b[0m                 \u001b[0;32mif\u001b[0m \u001b[0mJ\u001b[0m\u001b[0;34m.\u001b[0m\u001b[0mndim\u001b[0m \u001b[0;34m!=\u001b[0m \u001b[0;36m2\u001b[0m\u001b[0;34m:\u001b[0m  \u001b[0;31m# J is guaranteed not sparse.\u001b[0m\u001b[0;34m\u001b[0m\u001b[0;34m\u001b[0m\u001b[0m\n\u001b[1;32m    890\u001b[0m                     \u001b[0mJ\u001b[0m \u001b[0;34m=\u001b[0m \u001b[0mnp\u001b[0m\u001b[0;34m.\u001b[0m\u001b[0matleast_2d\u001b[0m\u001b[0;34m(\u001b[0m\u001b[0mJ\u001b[0m\u001b[0;34m)\u001b[0m\u001b[0;34m\u001b[0m\u001b[0;34m\u001b[0m\u001b[0m\n",
      "\u001b[0;32m~/Documents/quantum_computing/anaconda/anaconda3/envs/qiskit-terra/lib/python3.7/site-packages/scipy/optimize/_numdiff.py\u001b[0m in \u001b[0;36mapprox_derivative\u001b[0;34m(fun, x0, method, rel_step, abs_step, f0, bounds, sparsity, as_linear_operator, args, kwargs)\u001b[0m\n\u001b[1;32m    485\u001b[0m         \u001b[0;32mif\u001b[0m \u001b[0msparsity\u001b[0m \u001b[0;32mis\u001b[0m \u001b[0;32mNone\u001b[0m\u001b[0;34m:\u001b[0m\u001b[0;34m\u001b[0m\u001b[0;34m\u001b[0m\u001b[0m\n\u001b[1;32m    486\u001b[0m             return _dense_difference(fun_wrapped, x0, f0, h,\n\u001b[0;32m--> 487\u001b[0;31m                                      use_one_sided, method)\n\u001b[0m\u001b[1;32m    488\u001b[0m         \u001b[0;32melse\u001b[0m\u001b[0;34m:\u001b[0m\u001b[0;34m\u001b[0m\u001b[0;34m\u001b[0m\u001b[0m\n\u001b[1;32m    489\u001b[0m             \u001b[0;32mif\u001b[0m \u001b[0;32mnot\u001b[0m \u001b[0missparse\u001b[0m\u001b[0;34m(\u001b[0m\u001b[0msparsity\u001b[0m\u001b[0;34m)\u001b[0m \u001b[0;32mand\u001b[0m \u001b[0mlen\u001b[0m\u001b[0;34m(\u001b[0m\u001b[0msparsity\u001b[0m\u001b[0;34m)\u001b[0m \u001b[0;34m==\u001b[0m \u001b[0;36m2\u001b[0m\u001b[0;34m:\u001b[0m\u001b[0;34m\u001b[0m\u001b[0;34m\u001b[0m\u001b[0m\n",
      "\u001b[0;32m~/Documents/quantum_computing/anaconda/anaconda3/envs/qiskit-terra/lib/python3.7/site-packages/scipy/optimize/_numdiff.py\u001b[0m in \u001b[0;36m_dense_difference\u001b[0;34m(fun, x0, f0, h, use_one_sided, method)\u001b[0m\n\u001b[1;32m    555\u001b[0m             \u001b[0mx\u001b[0m \u001b[0;34m=\u001b[0m \u001b[0mx0\u001b[0m \u001b[0;34m+\u001b[0m \u001b[0mh_vecs\u001b[0m\u001b[0;34m[\u001b[0m\u001b[0mi\u001b[0m\u001b[0;34m]\u001b[0m\u001b[0;34m\u001b[0m\u001b[0;34m\u001b[0m\u001b[0m\n\u001b[1;32m    556\u001b[0m             \u001b[0mdx\u001b[0m \u001b[0;34m=\u001b[0m \u001b[0mx\u001b[0m\u001b[0;34m[\u001b[0m\u001b[0mi\u001b[0m\u001b[0;34m]\u001b[0m \u001b[0;34m-\u001b[0m \u001b[0mx0\u001b[0m\u001b[0;34m[\u001b[0m\u001b[0mi\u001b[0m\u001b[0;34m]\u001b[0m  \u001b[0;31m# Recompute dx as exactly representable number.\u001b[0m\u001b[0;34m\u001b[0m\u001b[0;34m\u001b[0m\u001b[0m\n\u001b[0;32m--> 557\u001b[0;31m             \u001b[0mdf\u001b[0m \u001b[0;34m=\u001b[0m \u001b[0mfun\u001b[0m\u001b[0;34m(\u001b[0m\u001b[0mx\u001b[0m\u001b[0;34m)\u001b[0m \u001b[0;34m-\u001b[0m \u001b[0mf0\u001b[0m\u001b[0;34m\u001b[0m\u001b[0;34m\u001b[0m\u001b[0m\n\u001b[0m\u001b[1;32m    558\u001b[0m         \u001b[0;32melif\u001b[0m \u001b[0mmethod\u001b[0m \u001b[0;34m==\u001b[0m \u001b[0;34m'3-point'\u001b[0m \u001b[0;32mand\u001b[0m \u001b[0muse_one_sided\u001b[0m\u001b[0;34m[\u001b[0m\u001b[0mi\u001b[0m\u001b[0;34m]\u001b[0m\u001b[0;34m:\u001b[0m\u001b[0;34m\u001b[0m\u001b[0;34m\u001b[0m\u001b[0m\n\u001b[1;32m    559\u001b[0m             \u001b[0mx1\u001b[0m \u001b[0;34m=\u001b[0m \u001b[0mx0\u001b[0m \u001b[0;34m+\u001b[0m \u001b[0mh_vecs\u001b[0m\u001b[0;34m[\u001b[0m\u001b[0mi\u001b[0m\u001b[0;34m]\u001b[0m\u001b[0;34m\u001b[0m\u001b[0;34m\u001b[0m\u001b[0m\n",
      "\u001b[0;32m~/Documents/quantum_computing/anaconda/anaconda3/envs/qiskit-terra/lib/python3.7/site-packages/scipy/optimize/_numdiff.py\u001b[0m in \u001b[0;36mfun_wrapped\u001b[0;34m(x)\u001b[0m\n\u001b[1;32m    435\u001b[0m \u001b[0;34m\u001b[0m\u001b[0m\n\u001b[1;32m    436\u001b[0m     \u001b[0;32mdef\u001b[0m \u001b[0mfun_wrapped\u001b[0m\u001b[0;34m(\u001b[0m\u001b[0mx\u001b[0m\u001b[0;34m)\u001b[0m\u001b[0;34m:\u001b[0m\u001b[0;34m\u001b[0m\u001b[0;34m\u001b[0m\u001b[0m\n\u001b[0;32m--> 437\u001b[0;31m         \u001b[0mf\u001b[0m \u001b[0;34m=\u001b[0m \u001b[0mnp\u001b[0m\u001b[0;34m.\u001b[0m\u001b[0matleast_1d\u001b[0m\u001b[0;34m(\u001b[0m\u001b[0mfun\u001b[0m\u001b[0;34m(\u001b[0m\u001b[0mx\u001b[0m\u001b[0;34m,\u001b[0m \u001b[0;34m*\u001b[0m\u001b[0margs\u001b[0m\u001b[0;34m,\u001b[0m \u001b[0;34m**\u001b[0m\u001b[0mkwargs\u001b[0m\u001b[0;34m)\u001b[0m\u001b[0;34m)\u001b[0m\u001b[0;34m\u001b[0m\u001b[0;34m\u001b[0m\u001b[0m\n\u001b[0m\u001b[1;32m    438\u001b[0m         \u001b[0;32mif\u001b[0m \u001b[0mf\u001b[0m\u001b[0;34m.\u001b[0m\u001b[0mndim\u001b[0m \u001b[0;34m>\u001b[0m \u001b[0;36m1\u001b[0m\u001b[0;34m:\u001b[0m\u001b[0;34m\u001b[0m\u001b[0;34m\u001b[0m\u001b[0m\n\u001b[1;32m    439\u001b[0m             raise RuntimeError(\"`fun` return value has \"\n",
      "\u001b[0;32m~/Documents/quantum_computing/research/context_aware_decomposition/context-aware-decomposition/pyquopt/optimizer.py\u001b[0m in \u001b[0;36mleast_square_residuals\u001b[0;34m(self, params)\u001b[0m\n\u001b[1;32m     62\u001b[0m         \u001b[0;31m# print(actual_params)\u001b[0m\u001b[0;34m\u001b[0m\u001b[0;34m\u001b[0m\u001b[0;34m\u001b[0m\u001b[0m\n\u001b[1;32m     63\u001b[0m \u001b[0;34m\u001b[0m\u001b[0m\n\u001b[0;32m---> 64\u001b[0;31m         \u001b[0mcomplex_residuals\u001b[0m \u001b[0;34m=\u001b[0m \u001b[0mnp\u001b[0m\u001b[0;34m.\u001b[0m\u001b[0mmatrix\u001b[0m\u001b[0;34m.\u001b[0m\u001b[0mflatten\u001b[0m\u001b[0;34m(\u001b[0m\u001b[0mself\u001b[0m\u001b[0;34m.\u001b[0m\u001b[0munitary_builder\u001b[0m\u001b[0;34m.\u001b[0m\u001b[0mbuild_unitary\u001b[0m\u001b[0;34m(\u001b[0m\u001b[0mactual_params\u001b[0m\u001b[0;34m)\u001b[0m \u001b[0;34m-\u001b[0m \u001b[0mself\u001b[0m\u001b[0;34m.\u001b[0m\u001b[0mtarget\u001b[0m\u001b[0;34m)\u001b[0m\u001b[0;34m\u001b[0m\u001b[0;34m\u001b[0m\u001b[0m\n\u001b[0m\u001b[1;32m     65\u001b[0m         \u001b[0mreal_residuals\u001b[0m \u001b[0;34m=\u001b[0m \u001b[0mnp\u001b[0m\u001b[0;34m.\u001b[0m\u001b[0mhstack\u001b[0m\u001b[0;34m(\u001b[0m\u001b[0;34m(\u001b[0m\u001b[0mcomplex_residuals\u001b[0m\u001b[0;34m.\u001b[0m\u001b[0mreal\u001b[0m\u001b[0;34m,\u001b[0m \u001b[0mcomplex_residuals\u001b[0m\u001b[0;34m.\u001b[0m\u001b[0mimag\u001b[0m\u001b[0;34m)\u001b[0m\u001b[0;34m)\u001b[0m\u001b[0;34m\u001b[0m\u001b[0;34m\u001b[0m\u001b[0m\n\u001b[1;32m     66\u001b[0m         angle_conform_residuals = self.alpha * (np.sin(6 * params)\n",
      "\u001b[0;32m~/Documents/quantum_computing/research/context_aware_decomposition/context-aware-decomposition/pyquopt/unitary.py\u001b[0m in \u001b[0;36mbuild_unitary\u001b[0;34m(self, params)\u001b[0m\n\u001b[1;32m     68\u001b[0m                                           \u001b[0mparams\u001b[0m\u001b[0;34m[\u001b[0m\u001b[0mlayer_start\u001b[0m \u001b[0;34m+\u001b[0m \u001b[0;36m3\u001b[0m \u001b[0;34m*\u001b[0m \u001b[0mqubit\u001b[0m \u001b[0;34m+\u001b[0m \u001b[0;36m1\u001b[0m\u001b[0;34m]\u001b[0m\u001b[0;34m,\u001b[0m\u001b[0;34m\u001b[0m\u001b[0;34m\u001b[0m\u001b[0m\n\u001b[1;32m     69\u001b[0m                                           \u001b[0mparams\u001b[0m\u001b[0;34m[\u001b[0m\u001b[0mlayer_start\u001b[0m \u001b[0;34m+\u001b[0m \u001b[0;36m3\u001b[0m \u001b[0;34m*\u001b[0m \u001b[0mqubit\u001b[0m \u001b[0;34m+\u001b[0m \u001b[0;36m2\u001b[0m\u001b[0;34m]\u001b[0m\u001b[0;34m,\u001b[0m\u001b[0;34m\u001b[0m\u001b[0;34m\u001b[0m\u001b[0m\n\u001b[0;32m---> 70\u001b[0;31m                                           \u001b[0mqubit\u001b[0m\u001b[0;34m\u001b[0m\u001b[0;34m\u001b[0m\u001b[0m\n\u001b[0m\u001b[1;32m     71\u001b[0m                                           )\n\u001b[1;32m     72\u001b[0m \u001b[0;34m\u001b[0m\u001b[0m\n",
      "\u001b[0;32m~/Documents/quantum_computing/research/context_aware_decomposition/context-aware-decomposition/pyquopt/unitary.py\u001b[0m in \u001b[0;36mu3\u001b[0;34m(self, theta, phi, lam, qubit)\u001b[0m\n\u001b[1;32m     40\u001b[0m         gate = np.kron(gate, np.array([\n\u001b[1;32m     41\u001b[0m             \u001b[0;34m[\u001b[0m\u001b[0mnp\u001b[0m\u001b[0;34m.\u001b[0m\u001b[0mcos\u001b[0m\u001b[0;34m(\u001b[0m\u001b[0mtheta\u001b[0m \u001b[0;34m/\u001b[0m \u001b[0;36m2\u001b[0m\u001b[0;34m)\u001b[0m\u001b[0;34m,\u001b[0m \u001b[0;34m-\u001b[0m\u001b[0mnp\u001b[0m\u001b[0;34m.\u001b[0m\u001b[0mexp\u001b[0m\u001b[0;34m(\u001b[0m\u001b[0;36m1j\u001b[0m \u001b[0;34m*\u001b[0m \u001b[0mlam\u001b[0m\u001b[0;34m)\u001b[0m \u001b[0;34m*\u001b[0m \u001b[0mnp\u001b[0m\u001b[0;34m.\u001b[0m\u001b[0msin\u001b[0m\u001b[0;34m(\u001b[0m\u001b[0mtheta\u001b[0m \u001b[0;34m/\u001b[0m \u001b[0;36m2\u001b[0m\u001b[0;34m)\u001b[0m\u001b[0;34m]\u001b[0m\u001b[0;34m,\u001b[0m\u001b[0;34m\u001b[0m\u001b[0;34m\u001b[0m\u001b[0m\n\u001b[0;32m---> 42\u001b[0;31m             [np.exp(1j * phi) * np.sin(theta / 2), np.exp(1j * (phi + lam)) * np.cos(theta / 2)]]\n\u001b[0m\u001b[1;32m     43\u001b[0m         ))\n\u001b[1;32m     44\u001b[0m \u001b[0;34m\u001b[0m\u001b[0m\n",
      "\u001b[0;31mKeyboardInterrupt\u001b[0m: "
     ]
    }
   ],
   "source": [
    "opt_params, opt_val = optimizer.find_parameters_least_squares(20)"
   ]
  },
  {
   "cell_type": "markdown",
   "id": "24d37b39",
   "metadata": {},
   "source": [
    "Note that there is also a function `optimizer.find_parameters_least_squares_par(num_guesses, num_procs)` that allows for process-based parallelism."
   ]
  },
  {
   "cell_type": "code",
   "execution_count": 7,
   "id": "9672c830",
   "metadata": {},
   "outputs": [
    {
     "data": {
      "text/plain": [
       "0.017593700031446932"
      ]
     },
     "execution_count": 7,
     "metadata": {},
     "output_type": "execute_result"
    }
   ],
   "source": [
    "opt_val"
   ]
  },
  {
   "cell_type": "code",
   "execution_count": 8,
   "id": "85e4a7f3",
   "metadata": {},
   "outputs": [
    {
     "name": "stdout",
     "output_type": "stream",
     "text": [
      "[270.  80. 315. 270.  45. 180. 310.  45. 240.  45. 135. 225.   0. 135.\n",
      " 225. 240. 240.  10.  90. 225. 165.  60. 180. 315. 355.  10. 120.   0.\n",
      " 210. 300. 330. 225. 135. 135. 225.  90. 180. 165.  30. 120. 315. 150.\n",
      " 260.  45. 240. 315.  30.  60. 300.  30. 345.  60. 315.  45. 315. 120.\n",
      " 300. 180. 225.  30. 315. 335. 305.]\n"
     ]
    }
   ],
   "source": [
    "opt_params_rounded = round_params(opt_params)\n",
    "print(opt_params_rounded)"
   ]
  },
  {
   "cell_type": "markdown",
   "id": "e7693f22",
   "metadata": {},
   "source": [
    "### Verify Implementation Accuracy"
   ]
  },
  {
   "cell_type": "code",
   "execution_count": 14,
   "id": "b5325062",
   "metadata": {},
   "outputs": [],
   "source": [
    "ub = UnitaryBuilder(num_qubits, mq_instructions, mq_dict)"
   ]
  },
  {
   "cell_type": "code",
   "execution_count": 15,
   "id": "3bab00ed",
   "metadata": {},
   "outputs": [],
   "source": [
    "implementation_matrix = ub.build_unitary(opt_params_rounded * np.pi / 180)"
   ]
  },
  {
   "cell_type": "code",
   "execution_count": 16,
   "id": "604a24cf",
   "metadata": {},
   "outputs": [
    {
     "name": "stdout",
     "output_type": "stream",
     "text": [
      "0.28016257386700694\n"
     ]
    }
   ],
   "source": [
    "print(get_unitary_infidelity(ThreeGates.TOFFOLI, implementation_matrix, 8))"
   ]
  },
  {
   "cell_type": "markdown",
   "id": "e61edb24",
   "metadata": {},
   "source": [
    "An infidelity less than 0.01 is acceptable."
   ]
  },
  {
   "cell_type": "code",
   "execution_count": 17,
   "id": "662643e3",
   "metadata": {},
   "outputs": [
    {
     "name": "stdout",
     "output_type": "stream",
     "text": [
      "[0, 0, 0, 0, 0, 0]\n",
      "[0, 0, 0, 0, 1, 0]\n",
      "[0, 0, 0, 0, 2, 0]\n",
      "[0, 0, 0, 1, 0, 0]\n",
      "[0, 0, 0, 1, 1, 0]\n",
      "[0, 0, 0, 1, 2, 0]\n",
      "[0, 0, 0, 2, 0, 0]\n",
      "[0, 0, 0, 2, 1, 0]\n",
      "[0, 0, 0, 2, 2, 0]\n",
      "[0, 0, 1, 0, 0, 0]\n",
      "[0, 0, 1, 0, 1, 0]\n",
      "[0, 0, 1, 0, 2, 0]\n",
      "[0, 0, 1, 1, 0, 0]\n",
      "[0, 0, 1, 1, 1, 0]\n",
      "[0, 0, 1, 1, 2, 0]\n",
      "[0, 0, 1, 2, 0, 0]\n",
      "[0, 0, 1, 2, 1, 0]\n",
      "[0, 0, 1, 2, 2, 0]\n",
      "[0, 0, 2, 0, 0, 0]\n",
      "[0, 0, 2, 0, 1, 0]\n",
      "[0, 0, 2, 0, 2, 0]\n",
      "[0, 0, 2, 1, 0, 0]\n",
      "[0, 0, 2, 1, 1, 0]\n",
      "[0, 0, 2, 1, 2, 0]\n",
      "[0, 0, 2, 2, 0, 0]\n",
      "[0, 0, 2, 2, 1, 0]\n",
      "[0, 0, 2, 2, 2, 0]\n",
      "[0, 1, 0, 0, 0, 0]\n",
      "[0, 1, 0, 0, 1, 0]\n",
      "[0, 1, 0, 0, 2, 0]\n",
      "[0, 1, 0, 1, 0, 0]\n",
      "[0, 1, 0, 1, 1, 0]\n",
      "[0, 1, 0, 1, 2, 0]\n",
      "[0, 1, 0, 2, 0, 0]\n",
      "[0, 1, 0, 2, 1, 0]\n",
      "[0, 1, 0, 2, 2, 0]\n",
      "[0, 1, 1, 0, 0, 0]\n",
      "[0, 1, 1, 0, 1, 0]\n",
      "[0, 1, 1, 0, 2, 0]\n",
      "[0, 1, 1, 1, 0, 0]\n",
      "[0, 1, 1, 1, 1, 0]\n",
      "[0, 1, 1, 1, 2, 0]\n",
      "[0, 1, 1, 2, 0, 0]\n",
      "[0, 1, 1, 2, 1, 0]\n",
      "[0, 1, 1, 2, 2, 0]\n",
      "[0, 1, 2, 0, 0, 0]\n",
      "[0, 1, 2, 0, 1, 0]\n",
      "[0, 1, 2, 0, 2, 0]\n",
      "[0, 1, 2, 1, 0, 0]\n",
      "[0, 1, 2, 1, 1, 0]\n",
      "[0, 1, 2, 1, 2, 0]\n",
      "[0, 1, 2, 2, 0, 0]\n",
      "[0, 1, 2, 2, 1, 0]\n",
      "[0, 1, 2, 2, 2, 0]\n",
      "[0, 2, 0, 0, 0, 0]\n",
      "[0, 2, 0, 0, 1, 0]\n",
      "[0, 2, 0, 0, 2, 0]\n",
      "[0, 2, 0, 1, 0, 0]\n",
      "[0, 2, 0, 1, 1, 0]\n",
      "[0, 2, 0, 1, 2, 0]\n",
      "[0, 2, 0, 2, 0, 0]\n",
      "[0, 2, 0, 2, 1, 0]\n",
      "[0, 2, 0, 2, 2, 0]\n",
      "[0, 2, 1, 0, 0, 0]\n",
      "[0, 2, 1, 0, 1, 0]\n",
      "[0, 2, 1, 0, 2, 0]\n",
      "[0, 2, 1, 1, 0, 0]\n",
      "[0, 2, 1, 1, 1, 0]\n",
      "[0, 2, 1, 1, 2, 0]\n",
      "[0, 2, 1, 2, 0, 0]\n",
      "[0, 2, 1, 2, 1, 0]\n",
      "[0, 2, 1, 2, 2, 0]\n",
      "[0, 2, 2, 0, 0, 0]\n",
      "[0, 2, 2, 0, 1, 0]\n",
      "[0, 2, 2, 0, 2, 0]\n",
      "[0, 2, 2, 1, 0, 0]\n",
      "[0, 2, 2, 1, 1, 0]\n",
      "[0, 2, 2, 1, 2, 0]\n",
      "[0, 2, 2, 2, 0, 0]\n",
      "[0, 2, 2, 2, 1, 0]\n",
      "[0, 2, 2, 2, 2, 0]\n"
     ]
    }
   ],
   "source": [
    "params_list = []\n",
    "for i in range(0,3):\n",
    "    for j in range(0,3):\n",
    "        for k in range(0,3):\n",
    "            for l in range(0,3):\n",
    "                temp = [0] + [i] + [j] + [k] + [l] + [0]\n",
    "                print(temp)\n",
    "                params_list.append(temp)"
   ]
  },
  {
   "cell_type": "code",
   "execution_count": 18,
   "id": "1705e089",
   "metadata": {},
   "outputs": [
    {
     "name": "stdout",
     "output_type": "stream",
     "text": [
      "[0, 2, 2, 2, 2, 0]\n",
      "0.2720361820798538\n",
      "[0, 2, 2, 2, 1, 0]\n",
      "0.8000975365360785\n",
      "[0, 2, 2, 2, 0, 0]\n",
      "0.9639954649750233\n",
      "[0, 2, 2, 1, 2, 0]\n",
      "0.8157895789083678\n",
      "[0, 2, 2, 1, 1, 0]\n",
      "0.9438172752823057\n",
      "[0, 2, 2, 1, 0, 0]\n",
      "0.9954184447625989\n",
      "[0, 2, 2, 0, 2, 0]\n",
      "0.9429229289015723\n",
      "[0, 2, 2, 0, 1, 0]\n",
      "0.9857984892369451\n",
      "[0, 2, 2, 0, 0, 0]\n",
      "0.6350081793086884\n",
      "[0, 2, 1, 2, 2, 0]\n",
      "0.7955735131016979\n",
      "[0, 2, 1, 2, 1, 0]\n",
      "0.8150056334349298\n",
      "[0, 2, 1, 2, 0, 0]\n",
      "0.9869011688464315\n",
      "[0, 2, 1, 1, 2, 0]\n",
      "0.9488572775346239\n",
      "[0, 2, 1, 1, 1, 0]\n",
      "0.977712855260661\n",
      "[0, 2, 1, 1, 0, 0]\n",
      "0.9547743544893714\n",
      "[0, 2, 1, 0, 2, 0]\n",
      "0.9953063889800732\n",
      "[0, 2, 1, 0, 1, 0]\n",
      "0.9423593903563479\n",
      "[0, 2, 1, 0, 0, 0]\n",
      "0.9974374093232193\n",
      "[0, 2, 0, 2, 2, 0]\n",
      "0.9347907005030955\n",
      "[0, 2, 0, 2, 1, 0]\n",
      "0.9908050590246616\n",
      "[0, 2, 0, 2, 0, 0]\n",
      "0.9802516006443867\n",
      "[0, 2, 0, 1, 2, 0]\n",
      "0.9877249224710646\n",
      "[0, 2, 0, 1, 1, 0]\n",
      "0.991099007383778\n",
      "[0, 2, 0, 1, 0, 0]\n",
      "0.9504480402727898\n",
      "[0, 2, 0, 0, 2, 0]\n",
      "0.9754104552527268\n",
      "[0, 2, 0, 0, 1, 0]\n",
      "0.9592499439416766\n",
      "[0, 2, 0, 0, 0, 0]\n",
      "0.9867532623446008\n",
      "[0, 1, 2, 2, 2, 0]\n",
      "0.8174969324976629\n",
      "[0, 1, 2, 2, 1, 0]\n",
      "0.37842212446527435\n",
      "[0, 1, 2, 2, 0, 0]\n",
      "0.9840386634605349\n",
      "[0, 1, 2, 1, 2, 0]\n",
      "0.8381395938856971\n",
      "[0, 1, 2, 1, 1, 0]\n",
      "0.9945796024038439\n",
      "[0, 1, 2, 1, 0, 0]\n",
      "0.9030310080941042\n",
      "[0, 1, 2, 0, 2, 0]\n",
      "0.9803703517222162\n",
      "[0, 1, 2, 0, 1, 0]\n",
      "0.9978968026170313\n",
      "[0, 1, 2, 0, 0, 0]\n",
      "0.957813245022209\n",
      "[0, 1, 1, 2, 2, 0]\n",
      "0.9999984436564402\n",
      "[0, 1, 1, 2, 1, 0]\n",
      "0.9161994475079843\n",
      "[0, 1, 1, 2, 0, 0]\n",
      "0.9731759274882569\n",
      "[0, 1, 1, 1, 2, 0]\n",
      "0.99470152892703\n",
      "[0, 1, 1, 1, 1, 0]\n",
      "0.9199295949524003\n",
      "[0, 1, 1, 1, 0, 0]\n",
      "0.9930836791908715\n",
      "[0, 1, 1, 0, 2, 0]\n",
      "0.922588336075798\n",
      "[0, 1, 1, 0, 1, 0]\n",
      "0.9587020376090476\n",
      "[0, 1, 1, 0, 0, 0]\n",
      "0.9827095366559765\n",
      "[0, 1, 0, 2, 2, 0]\n",
      "0.969673886882097\n",
      "[0, 1, 0, 2, 1, 0]\n",
      "0.962256456810553\n",
      "[0, 1, 0, 2, 0, 0]\n",
      "0.9999986794527405\n",
      "[0, 1, 0, 1, 2, 0]\n",
      "0.9714326394694572\n",
      "[0, 1, 0, 1, 1, 0]\n",
      "0.9960457373349033\n",
      "[0, 1, 0, 1, 0, 0]\n",
      "0.9966204274365839\n",
      "[0, 1, 0, 0, 2, 0]\n",
      "0.9915765425297728\n",
      "[0, 1, 0, 0, 1, 0]\n",
      "0.9856840522811054\n",
      "[0, 1, 0, 0, 0, 0]\n",
      "0.9706864644842352\n",
      "[0, 0, 2, 2, 2, 0]\n",
      "0.9398624163113275\n",
      "[0, 0, 2, 2, 1, 0]\n",
      "0.9850697395237968\n",
      "[0, 0, 2, 2, 0, 0]\n",
      "0.9795086551945038\n",
      "[0, 0, 2, 1, 2, 0]\n",
      "0.9797495401485323\n",
      "[0, 0, 2, 1, 1, 0]\n",
      "0.9373072012593924\n",
      "[0, 0, 2, 1, 0, 0]\n",
      "0.9821765584229663\n",
      "[0, 0, 2, 0, 2, 0]\n",
      "0.9635151449265962\n",
      "[0, 0, 2, 0, 1, 0]\n",
      "0.9994442374176427\n",
      "[0, 0, 2, 0, 0, 0]\n",
      "0.976974741848036\n",
      "[0, 0, 1, 2, 2, 0]\n",
      "0.9796087520111867\n",
      "[0, 0, 1, 2, 1, 0]\n",
      "0.984035183367023\n",
      "[0, 0, 1, 2, 0, 0]\n",
      "0.9863461495210953\n",
      "[0, 0, 1, 1, 2, 0]\n",
      "0.9999896220032157\n",
      "[0, 0, 1, 1, 1, 0]\n",
      "0.999297278026986\n",
      "[0, 0, 1, 1, 0, 0]\n",
      "0.9979336599461202\n",
      "[0, 0, 1, 0, 2, 0]\n",
      "0.9997599860047296\n",
      "[0, 0, 1, 0, 1, 0]\n",
      "0.9779711188913605\n",
      "[0, 0, 1, 0, 0, 0]\n",
      "0.9906430066657792\n",
      "[0, 0, 0, 2, 2, 0]\n",
      "0.9982509444644224\n",
      "[0, 0, 0, 2, 1, 0]\n",
      "0.9999846255769859\n",
      "[0, 0, 0, 2, 0, 0]\n",
      "0.9982199848038615\n",
      "[0, 0, 0, 1, 2, 0]\n",
      "0.9969023972107982\n",
      "[0, 0, 0, 1, 1, 0]\n",
      "0.9995561836209315\n",
      "[0, 0, 0, 1, 0, 0]\n",
      "0.9251175674239335\n",
      "[0, 0, 0, 0, 2, 0]\n",
      "0.9814453129449101\n",
      "[0, 0, 0, 0, 1, 0]\n",
      "0.9850077160383159\n",
      "[0, 0, 0, 0, 0, 0]\n",
      "0.997875389862994\n"
     ]
    }
   ],
   "source": [
    "useful_params = []\n",
    "useful_bitstring = []\n",
    "for param in params_list[::-1]:\n",
    "    mq_instructions = param\n",
    "    print(mq_instructions)\n",
    "    optimizer = Optimizer(num_qubits=num_qubits, mq_instructions=mq_instructions, mq_dict=mq_dict, target=ThreeGates.TOFFOLI,\n",
    "                     alpha=alpha, gamma=gamma, non_fixed_params=non_fixed_params, fixed_params_vals=fixed_params_vals)\n",
    "    opt_params, opt_val = optimizer.find_parameters_least_squares(20)\n",
    "    opt_params_rounded = round_params(opt_params)\n",
    "    implementation_matrix = ub.build_unitary(opt_params)\n",
    "    infidelity = get_unitary_infidelity(ThreeGates.TOFFOLI, implementation_matrix, 8)\n",
    "    print(infidelity)\n",
    "    if infidelity < 0.1:\n",
    "        useful_params.append(opt_params_rounded)\n",
    "        useful_bitstring.append(non_fixed_params)"
   ]
  },
  {
   "cell_type": "code",
   "execution_count": null,
   "id": "3f8316be",
   "metadata": {},
   "outputs": [],
   "source": [
    "021020"
   ]
  }
 ],
 "metadata": {
  "kernelspec": {
   "display_name": "Python 3",
   "language": "python",
   "name": "python3"
  },
  "language_info": {
   "codemirror_mode": {
    "name": "ipython",
    "version": 3
   },
   "file_extension": ".py",
   "mimetype": "text/x-python",
   "name": "python",
   "nbconvert_exporter": "python",
   "pygments_lexer": "ipython3",
   "version": "3.7.12"
  }
 },
 "nbformat": 4,
 "nbformat_minor": 5
}
