{
 "cells": [
  {
   "cell_type": "markdown",
   "id": "38ff456c",
   "metadata": {},
   "source": [
    "# Optimizer Example"
   ]
  },
  {
   "cell_type": "markdown",
   "id": "d31a72ec",
   "metadata": {},
   "source": [
    "This notebook demonstrates how to use the PyQuOpt numerical optimization code to generate novel implementations of a specified unitary matrix. In this case, the Toffoli gate is explored."
   ]
  },
  {
   "cell_type": "markdown",
   "id": "1ea81fe8",
   "metadata": {},
   "source": [
    "### Imports"
   ]
  },
  {
   "cell_type": "code",
   "execution_count": 1,
   "id": "e74eac1a",
   "metadata": {},
   "outputs": [],
   "source": [
    "import sys\n",
    "import numpy as np\n",
    "\n",
    "sys.path.append('..')\n",
    "from pyquopt import *"
   ]
  },
  {
   "cell_type": "markdown",
   "id": "ffc21f98",
   "metadata": {},
   "source": [
    "### Optimization Hyperparameters"
   ]
  },
  {
   "cell_type": "code",
   "execution_count": 93,
   "id": "049f8d2d",
   "metadata": {},
   "outputs": [],
   "source": [
    "num_qubits = 3\n",
    "num_mq_instructions = 8  # want to explore circuits with six multi-qubit gates\n",
    "num_params = 3 * num_qubits * (num_mq_instructions + 1)  # formula explained in MICRO paper\n",
    "\n",
    "mq_dict = {\n",
    "    0: ThreeGates.CX01,\n",
    "    1: ThreeGates.CX02,\n",
    "}"
   ]
  },
  {
   "cell_type": "code",
   "execution_count": 94,
   "id": "5cfefddd",
   "metadata": {},
   "outputs": [],
   "source": [
    "alpha = 0.30  # penalty for non-standard angles\n",
    "gamma = 0   # penalty for large angles\n",
    "non_fixed_params = np.ones(num_params)#np.array([0,0,0,0,0,0,0,0,0] + [1] * (num_params-9))   # leave all parameters unfixed\n",
    "fixed_params_vals = np.zeros(num_params)  # unfixed parameters should have a \"fixed\" value of 0"
   ]
  },
  {
   "cell_type": "code",
   "execution_count": 95,
   "id": "74e7b9ee",
   "metadata": {},
   "outputs": [],
   "source": [
    "mq_instructions = [0, 0, 1, 0, 1, 0, 1, 0]"
   ]
  },
  {
   "cell_type": "markdown",
   "id": "f818e68a",
   "metadata": {},
   "source": [
    "### Instantiate and Run Optimizer"
   ]
  },
  {
   "cell_type": "code",
   "execution_count": 96,
   "id": "62df043a",
   "metadata": {},
   "outputs": [],
   "source": [
    "optimizer = Optimizer(num_qubits=num_qubits, mq_instructions=mq_instructions, mq_dict=mq_dict, target=ThreeGates.TOFFOLI,\n",
    "                     alpha=alpha, gamma=gamma, non_fixed_params=non_fixed_params, fixed_params_vals=fixed_params_vals)"
   ]
  },
  {
   "cell_type": "code",
   "execution_count": 97,
   "id": "2e66432e",
   "metadata": {},
   "outputs": [],
   "source": [
    "opt_params, opt_val = optimizer.find_parameters_least_squares(40)"
   ]
  },
  {
   "cell_type": "markdown",
   "id": "24d37b39",
   "metadata": {},
   "source": [
    "Note that there is also a function `optimizer.find_parameters_least_squares_par(num_guesses, num_procs)` that allows for process-based parallelism."
   ]
  },
  {
   "cell_type": "code",
   "execution_count": 98,
   "id": "9672c830",
   "metadata": {},
   "outputs": [
    {
     "data": {
      "text/plain": [
       "0.6139130752839813"
      ]
     },
     "execution_count": 98,
     "metadata": {},
     "output_type": "execute_result"
    }
   ],
   "source": [
    "opt_val"
   ]
  },
  {
   "cell_type": "code",
   "execution_count": 99,
   "id": "85e4a7f3",
   "metadata": {},
   "outputs": [
    {
     "name": "stdout",
     "output_type": "stream",
     "text": [
      "[100. 265.  90. 330.  80. 275. 265. 300. 225.   0. 135. 135.   0. 315.\n",
      "  45. 315. 350.  90.  60. 175. 210. 180.  95.  80. 150.  45. 265. 300.\n",
      "  30. 300. 100. 210. 330. 240. 225.  30. 315. 120. 150. 315.  45. 175.\n",
      " 300. 330.  45. 315.  30. 275.  30. 135. 355. 150. 330. 260. 300. 135.\n",
      " 300. 100.  60. 240. 315. 300. 135.  45. 300. 330. 225. 150. 315. 275.\n",
      " 150. 180.   0. 150. 330. 270. 180. 260. 240. 240. 350.]\n"
     ]
    }
   ],
   "source": [
    "opt_params_rounded = round_params(opt_params)\n",
    "print(opt_params_rounded)"
   ]
  },
  {
   "cell_type": "markdown",
   "id": "e7693f22",
   "metadata": {},
   "source": [
    "### Verify Implementation Accuracy"
   ]
  },
  {
   "cell_type": "code",
   "execution_count": 100,
   "id": "b5325062",
   "metadata": {},
   "outputs": [],
   "source": [
    "ub = UnitaryBuilder(num_qubits, mq_instructions, mq_dict)"
   ]
  },
  {
   "cell_type": "code",
   "execution_count": 101,
   "id": "3bab00ed",
   "metadata": {},
   "outputs": [],
   "source": [
    "implementation_matrix = ub.build_unitary(opt_params_rounded * np.pi / 180)"
   ]
  },
  {
   "cell_type": "code",
   "execution_count": 102,
   "id": "604a24cf",
   "metadata": {},
   "outputs": [
    {
     "name": "stdout",
     "output_type": "stream",
     "text": [
      "0.15242410865555056\n"
     ]
    }
   ],
   "source": [
    "print(get_unitary_infidelity(ThreeGates.TOFFOLI, implementation_matrix, 8))"
   ]
  },
  {
   "cell_type": "markdown",
   "id": "b06b4601",
   "metadata": {},
   "source": [
    "[0, 0, 1, 0, 1, 0, 1, 0] 0.15883888520024747 \n",
    "\n",
    "[0, 1, 1, 0, 1, 0, 1, 0] 0.16106198458460275\n",
    "\n",
    "[0, 1, 0, 1, 1, 0, 1, 0] 0.16007174700062432\n",
    "\n",
    "[1, 0, 1, 0, 1, 0, 1, 1] 0.1620227861829251\n",
    "[0, 0, 1, 1, 0, 1, 0, 1] 0.15371601818536684"
   ]
  },
  {
   "cell_type": "markdown",
   "id": "e61edb24",
   "metadata": {},
   "source": [
    "An infidelity less than 0.01 is acceptable."
   ]
  },
  {
   "cell_type": "code",
   "execution_count": 103,
   "id": "662643e3",
   "metadata": {},
   "outputs": [
    {
     "name": "stdout",
     "output_type": "stream",
     "text": [
      "[0, 0, 0, 0, 0, 0, 0, 0]\n",
      "[0, 0, 0, 0, 0, 0, 1, 0]\n",
      "[0, 0, 0, 0, 0, 1, 0, 0]\n",
      "[0, 0, 0, 0, 0, 1, 1, 0]\n",
      "[0, 0, 0, 0, 1, 0, 0, 0]\n",
      "[0, 0, 0, 0, 1, 0, 1, 0]\n",
      "[0, 0, 0, 0, 1, 1, 0, 0]\n",
      "[0, 0, 0, 0, 1, 1, 1, 0]\n",
      "[0, 0, 0, 1, 0, 0, 0, 0]\n",
      "[0, 0, 0, 1, 0, 0, 1, 0]\n",
      "[0, 0, 0, 1, 0, 1, 0, 0]\n",
      "[0, 0, 0, 1, 0, 1, 1, 0]\n",
      "[0, 0, 0, 1, 1, 0, 0, 0]\n",
      "[0, 0, 0, 1, 1, 0, 1, 0]\n",
      "[0, 0, 0, 1, 1, 1, 0, 0]\n",
      "[0, 0, 0, 1, 1, 1, 1, 0]\n",
      "[0, 0, 1, 0, 0, 0, 0, 0]\n",
      "[0, 0, 1, 0, 0, 0, 1, 0]\n",
      "[0, 0, 1, 0, 0, 1, 0, 0]\n",
      "[0, 0, 1, 0, 0, 1, 1, 0]\n",
      "[0, 0, 1, 0, 1, 0, 0, 0]\n",
      "[0, 0, 1, 0, 1, 0, 1, 0]\n",
      "[0, 0, 1, 0, 1, 1, 0, 0]\n",
      "[0, 0, 1, 0, 1, 1, 1, 0]\n",
      "[0, 0, 1, 1, 0, 0, 0, 0]\n",
      "[0, 0, 1, 1, 0, 0, 1, 0]\n",
      "[0, 0, 1, 1, 0, 1, 0, 0]\n",
      "[0, 0, 1, 1, 0, 1, 1, 0]\n",
      "[0, 0, 1, 1, 1, 0, 0, 0]\n",
      "[0, 0, 1, 1, 1, 0, 1, 0]\n",
      "[0, 0, 1, 1, 1, 1, 0, 0]\n",
      "[0, 0, 1, 1, 1, 1, 1, 0]\n",
      "[0, 1, 0, 0, 0, 0, 0, 0]\n",
      "[0, 1, 0, 0, 0, 0, 1, 0]\n",
      "[0, 1, 0, 0, 0, 1, 0, 0]\n",
      "[0, 1, 0, 0, 0, 1, 1, 0]\n",
      "[0, 1, 0, 0, 1, 0, 0, 0]\n",
      "[0, 1, 0, 0, 1, 0, 1, 0]\n",
      "[0, 1, 0, 0, 1, 1, 0, 0]\n",
      "[0, 1, 0, 0, 1, 1, 1, 0]\n",
      "[0, 1, 0, 1, 0, 0, 0, 0]\n",
      "[0, 1, 0, 1, 0, 0, 1, 0]\n",
      "[0, 1, 0, 1, 0, 1, 0, 0]\n",
      "[0, 1, 0, 1, 0, 1, 1, 0]\n",
      "[0, 1, 0, 1, 1, 0, 0, 0]\n",
      "[0, 1, 0, 1, 1, 0, 1, 0]\n",
      "[0, 1, 0, 1, 1, 1, 0, 0]\n",
      "[0, 1, 0, 1, 1, 1, 1, 0]\n",
      "[0, 1, 1, 0, 0, 0, 0, 0]\n",
      "[0, 1, 1, 0, 0, 0, 1, 0]\n",
      "[0, 1, 1, 0, 0, 1, 0, 0]\n",
      "[0, 1, 1, 0, 0, 1, 1, 0]\n",
      "[0, 1, 1, 0, 1, 0, 0, 0]\n",
      "[0, 1, 1, 0, 1, 0, 1, 0]\n",
      "[0, 1, 1, 0, 1, 1, 0, 0]\n",
      "[0, 1, 1, 0, 1, 1, 1, 0]\n",
      "[0, 1, 1, 1, 0, 0, 0, 0]\n",
      "[0, 1, 1, 1, 0, 0, 1, 0]\n",
      "[0, 1, 1, 1, 0, 1, 0, 0]\n",
      "[0, 1, 1, 1, 0, 1, 1, 0]\n",
      "[0, 1, 1, 1, 1, 0, 0, 0]\n",
      "[0, 1, 1, 1, 1, 0, 1, 0]\n",
      "[0, 1, 1, 1, 1, 1, 0, 0]\n",
      "[0, 1, 1, 1, 1, 1, 1, 0]\n"
     ]
    }
   ],
   "source": [
    "params_list = []\n",
    "for i in range(0, 64):\n",
    "    temp = \"{0:06b}\".format(i)\n",
    "    temp = [0] + [int(d) for d in temp] + [0]\n",
    "    print(temp)\n",
    "    params_list.append(temp)"
   ]
  },
  {
   "cell_type": "code",
   "execution_count": null,
   "id": "1705e089",
   "metadata": {},
   "outputs": [
    {
     "name": "stdout",
     "output_type": "stream",
     "text": [
      "[0, 1, 1, 1, 1, 1, 1, 0]\n",
      "0.9996119211826848\n",
      "[0, 1, 1, 1, 1, 1, 0, 0]\n",
      "0.9985722245700315\n",
      "[0, 1, 1, 1, 1, 0, 1, 0]\n",
      "0.6942980667984275\n",
      "[0, 1, 1, 1, 1, 0, 0, 0]\n",
      "0.956682026232788\n",
      "[0, 1, 1, 1, 0, 1, 1, 0]\n",
      "0.9644323152389117\n",
      "[0, 1, 1, 1, 0, 1, 0, 0]\n",
      "0.9849192137861458\n",
      "[0, 1, 1, 1, 0, 0, 1, 0]\n",
      "0.9509007298751495\n",
      "[0, 1, 1, 1, 0, 0, 0, 0]\n",
      "0.9903291247175348\n",
      "[0, 1, 1, 0, 1, 1, 1, 0]\n",
      "0.9745276098515491\n",
      "[0, 1, 1, 0, 1, 1, 0, 0]\n",
      "0.9753126646279351\n",
      "[0, 1, 1, 0, 1, 0, 1, 0]\n",
      "0.7867310078346338\n",
      "[0, 1, 1, 0, 1, 0, 0, 0]\n",
      "0.9742428970441697\n",
      "[0, 1, 1, 0, 0, 1, 1, 0]\n",
      "0.947587637889504\n",
      "[0, 1, 1, 0, 0, 1, 0, 0]\n",
      "0.9918987500479347\n",
      "[0, 1, 1, 0, 0, 0, 1, 0]\n",
      "0.9757427206249581\n",
      "[0, 1, 1, 0, 0, 0, 0, 0]\n",
      "0.9989889631926911\n",
      "[0, 1, 0, 1, 1, 1, 1, 0]\n",
      "0.9952328491861211\n",
      "[0, 1, 0, 1, 1, 1, 0, 0]\n",
      "0.9616781306284383\n",
      "[0, 1, 0, 1, 1, 0, 1, 0]\n",
      "0.9972865453876614\n",
      "[0, 1, 0, 1, 1, 0, 0, 0]\n",
      "0.9804206315924563\n",
      "[0, 1, 0, 1, 0, 1, 1, 0]\n",
      "0.9678499167686035\n",
      "[0, 1, 0, 1, 0, 1, 0, 0]\n",
      "0.9974812592805555\n",
      "[0, 1, 0, 1, 0, 0, 1, 0]\n",
      "0.9924643264435965\n",
      "[0, 1, 0, 1, 0, 0, 0, 0]\n",
      "0.9350686382760758\n",
      "[0, 1, 0, 0, 1, 1, 1, 0]\n",
      "0.9764733590831672\n",
      "[0, 1, 0, 0, 1, 1, 0, 0]\n",
      "0.9701336423008193\n",
      "[0, 1, 0, 0, 1, 0, 1, 0]\n",
      "0.9892169408824687\n",
      "[0, 1, 0, 0, 1, 0, 0, 0]\n",
      "0.9866812337626667\n",
      "[0, 1, 0, 0, 0, 1, 1, 0]\n",
      "0.9815430833570061\n",
      "[0, 1, 0, 0, 0, 1, 0, 0]\n",
      "0.991036593564564\n",
      "[0, 1, 0, 0, 0, 0, 1, 0]\n",
      "0.9932865302892083\n",
      "[0, 1, 0, 0, 0, 0, 0, 0]\n",
      "0.9852787818697742\n",
      "[0, 0, 1, 1, 1, 1, 1, 0]\n",
      "0.8309429837571339\n",
      "[0, 0, 1, 1, 1, 1, 0, 0]\n",
      "0.9400019885599175\n",
      "[0, 0, 1, 1, 1, 0, 1, 0]\n",
      "0.783393586163045\n",
      "[0, 0, 1, 1, 1, 0, 0, 0]\n",
      "0.9522928007394185\n",
      "[0, 0, 1, 1, 0, 1, 1, 0]\n",
      "0.9908183580857117\n",
      "[0, 0, 1, 1, 0, 1, 0, 0]\n",
      "0.9955872744703996\n",
      "[0, 0, 1, 1, 0, 0, 1, 0]\n",
      "0.9565770059197028\n",
      "[0, 0, 1, 1, 0, 0, 0, 0]\n"
     ]
    }
   ],
   "source": [
    "useful_params = []\n",
    "useful_bitstring = []\n",
    "for param in params_list[::-1]:\n",
    "    mq_instructions = param\n",
    "    print(mq_instructions)\n",
    "    optimizer = Optimizer(num_qubits=num_qubits, mq_instructions=mq_instructions, mq_dict=mq_dict, target=ThreeGates.TOFFOLI,\n",
    "                     alpha=alpha, gamma=gamma, non_fixed_params=non_fixed_params, fixed_params_vals=fixed_params_vals)\n",
    "    opt_params, opt_val = optimizer.find_parameters_least_squares(20)\n",
    "    opt_params_rounded = round_params(opt_params)\n",
    "    implementation_matrix = ub.build_unitary(opt_params)\n",
    "    infidelity = get_unitary_infidelity(ThreeGates.TOFFOLI, implementation_matrix, 8)\n",
    "    print(infidelity)\n",
    "    if infidelity < 0.1:\n",
    "        useful_params.append(opt_params_rounded)\n",
    "        useful_bitstring.append(non_fixed_params)"
   ]
  },
  {
   "cell_type": "code",
   "execution_count": null,
   "id": "50e37a3a",
   "metadata": {},
   "outputs": [],
   "source": []
  }
 ],
 "metadata": {
  "kernelspec": {
   "display_name": "Python 3",
   "language": "python",
   "name": "python3"
  },
  "language_info": {
   "codemirror_mode": {
    "name": "ipython",
    "version": 3
   },
   "file_extension": ".py",
   "mimetype": "text/x-python",
   "name": "python",
   "nbconvert_exporter": "python",
   "pygments_lexer": "ipython3",
   "version": "3.7.12"
  }
 },
 "nbformat": 4,
 "nbformat_minor": 5
}
