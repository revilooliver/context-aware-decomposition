{
 "cells": [
  {
   "cell_type": "code",
   "execution_count": 1,
   "id": "93187dfc",
   "metadata": {},
   "outputs": [],
   "source": [
    "import sys\n",
    "import numpy as np\n",
    "from qiskit import *\n",
    "\n",
    "sys.path.append('..')\n",
    "from pyquopt import *"
   ]
  },
  {
   "cell_type": "markdown",
   "id": "bad31bf7",
   "metadata": {},
   "source": [
    "### Define Circuit of Interest"
   ]
  },
  {
   "cell_type": "code",
   "execution_count": 2,
   "id": "effe3675",
   "metadata": {},
   "outputs": [
    {
     "data": {
      "text/html": [
       "<pre style=\"word-wrap: normal;white-space: pre;background: #fff0;line-height: 1.1;font-family: &quot;Courier New&quot;,Courier,monospace\">     ┌───┐\n",
       "q_0: ┤ X ├\n",
       "     └─┬─┘\n",
       "q_1: ──■──\n",
       "          </pre>"
      ],
      "text/plain": [
       "     ┌───┐\n",
       "q_0: ┤ X ├\n",
       "     └─┬─┘\n",
       "q_1: ──■──\n",
       "          "
      ]
     },
     "execution_count": 2,
     "metadata": {},
     "output_type": "execute_result"
    }
   ],
   "source": [
    "cnot = QuantumCircuit(2)\n",
    "cnot.cx(1, 0)\n",
    "cnot.draw()"
   ]
  },
  {
   "cell_type": "code",
   "execution_count": 3,
   "id": "75bce725",
   "metadata": {},
   "outputs": [],
   "source": [
    "cnot_transpiled = transpile(cnot, basis_gates=['sx', 'rz', 'cx'], optimization_level=3)"
   ]
  },
  {
   "cell_type": "code",
   "execution_count": 4,
   "id": "1711d9bf",
   "metadata": {},
   "outputs": [
    {
     "data": {
      "text/html": [
       "<pre style=\"word-wrap: normal;white-space: pre;background: #fff0;line-height: 1.1;font-family: &quot;Courier New&quot;,Courier,monospace\">     ┌───┐\n",
       "q_0: ┤ X ├\n",
       "     └─┬─┘\n",
       "q_1: ──■──\n",
       "          </pre>"
      ],
      "text/plain": [
       "     ┌───┐\n",
       "q_0: ┤ X ├\n",
       "     └─┬─┘\n",
       "q_1: ──■──\n",
       "          "
      ]
     },
     "execution_count": 4,
     "metadata": {},
     "output_type": "execute_result"
    }
   ],
   "source": [
    "cnot_transpiled.draw()"
   ]
  },
  {
   "cell_type": "markdown",
   "id": "2f52fe9f",
   "metadata": {},
   "source": [
    "### Set Optimization Hyperparameters"
   ]
  },
  {
   "cell_type": "code",
   "execution_count": 71,
   "id": "e3745cbd",
   "metadata": {},
   "outputs": [],
   "source": [
    "num_qubits = 2\n",
    "num_mq_instructions = 1  # want to explore circuits with one multi-qubit gate\n",
    "num_params = 3 * num_qubits * (num_mq_instructions + 1)  # formula explained in MICRO paper\n",
    "\n",
    "mq_dict = {\n",
    "    0: TwoGates.CR01,\n",
    "}"
   ]
  },
  {
   "cell_type": "code",
   "execution_count": 102,
   "id": "20ecc595",
   "metadata": {},
   "outputs": [],
   "source": [
    "alpha = 0.30  # penalty for non-standard angles\n",
    "gamma = 1e-5   # penalty for large angles\n",
    "non_fixed_params = np.array([1, 1, 1, 1, 1, 1, 1, 0, 1, 1, 1, 1]) # leave all parameters unfixed\n",
    "fixed_params_vals = np.array([0, 0, 0, 0, 0, 0, 0, 0, 0, 0, 0, 0])  # unfixed parameters should have a \"fixed\" value of 0"
   ]
  },
  {
   "cell_type": "code",
   "execution_count": 103,
   "id": "92f1fcaa",
   "metadata": {},
   "outputs": [],
   "source": [
    "mq_instructions = [0]"
   ]
  },
  {
   "cell_type": "markdown",
   "id": "2920b1bc",
   "metadata": {},
   "source": [
    "### Solve Optimization Problem"
   ]
  },
  {
   "cell_type": "code",
   "execution_count": 104,
   "id": "f00c94e2",
   "metadata": {},
   "outputs": [],
   "source": [
    "optimizer = Optimizer(num_qubits=num_qubits, mq_instructions=mq_instructions, mq_dict=mq_dict, target=TwoGates.CX10,\n",
    "                     alpha=alpha, gamma=gamma, non_fixed_params=non_fixed_params, fixed_params_vals=fixed_params_vals)"
   ]
  },
  {
   "cell_type": "code",
   "execution_count": 105,
   "id": "ffe5674d",
   "metadata": {},
   "outputs": [],
   "source": [
    "opt_params, opt_val = optimizer.find_parameters_least_squares(20)"
   ]
  },
  {
   "cell_type": "code",
   "execution_count": 106,
   "id": "55b1d37c",
   "metadata": {},
   "outputs": [
    {
     "data": {
      "text/plain": [
       "array([ 1.57079633e+00,  3.14159266e+00,  1.57079634e+00,  1.57079633e+00,\n",
       "        3.16192764e+00,  3.14159266e+00, -1.57079633e+00,  0.00000000e+00,\n",
       "        9.36940866e-09,  1.57079633e+00,  6.28318527e+00, -1.59113130e+00])"
      ]
     },
     "execution_count": 106,
     "metadata": {},
     "output_type": "execute_result"
    }
   ],
   "source": [
    "opt_params"
   ]
  },
  {
   "cell_type": "code",
   "execution_count": 107,
   "id": "d75d1ce1",
   "metadata": {},
   "outputs": [
    {
     "name": "stdout",
     "output_type": "stream",
     "text": [
      "[ 90. 180.  90.  90. 180. 180. 270.   0.   0.  90.   0. 270.]\n"
     ]
    }
   ],
   "source": [
    "opt_params_rounded = round_params(opt_params)\n",
    "print(opt_params_rounded)"
   ]
  },
  {
   "cell_type": "markdown",
   "id": "02c7c478",
   "metadata": {},
   "source": [
    "### Verify Implementation Accuracy"
   ]
  },
  {
   "cell_type": "code",
   "execution_count": 108,
   "id": "506cc587",
   "metadata": {},
   "outputs": [],
   "source": [
    "ub = UnitaryBuilder(num_qubits, mq_instructions, mq_dict)"
   ]
  },
  {
   "cell_type": "code",
   "execution_count": 109,
   "id": "adc16015",
   "metadata": {},
   "outputs": [],
   "source": [
    "implementation_matrix = ub.build_unitary(opt_params)"
   ]
  },
  {
   "cell_type": "code",
   "execution_count": 110,
   "id": "c3457ded",
   "metadata": {},
   "outputs": [
    {
     "name": "stdout",
     "output_type": "stream",
     "text": [
      "4.440892098500626e-16\n"
     ]
    }
   ],
   "source": [
    "print(get_unitary_infidelity(TwoGates.CX10, implementation_matrix, 4))"
   ]
  },
  {
   "cell_type": "code",
   "execution_count": 111,
   "id": "055bc7f1",
   "metadata": {},
   "outputs": [
    {
     "data": {
      "text/plain": [
       "array([[ 1.00000000e+00-1.42550592e-08j, -2.01225399e-08+1.72467385e-10j,\n",
       "        -7.75156901e-10+4.29672398e-09j, -3.44769371e-10+1.57743971e-09j],\n",
       "       [ 3.44769411e-10+1.57743989e-09j,  1.88714316e-11+4.29672391e-09j,\n",
       "         2.01225399e-08+1.72467164e-10j,  1.00000000e+00+1.68182426e-09j],\n",
       "       [ 7.75157014e-10+4.29672386e-09j, -3.44769442e-10+1.57743977e-09j,\n",
       "         1.00000000e+00-1.71861262e-09j, -2.01225398e-08+1.72467155e-10j],\n",
       "       [ 2.01225399e-08+1.72466946e-10j,  1.00000000e+00-4.52054644e-09j,\n",
       "         3.44769395e-10+1.57743990e-09j, -1.88713511e-11+4.29672380e-09j]])"
      ]
     },
     "execution_count": 111,
     "metadata": {},
     "output_type": "execute_result"
    }
   ],
   "source": [
    "implementation_matrix"
   ]
  },
  {
   "cell_type": "code",
   "execution_count": null,
   "id": "afdd2826",
   "metadata": {},
   "outputs": [],
   "source": []
  },
  {
   "cell_type": "code",
   "execution_count": null,
   "id": "58a6d07f",
   "metadata": {},
   "outputs": [],
   "source": []
  },
  {
   "cell_type": "code",
   "execution_count": null,
   "id": "ee7c5795",
   "metadata": {},
   "outputs": [],
   "source": []
  }
 ],
 "metadata": {
  "kernelspec": {
   "display_name": "Python 3",
   "language": "python",
   "name": "python3"
  },
  "language_info": {
   "codemirror_mode": {
    "name": "ipython",
    "version": 3
   },
   "file_extension": ".py",
   "mimetype": "text/x-python",
   "name": "python",
   "nbconvert_exporter": "python",
   "pygments_lexer": "ipython3",
   "version": "3.7.12"
  }
 },
 "nbformat": 4,
 "nbformat_minor": 5
}
