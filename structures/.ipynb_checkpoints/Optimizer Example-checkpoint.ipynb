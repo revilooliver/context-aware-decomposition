{
 "cells": [
  {
   "cell_type": "markdown",
   "id": "38ff456c",
   "metadata": {},
   "source": [
    "# Optimizer Example"
   ]
  },
  {
   "cell_type": "markdown",
   "id": "d31a72ec",
   "metadata": {},
   "source": [
    "This notebook demonstrates how to use the PyQuOpt numerical optimization code to generate novel implementations of a specified unitary matrix. In this case, the Toffoli gate is explored."
   ]
  },
  {
   "cell_type": "markdown",
   "id": "1ea81fe8",
   "metadata": {},
   "source": [
    "### Imports"
   ]
  },
  {
   "cell_type": "code",
   "execution_count": 1,
   "id": "e74eac1a",
   "metadata": {},
   "outputs": [],
   "source": [
    "import sys\n",
    "import numpy as np\n",
    "\n",
    "sys.path.append('..')\n",
    "from pyquopt import *"
   ]
  },
  {
   "cell_type": "markdown",
   "id": "ffc21f98",
   "metadata": {},
   "source": [
    "### Optimization Hyperparameters"
   ]
  },
  {
   "cell_type": "code",
   "execution_count": 2,
   "id": "049f8d2d",
   "metadata": {},
   "outputs": [],
   "source": [
    "num_qubits = 3\n",
    "num_mq_instructions = 6  # want to explore circuits with six multi-qubit gates\n",
    "num_params = 3 * num_qubits * (num_mq_instructions + 1)  # formula explained in MICRO paper\n",
    "\n",
    "mq_dict = {\n",
    "    0: ThreeGates.CR01,\n",
    "    1: ThreeGates.CR02,\n",
    "    2: ThreeGates.CV01,\n",
    "    3: ThreeGates.CV02,\n",
    "    4: ThreeGates.CR01,\n",
    "    5: ThreeGates.CR02,\n",
    "}"
   ]
  },
  {
   "cell_type": "code",
   "execution_count": 3,
   "id": "5cfefddd",
   "metadata": {},
   "outputs": [],
   "source": [
    "alpha = 0.30  # penalty for non-standard angles\n",
    "gamma = 0   # penalty for large angles\n",
    "non_fixed_params = np.ones(num_params)  # leave all parameters unfixed\n",
    "fixed_params_vals = np.zeros(num_params)  # unfixed parameters should have a \"fixed\" value of 0"
   ]
  },
  {
   "cell_type": "code",
   "execution_count": 4,
   "id": "74e7b9ee",
   "metadata": {},
   "outputs": [],
   "source": [
    "mq_instructions = [0, 4, 4, 4, 0, 1]"
   ]
  },
  {
   "cell_type": "markdown",
   "id": "f818e68a",
   "metadata": {},
   "source": [
    "### Instantiate and Run Optimizer"
   ]
  },
  {
   "cell_type": "code",
   "execution_count": 5,
   "id": "62df043a",
   "metadata": {},
   "outputs": [],
   "source": [
    "optimizer = Optimizer(num_qubits=num_qubits, mq_instructions=mq_instructions, mq_dict=mq_dict, target=ThreeGates.TOFFOLI,\n",
    "                     alpha=alpha, gamma=gamma, non_fixed_params=non_fixed_params, fixed_params_vals=fixed_params_vals)"
   ]
  },
  {
   "cell_type": "code",
   "execution_count": null,
   "id": "2e66432e",
   "metadata": {},
   "outputs": [
    {
     "name": "stderr",
     "output_type": "stream",
     "text": [
      "/Users/revilooliver/Documents/quantum_computing/anaconda/anaconda3/envs/qiskit-terra/lib/python3.7/site-packages/scipy/optimize/_lsq/least_squares.py:112: UserWarning: Setting `ftol` below the machine epsilon (2.22e-16) effectively disables the corresponding termination condition.\n",
      "  .format(name, EPS))\n"
     ]
    }
   ],
   "source": [
    "opt_params, opt_val = optimizer.find_parameters_least_squares(20)"
   ]
  },
  {
   "cell_type": "markdown",
   "id": "24d37b39",
   "metadata": {},
   "source": [
    "Note that there is also a function `optimizer.find_parameters_least_squares_par(num_guesses, num_procs)` that allows for process-based parallelism."
   ]
  },
  {
   "cell_type": "code",
   "execution_count": 11,
   "id": "9672c830",
   "metadata": {},
   "outputs": [
    {
     "data": {
      "text/plain": [
       "1.6804007294796361"
      ]
     },
     "execution_count": 11,
     "metadata": {},
     "output_type": "execute_result"
    }
   ],
   "source": [
    "opt_val"
   ]
  },
  {
   "cell_type": "code",
   "execution_count": 12,
   "id": "85e4a7f3",
   "metadata": {},
   "outputs": [
    {
     "name": "stdout",
     "output_type": "stream",
     "text": [
      "[150. 190. 355.  80. 260.  30. 225. 225.  30.   0. 300. 240. 240.  10.\n",
      " 190.  60. 315. 330. 105. 185. 240. 180. 225. 300. 150. 240. 225.  60.\n",
      " 240. 135. 330. 210. 150. 315. 225. 120.  95. 135.  30. 260. 350. 120.\n",
      " 150.  95. 150. 185.   0. 240. 150.  30. 180. 210. 330.  80. 180. 240.\n",
      "  10. 135. 135. 150. 225. 270.  90.]\n"
     ]
    }
   ],
   "source": [
    "opt_params_rounded = round_params(opt_params)\n",
    "print(opt_params_rounded)"
   ]
  },
  {
   "cell_type": "markdown",
   "id": "e7693f22",
   "metadata": {},
   "source": [
    "### Verify Implementation Accuracy"
   ]
  },
  {
   "cell_type": "code",
   "execution_count": 13,
   "id": "b5325062",
   "metadata": {},
   "outputs": [],
   "source": [
    "ub = UnitaryBuilder(num_qubits, mq_instructions, mq_dict)"
   ]
  },
  {
   "cell_type": "code",
   "execution_count": 14,
   "id": "3bab00ed",
   "metadata": {},
   "outputs": [],
   "source": [
    "implementation_matrix = ub.build_unitary(opt_params_rounded * np.pi / 180)"
   ]
  },
  {
   "cell_type": "code",
   "execution_count": 15,
   "id": "604a24cf",
   "metadata": {},
   "outputs": [
    {
     "name": "stdout",
     "output_type": "stream",
     "text": [
      "0.3806161778661069\n"
     ]
    }
   ],
   "source": [
    "print(get_unitary_infidelity(ThreeGates.TOFFOLI, implementation_matrix, 8))"
   ]
  },
  {
   "cell_type": "markdown",
   "id": "e61edb24",
   "metadata": {},
   "source": [
    "An infidelity less than 0.01 is acceptable."
   ]
  },
  {
   "cell_type": "code",
   "execution_count": null,
   "id": "662643e3",
   "metadata": {},
   "outputs": [],
   "source": []
  },
  {
   "cell_type": "code",
   "execution_count": null,
   "id": "1705e089",
   "metadata": {},
   "outputs": [],
   "source": []
  }
 ],
 "metadata": {
  "kernelspec": {
   "display_name": "Python 3",
   "language": "python",
   "name": "python3"
  },
  "language_info": {
   "codemirror_mode": {
    "name": "ipython",
    "version": 3
   },
   "file_extension": ".py",
   "mimetype": "text/x-python",
   "name": "python",
   "nbconvert_exporter": "python",
   "pygments_lexer": "ipython3",
   "version": "3.7.12"
  }
 },
 "nbformat": 4,
 "nbformat_minor": 5
}
